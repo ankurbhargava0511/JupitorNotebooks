{
 "cells": [
  {
   "cell_type": "markdown",
   "id": "a82ae1fd-381d-4836-911e-ef7761a2f57e",
   "metadata": {},
   "source": [
    "# Math"
   ]
  },
  {
   "cell_type": "markdown",
   "id": "76f3c431",
   "metadata": {},
   "source": [
    "# Number Theory"
   ]
  },
  {
   "cell_type": "code",
   "execution_count": 1,
   "id": "1a27ec81",
   "metadata": {},
   "outputs": [],
   "source": [
    "# Natural Numbers 1,2 3, 4, 5 => n>=0\n",
    "# Integer : -3,-2,0 ,4,4  => x+(-x) =0\n",
    "# Real Numbers :-2, 1.5, 0, 1.5 ,2, 2.5 => n**2>=0\n",
    "\n",
    "\n",
    "Numbers={\"Complex\":\"\", \n",
    "         \"Real\":{\n",
    "             \"Irrational\":\"\", \n",
    "             \"rational\":{\n",
    "                 \"fraction\":{\n",
    "                     \"proper\":\"\", \n",
    "                     \"improper\":\"\",\n",
    "                     \"fraction\":\"\"\n",
    "                 \"integer\":{\n",
    "                     \"negative\":\"\",\n",
    "                     \"Whole\":{\n",
    "                         \"zero\":\"\",\n",
    "                         \"natural number\":{\n",
    "                             \"One\":\"1\",\n",
    "                             \"prime number\": \"\",\n",
    "                             \"composite number\" :\"\"\n",
    "                         }}}}}}}"
   ]
  },
  {
   "cell_type": "code",
   "execution_count": 13,
   "id": "b3d022da",
   "metadata": {},
   "outputs": [
    {
     "data": {
      "text/plain": [
       "{2, 3, 5, 7, 11, 13, 17, 19, 23, 29}"
      ]
     },
     "execution_count": 13,
     "metadata": {},
     "output_type": "execute_result"
    }
   ],
   "source": [
    "def isPrime(n):\n",
    "    isP=True\n",
    "    for i in range(2,n):\n",
    "        if n%i ==0:\n",
    "            isP=False\n",
    "            break;\n",
    "    return isP\n",
    "\n",
    "\n",
    "def get_first_n_prime_number(n):\n",
    "    pr=set()\n",
    "    i=2\n",
    "    while len(pr)<n:\n",
    "        if isPrime(i):\n",
    "            pr.add(i)\n",
    "        i+=1\n",
    "    return pr\n",
    "\n",
    "get_first_n_prime_number(10)"
   ]
  },
  {
   "cell_type": "markdown",
   "id": "939b2dc5",
   "metadata": {},
   "source": [
    "## Solving equations"
   ]
  },
  {
   "cell_type": "code",
   "execution_count": 109,
   "id": "27749e8f-16b2-4833-9135-b2d70889b4c0",
   "metadata": {
    "tags": []
   },
   "outputs": [
    {
     "name": "stdout",
     "output_type": "stream",
     "text": [
      "[2.0]\n",
      "[2.0, 3.0]\n",
      "[1.0, 2.0, 3.0]\n",
      "[1.0, 2.0, 3.0, 4.0]\n"
     ]
    }
   ],
   "source": [
    "\n",
    "def calc(eq,values):\n",
    "    sym_v=0\n",
    "    if len(values)==0:\n",
    "        sym_v= (eq[1]/eq[0])\n",
    "    else:\n",
    "        total=0\n",
    "        for i in range(len(values)):\n",
    "            #print(eq[i+1],values[i])\n",
    "            total += eq[i+1] * values[i]\n",
    "        #print (total)\n",
    "        #print (eq[-1])\n",
    "        sym_v=(eq[-1]-total)/eq[0]\n",
    "        \n",
    "    arr=[sym_v]\n",
    "    if len(values)>0:\n",
    "        for i in values:\n",
    "            arr.append(i)\n",
    "    return arr\n",
    "        \n",
    "        \n",
    "def eval_variable(equations):\n",
    "    no_of_equa= len(equations)\n",
    "    if no_of_equa ==1:\n",
    "        return calc(equations[0],[])\n",
    "    else:\n",
    "        new_equations=[]\n",
    "        for i in range(1,no_of_equa):\n",
    "            new_equations.append (eliminate_variable (equations[0],equations[i]))\n",
    "        values=eval_variable(new_equations) \n",
    "        return calc(equations[0],values)\n",
    "        \n",
    "\n",
    "def eliminate_variable(eq1, eq2):\n",
    "    new_eq1=[]\n",
    "    new_eq2=[]\n",
    "    \n",
    "    for i in eq1:\n",
    "        new_eq1.append(eq2[0]*i)\n",
    "    for i in eq2:\n",
    "        new_eq2.append(eq1[0]*i)\n",
    "   \n",
    "    sub_eq= []\n",
    "    for item1, item2 in zip(new_eq1, new_eq2):\n",
    "        sub_eq.append( item1 - item2)\n",
    "    \n",
    "    if sub_eq[1:][0]<0:\n",
    "        return [-1* i for i in sub_eq[1:]]   \n",
    "    else:\n",
    "        return  ( sub_eq[1:])\n",
    "    #return new_eq\n",
    "\n",
    "#print(calc([2,3,4,20],[2,3]))         \n",
    "   \n",
    "#eliminate_variable([7,8,38], [8,10,46])\n",
    "#eliminate_variable([2,3,4,20], [3,1,2,11])\n",
    "#eliminate_variable([2,3,4,20], [4,2,3,17])\n",
    "    \n",
    "print(eval_variable([[2,4]])) # 2x =4\n",
    "\n",
    "print(eval_variable([[7,8,38], [8,10,46]])) # 7x+8y =30 and 8x+10y=46\n",
    "print(eval_variable([[2,3,4,20], [3,1,2,11], [4,2,3,17]]))  # 2x+3y+4z =20 and 3x+1y+2z =11 and 4x+2y+3z=17\n",
    "print(eval_variable([[2,3,4,2,28], [3,1,2,1,15], [4,2,3,2,25],[1,1,1,2,14]]))  # 2x+3y+4z =20 and 3x+1y+2z =11 and 4x+2y+3z=17"
   ]
  },
  {
   "cell_type": "markdown",
   "id": "3e2a5d30",
   "metadata": {},
   "source": [
    "## Indices and log"
   ]
  },
  {
   "cell_type": "code",
   "execution_count": 1,
   "id": "84127086",
   "metadata": {},
   "outputs": [],
   "source": [
    "# Indices law\n",
    "\n",
    "# x**2 * x**3= x**(2+3) \n",
    "# x**2 / x**3= x**(2-3) \n",
    "# x**0=1\n",
    "# x** -a= 1/x**a\n",
    "# (x**a)**b= x**ab\n",
    "# x**1/a= a root of x\n",
    "# x** b/a= (a root of x)** b"
   ]
  },
  {
   "cell_type": "code",
   "execution_count": 3,
   "id": "4f9abf90",
   "metadata": {},
   "outputs": [],
   "source": [
    "#Log law\n",
    "\n",
    "# 8=2**3=> log2(8)=3\n",
    "\n",
    "#loga(xy)= loga(x)+ loga(y) => a is base\n",
    "#loga(x/y)= loga(x)- loga(y) => a is base\n",
    "#loga(x**n)= n Loga(x)\n",
    "#loga(1)=0\n",
    "#loga(a)=1\n",
    "#loga(a**n)=n\n",
    "# a** loga(x)=x \n",
    "# if log a b= c then log b a=1/c \n",
    "# log a b= 1/log b a \n",
    "\n",
    "\n",
    "#log x y= log z y/ log z x\n",
    "#log = log of base 10\n",
    "#ln= log of base e , e= 2.718..."
   ]
  },
  {
   "cell_type": "markdown",
   "id": "bc664118",
   "metadata": {},
   "source": [
    "## Set "
   ]
  },
  {
   "cell_type": "code",
   "execution_count": 2,
   "id": "cdbfc340-2e1d-4eb2-87a4-d4add48f7239",
   "metadata": {},
   "outputs": [],
   "source": [
    "# Set \n",
    "# {}\n",
    "# {2,3,{4,5}} where 2 , 3, {4,5} are element of set\n",
    "# Set Contain unorder Unique element {1,2,4} = {4,2,1} or {1,2,3,1} will be equal to {1,2,3}\n",
    "# VxeE , Where e = element of set E and Vx for every element of E\n",
    "# {1,2,3,4,5 } x>0\n",
    "# Set Builder Notation {elements| conditions} example {1,2,,3,4,5| 1<=x<=5}"
   ]
  },
  {
   "cell_type": "code",
   "execution_count": 5,
   "id": "99c2e906",
   "metadata": {},
   "outputs": [],
   "source": [
    "def getset(fx, numStart, numEnd):\n",
    "    myset=set()\n",
    "    for num in range(numStart, numEnd+1):\n",
    "        value=fx(num)\n",
    "        myset.add(value)\n",
    "    return myset"
   ]
  },
  {
   "cell_type": "code",
   "execution_count": 6,
   "id": "24c64640",
   "metadata": {},
   "outputs": [
    {
     "data": {
      "text/plain": [
       "{1, 2, 3, 4, 5}"
      ]
     },
     "execution_count": 6,
     "metadata": {},
     "output_type": "execute_result"
    }
   ],
   "source": [
    "getset(lambda x:x, 1,5)"
   ]
  },
  {
   "cell_type": "code",
   "execution_count": 8,
   "id": "c28d6cab",
   "metadata": {},
   "outputs": [
    {
     "data": {
      "text/plain": [
       "{1,\n",
       " 4,\n",
       " 9,\n",
       " 16,\n",
       " 25,\n",
       " 36,\n",
       " 49,\n",
       " 64,\n",
       " 81,\n",
       " 100,\n",
       " 121,\n",
       " 144,\n",
       " 169,\n",
       " 196,\n",
       " 225,\n",
       " 256,\n",
       " 289,\n",
       " 324,\n",
       " 361,\n",
       " 400}"
      ]
     },
     "execution_count": 8,
     "metadata": {},
     "output_type": "execute_result"
    }
   ],
   "source": [
    "#set of squares\n",
    "getset(lambda x: x*x,1, 20)\n"
   ]
  },
  {
   "cell_type": "code",
   "execution_count": 3,
   "id": "4ad9566b",
   "metadata": {},
   "outputs": [],
   "source": [
    "#Universal Set , All Posible Value\n",
    "SetU={1,2,3,4,5,6,7,8,9}\n"
   ]
  },
  {
   "cell_type": "code",
   "execution_count": 4,
   "id": "775269e1",
   "metadata": {},
   "outputs": [],
   "source": [
    "#Complement of a set. Number in Universal set but no in Set\n",
    "SetA={1,2,3}\n",
    "\n",
    "#Complement of A= A' ={4,5,6,7,8,9} "
   ]
  },
  {
   "cell_type": "code",
   "execution_count": 11,
   "id": "5c1f9d06",
   "metadata": {},
   "outputs": [],
   "source": [
    "\n",
    "def findComplement(setA, setu):\n",
    "    comSet=set()\n",
    "    for i in setu:\n",
    "        if i not in setA:\n",
    "            comSet.add(i)\n",
    "    return comSet"
   ]
  },
  {
   "cell_type": "code",
   "execution_count": 12,
   "id": "0d82b7cc",
   "metadata": {},
   "outputs": [
    {
     "data": {
      "text/plain": [
       "{4, 5, 6, 7, 8, 9}"
      ]
     },
     "execution_count": 12,
     "metadata": {},
     "output_type": "execute_result"
    }
   ],
   "source": [
    "findComplement(SetA,SetU)"
   ]
  },
  {
   "cell_type": "code",
   "execution_count": 13,
   "id": "55dc7fa7",
   "metadata": {},
   "outputs": [
    {
     "data": {
      "text/plain": [
       "3"
      ]
     },
     "execution_count": 13,
     "metadata": {},
     "output_type": "execute_result"
    }
   ],
   "source": [
    "# carndinality = Size of set |p|\n",
    "def findCardinality(s):\n",
    "    return len(s)\n",
    "\n",
    "findCardinality(SetA)"
   ]
  },
  {
   "cell_type": "code",
   "execution_count": 14,
   "id": "19accbef",
   "metadata": {},
   "outputs": [],
   "source": [
    "#equipotent set: related set with same cardinality\n",
    "#equal of identity set: set with same element and cardinality {2,4,5}= {4,5,2}\n",
    "#equivalent Set= same no of element=  {a,b,c,d} {1,2,3,4}"
   ]
  },
  {
   "cell_type": "code",
   "execution_count": null,
   "id": "144bbca1",
   "metadata": {},
   "outputs": [],
   "source": [
    "#Singelton set if only has one element\n",
    "#Null or empty set ={}\n",
    "#finite set- specipic number of element-> Weekday\n",
    "#infinite number of element->{1,2,3,4,5,......} natural number, "
   ]
  },
  {
   "cell_type": "code",
   "execution_count": 21,
   "id": "cdef9b14",
   "metadata": {},
   "outputs": [
    {
     "name": "stdout",
     "output_type": "stream",
     "text": [
      "True\n",
      "False\n",
      "True\n"
     ]
    }
   ],
   "source": [
    "#Subset TcB\n",
    "\n",
    "def isSubset(s1,s2):\n",
    "    is_subset=True\n",
    "    for i in s1:\n",
    "        if i not in s2:\n",
    "            is_subset=False\n",
    "            break;\n",
    "    return is_subset;\n",
    "\n",
    "print(isSubset({1,2}, {1,2,3,4}) )# Proper subset\n",
    "print(isSubset({1,5}, {1,2,3,4}) )\n",
    "print(isSubset({1,2,3,4}, {1,2,3,4}) )# Trivial or improper set\n",
    "            "
   ]
  },
  {
   "cell_type": "code",
   "execution_count": 23,
   "id": "15d62ebe",
   "metadata": {},
   "outputs": [
    {
     "name": "stdout",
     "output_type": "stream",
     "text": [
      "True\n",
      "False\n",
      "True\n"
     ]
    }
   ],
   "source": [
    "#SuperSet T)B\n",
    "\n",
    "def isSuperset(s2,s1):\n",
    "    is_supset=True\n",
    "    for i in s1:\n",
    "        if i not in s2:\n",
    "            is_supset=False\n",
    "            break;\n",
    "    return is_supset;\n",
    "\n",
    "print(isSuperset( {1,2,3,4},{1,2}))# \n",
    "print(isSuperset( {1,2,3,4}, {1,5}))\n",
    "print(isSuperset({1,2,3,4}, {1,2,3,4}) )# \n",
    "            "
   ]
  },
  {
   "cell_type": "code",
   "execution_count": 28,
   "id": "093b63f9",
   "metadata": {},
   "outputs": [
    {
     "data": {
      "text/plain": [
       "{frozenset(),\n",
       " frozenset({3, 4}),\n",
       " frozenset({2}),\n",
       " frozenset({1, 4}),\n",
       " frozenset({3}),\n",
       " frozenset({2, 3}),\n",
       " frozenset({2, 3, 4}),\n",
       " frozenset({1, 2}),\n",
       " frozenset({2, 4}),\n",
       " frozenset({1}),\n",
       " frozenset({1, 2, 4}),\n",
       " frozenset({1, 3}),\n",
       " frozenset({1, 2, 3}),\n",
       " frozenset({4}),\n",
       " frozenset({1, 3, 4}),\n",
       " frozenset({1, 2, 3, 4})}"
      ]
     },
     "execution_count": 28,
     "metadata": {},
     "output_type": "execute_result"
    }
   ],
   "source": [
    "# power set, -> super set all supset\n",
    "#power set element = 2**n where n is number of element in set\n",
    "\n",
    "def getSubSets(s):\n",
    "    pli=[]\n",
    "   \n",
    "    for i in s:\n",
    "        nset=set()\n",
    "        for j in s:\n",
    "            if j != i:\n",
    "                nset.add(j)\n",
    "        if len(nset)>0:\n",
    "            pli.append(frozenset(nset))\n",
    "            newSets=getSubSets(nset)\n",
    "            pli.extend(newSets)  \n",
    "    return pli\n",
    "                \n",
    "def getPowerSet(s):  \n",
    "    pli= getSubSets(s)\n",
    "    pli.append(frozenset())\n",
    "    pli.append(frozenset(s))\n",
    "    pSet=set(pli)\n",
    "    \n",
    "    return pSet\n",
    "    \n",
    "\n",
    "getPowerSet({1,2,3,4})"
   ]
  },
  {
   "cell_type": "code",
   "execution_count": null,
   "id": "a996b462",
   "metadata": {},
   "outputs": [],
   "source": []
  },
  {
   "cell_type": "code",
   "execution_count": 25,
   "id": "b4c4ad1e",
   "metadata": {},
   "outputs": [
    {
     "data": {
      "text/plain": [
       "{1, 2, 3, 4, 5, 6, 7}"
      ]
     },
     "execution_count": 25,
     "metadata": {},
     "output_type": "execute_result"
    }
   ],
   "source": [
    "#Union of Set\n",
    "\n",
    "def setUnion(s1,s2):\n",
    "    uSet=set()\n",
    "    for i in s1:\n",
    "        uSet.add(i)\n",
    "    for i in s2:\n",
    "        uSet.add(i)\n",
    "    return uSet\n",
    "\n",
    "setUnion({1,2,3,4}, {4,5,6,7})"
   ]
  },
  {
   "cell_type": "code",
   "execution_count": 26,
   "id": "7f71a3f6",
   "metadata": {},
   "outputs": [
    {
     "name": "stdout",
     "output_type": "stream",
     "text": [
      "{2, 3}\n",
      "{2, 3, 4}\n",
      "set()\n"
     ]
    }
   ],
   "source": [
    "def setIntersection(s1,s2):\n",
    "    iSet=set()\n",
    "    for i in s1:\n",
    "        if i in s2:\n",
    "            iSet.add(i)\n",
    "    return iSet\n",
    "\n",
    "print(setIntersection({1,2,3},{2,3,4,5}))\n",
    "print(setIntersection({1,2,3,4},{2,3,4,5}))\n",
    "print(setIntersection({1,7,8},{2,3,4,5}))"
   ]
  },
  {
   "cell_type": "code",
   "execution_count": 27,
   "id": "dbbcaaff",
   "metadata": {},
   "outputs": [
    {
     "name": "stdout",
     "output_type": "stream",
     "text": [
      "non disjoint set\n",
      "disjoint set\n"
     ]
    }
   ],
   "source": [
    "def disjointSet(s1,s2):\n",
    "    for i in s1:\n",
    "        if i in s2:\n",
    "            print (\"non disjoint set\")\n",
    "            return;\n",
    "    \n",
    "    print (\"disjoint set\")\n",
    "    \n",
    "disjointSet({1,2,3},{2,3,4,5})\n",
    "disjointSet({1,8,7},{2,3,4,5})\n"
   ]
  },
  {
   "cell_type": "code",
   "execution_count": null,
   "id": "fbfb8ed0",
   "metadata": {},
   "outputs": [],
   "source": [
    "#negative set\n",
    "#-(set of even number)= oddnumber\n",
    "\n",
    "\n",
    "#there exist=> x exist in E for example even in natural number "
   ]
  },
  {
   "cell_type": "code",
   "execution_count": 32,
   "id": "ab059580",
   "metadata": {},
   "outputs": [],
   "source": [
    "# set Difference\n",
    "\n",
    "def getSetdifferenceA_B(A,B):\n",
    "    diff=set()\n",
    "    for i  in A:\n",
    "        if i not in B:\n",
    "            diff.add(i)\n",
    "    return diff\n",
    "\n",
    "def getSetdifferenceb_a(A,B):\n",
    "    diff=set()\n",
    "    for i  in B:\n",
    "        if i not in A:\n",
    "            diff.add(i)\n",
    "    return diff\n",
    "\n",
    "def symmetricDiffwithoutunion(A,B):\n",
    "    diff=set()\n",
    "    for i  in A:\n",
    "        if i not in B:\n",
    "            diff.add(i)\n",
    "    for i  in B:\n",
    "        if i not in A:\n",
    "            diff.add(i)\n",
    "    return diff\n",
    "\n",
    "def symmetricDiffwithunion(A,B):\n",
    "    diffa=getSetdifferenceA_B(A,B)\n",
    "    diffb=getSetdifferenceb_a(A,B)\n",
    "    unionvalue=setUnion(diffa,diffb)\n",
    "    \n",
    "    return unionvalue\n",
    "\n"
   ]
  },
  {
   "cell_type": "code",
   "execution_count": 33,
   "id": "7a357b89",
   "metadata": {},
   "outputs": [
    {
     "name": "stdout",
     "output_type": "stream",
     "text": [
      "set diff a-b {1, 2, 4}\n",
      "set diff b-a {8, 9, 6, 7}\n",
      "symatrict diff {1, 2, 4, 6, 7, 8, 9}\n",
      "symat diff (a-b)U(b-a) {1, 2, 4, 6, 7, 8, 9}\n"
     ]
    }
   ],
   "source": [
    "# set Difference\n",
    "A={1,2,3,4,5}\n",
    "B={3,5,6,7,8,9}\n",
    "print(\"set diff a-b\",getSetdifferenceA_B(A,B))\n",
    "print(\"set diff b-a\",getSetdifferenceb_a(A,B))\n",
    "print(\"symmetric diff\",symmetricDiffwithoutunion(A,B))\n",
    "print(\"symmetric diff (a-b)U(b-a)\",symmetricDiffwithunion(A,B))\n",
    "   \n",
    "\n"
   ]
  },
  {
   "cell_type": "code",
   "execution_count": 38,
   "id": "7f8bd993",
   "metadata": {},
   "outputs": [
    {
     "data": {
      "text/plain": [
       "{(1, 3),\n",
       " (1, 5),\n",
       " (1, 6),\n",
       " (1, 7),\n",
       " (1, 8),\n",
       " (1, 9),\n",
       " (2, 3),\n",
       " (2, 5),\n",
       " (2, 6),\n",
       " (2, 7),\n",
       " (2, 8),\n",
       " (2, 9),\n",
       " (3, 3),\n",
       " (3, 5),\n",
       " (3, 6),\n",
       " (3, 7),\n",
       " (3, 8),\n",
       " (3, 9),\n",
       " (4, 3),\n",
       " (4, 5),\n",
       " (4, 6),\n",
       " (4, 7),\n",
       " (4, 8),\n",
       " (4, 9),\n",
       " (5, 3),\n",
       " (5, 5),\n",
       " (5, 6),\n",
       " (5, 7),\n",
       " (5, 8),\n",
       " (5, 9)}"
      ]
     },
     "execution_count": 38,
     "metadata": {},
     "output_type": "execute_result"
    }
   ],
   "source": [
    "# cartision product\n",
    "\n",
    "A={1,2,3,4,5}\n",
    "B={3,5,6,7,8,9}\n",
    "\n",
    "def cartesionProduct(A,B):\n",
    "    cp=set()\n",
    "    for i in A:\n",
    "        for j in B:\n",
    "            \n",
    "            cp.add((i,j))\n",
    "    return cp\n",
    "cartesionProduct(A,B)\n"
   ]
  },
  {
   "cell_type": "code",
   "execution_count": 38,
   "id": "4a4ef62a",
   "metadata": {},
   "outputs": [
    {
     "name": "stdout",
     "output_type": "stream",
     "text": [
      "aUb :  {1, 2, 3, 4, 5, 6, 7, 8}\n",
      "anb : {4, 5, 6}\n"
     ]
    },
    {
     "ename": "NameError",
     "evalue": "name 'disjoint' is not defined",
     "output_type": "error",
     "traceback": [
      "\u001b[1;31m---------------------------------------------------------------------------\u001b[0m",
      "\u001b[1;31mNameError\u001b[0m                                 Traceback (most recent call last)",
      "Cell \u001b[1;32mIn[38], line 6\u001b[0m\n\u001b[0;32m      4\u001b[0m \u001b[38;5;28mprint\u001b[39m(\u001b[38;5;124m\"\u001b[39m\u001b[38;5;124maUb : \u001b[39m\u001b[38;5;124m\"\u001b[39m,a\u001b[38;5;241m.\u001b[39munion(b))\n\u001b[0;32m      5\u001b[0m \u001b[38;5;28mprint\u001b[39m(\u001b[38;5;124m\"\u001b[39m\u001b[38;5;124manb :\u001b[39m\u001b[38;5;124m\"\u001b[39m,a\u001b[38;5;241m.\u001b[39mintersection(b))\n\u001b[1;32m----> 6\u001b[0m \u001b[38;5;28mprint\u001b[39m(disjoint(a,b))\n",
      "\u001b[1;31mNameError\u001b[0m: name 'disjoint' is not defined"
     ]
    }
   ],
   "source": [
    "#Python Method\n",
    "a={1,2,3,4,5,6}\n",
    "b={4,5,6,7,8}\n",
    "print(\"aUb : \",a.union(b))\n",
    "print(\"anb :\",a.intersection(b))\n",
    "#todo\n",
    "print(disjoint(a,b))"
   ]
  },
  {
   "cell_type": "markdown",
   "id": "289e1af5",
   "metadata": {},
   "source": [
    "# Permutation and combination"
   ]
  },
  {
   "cell_type": "code",
   "execution_count": 39,
   "id": "6a0d2ccd",
   "metadata": {},
   "outputs": [],
   "source": [
    "#factorial n!"
   ]
  },
  {
   "cell_type": "code",
   "execution_count": 40,
   "id": "422749a2",
   "metadata": {},
   "outputs": [],
   "source": [
    "def fact_n(n):\n",
    "    if n<=1:\n",
    "        return 1\n",
    "    else:\n",
    "        return n * fact_n(n-1)"
   ]
  },
  {
   "cell_type": "code",
   "execution_count": 41,
   "id": "489e988b",
   "metadata": {},
   "outputs": [
    {
     "data": {
      "text/plain": [
       "6"
      ]
     },
     "execution_count": 41,
     "metadata": {},
     "output_type": "execute_result"
    }
   ],
   "source": [
    "fact_n(3)"
   ]
  },
  {
   "cell_type": "code",
   "execution_count": 42,
   "id": "246dc75c",
   "metadata": {},
   "outputs": [
    {
     "data": {
      "text/plain": [
       "362880"
      ]
     },
     "execution_count": 42,
     "metadata": {},
     "output_type": "execute_result"
    }
   ],
   "source": [
    "fact_n(9)"
   ]
  },
  {
   "cell_type": "markdown",
   "id": "3f53fa2c",
   "metadata": {},
   "source": [
    "### Permutation => nPr => n!/(n-r)!  arrangement  => AB not equal to BA ---Order matter\n",
    "###  ABC = AB AC BA CA BC CB\n",
    "\n",
    "### Combination => nCr => n!/(n-r)!* r!  selection =>AB=AB -- order does not matter  - Unique\n",
    "###  ABC = AB AC BC\n",
    "\n",
    "### Cyclic Permutaion = (n-1)!\n",
    "\n",
    "### How many x with repetition x*(np1) \n",
    "### How many x without repetition (np1)(n-1p1)....x times \n",
    "\n",
    "\n",
    "### MANGO => 5p1* 4p1*3p1....= 5*4*3*2*1= 5! if And O to be together that is 4! *2\n",
    "### CHEESE -> 5! /3!\n"
   ]
  },
  {
   "cell_type": "code",
   "execution_count": 43,
   "id": "859d3960",
   "metadata": {},
   "outputs": [],
   "source": []
  },
  {
   "cell_type": "markdown",
   "id": "bc768783",
   "metadata": {},
   "source": [
    "# Matricies/ Matrix"
   ]
  },
  {
   "cell_type": "code",
   "execution_count": 15,
   "id": "795f7429",
   "metadata": {},
   "outputs": [],
   "source": [
    "matrix= [[1,2,3],[4,5,6],[7,8,9]]\n",
    "rowM= [[1,2,3]]\n",
    "columnM=[[1],[2],[3]]\n",
    "sqaurematrix= [[1,2],[3,4]] #row number = column number\n",
    "Rectangularmatirx = [[1,2,3],[5,6,7]]\n",
    "diagonalMatrix= [[6,0,0],[0,8,0],[0,0,7]] # allnumber except diagonal are 0\n",
    "scalarMatrix= [[6,0,0],[0,6,0],[0,0,6]] # allnumber except diagonal are 0 and diagonal number are same\n",
    "#zeromatrix/ Null Matrix=[[0,0],[0,0]]\n",
    "#identityMatrix/Unit matrix= [[1,0,0],[0,1,0],[0,0,1]]#scaler matrix where diagonal are 1 also called unit matrix if you multiply it by maxtrix x answer is x\n",
    "singular_matrix =[[1,1,1],[1,1,1],[1,1,1]]\n",
    "#upper triangular [2,4,0],[0,5,6],[0,0,6]\n",
    "#lower traingular\n",
    "#symmetric Matrix = matrix; where matrix = transpose\n",
    "#Skew symentrix matrix = transpose of matrix = negative of matrix.\n",
    "#if determination of matrix =0 its singular matrix\n",
    "# sparse matrix -> most elements are 0\n",
    "# dense matrix-> most elements are non zero\n",
    "# toeplitz= all decending are contant that is same element \n",
    "# decending=>00->22 accending=> 20=>02\n",
    "# Hankel -> all accending elements are constant and is skew [[2,3,4,0],[3,4,0,0],[4,0,0,0]] skew of top left\n",
    "# permuation metrix -[0,1,0],[1,0,0],[0,0,1]  only 1 in every colum ,row\n",
    "# left storchastic matric = sum of row element =1\n",
    "# right storchastic matric = sum of column element =1\n",
    "# equal matrix"
   ]
  },
  {
   "cell_type": "code",
   "execution_count": 52,
   "id": "d8b778e1",
   "metadata": {},
   "outputs": [
    {
     "name": "stdout",
     "output_type": "stream",
     "text": [
      "[[1, 4, 7], [2, 5, 8], [3, 6, 9]]\n"
     ]
    }
   ],
   "source": [
    "# Transpose of a matrix row become column and column become row\n",
    "\n",
    "def transposeMatrix(m):\n",
    "\n",
    "    rows= len(m)\n",
    "    columns= len(m[0])\n",
    "    \n",
    "    tmatrix = [ [ 0 for i in range(rows) ] for j in range(columns) ]\n",
    "    for i in range(rows):\n",
    "        for j in range(columns):\n",
    "            tmatrix[j][i]=m[i][j]\n",
    "    return tmatrix\n",
    "    \n",
    "\n",
    "print(transposeMatrix(matrix))"
   ]
  },
  {
   "cell_type": "code",
   "execution_count": 5,
   "id": "00fb132b",
   "metadata": {},
   "outputs": [],
   "source": [
    "matrix_a=[[1,2,3],[1,2,3],[1,2,3]]\n",
    "matrix_b=[[6,2,3],[1,6,3],[8,2,9]]"
   ]
  },
  {
   "cell_type": "code",
   "execution_count": 6,
   "id": "1dd6fa03",
   "metadata": {},
   "outputs": [],
   "source": [
    "def addmatrix(m1,m2):\n",
    "    rows= len(m1)\n",
    "    columns= len(m1[0])\n",
    "    \n",
    "    tmatrix = [ [ 0 for i in range(columns) ] for j in range(rows) ]\n",
    "    \n",
    "    for i in range(rows):\n",
    "        for j in range(columns):\n",
    "            tmatrix[i][j]=m1[i][j]+m2[i][j]\n",
    "            \n",
    "    return tmatrix\n",
    "            "
   ]
  },
  {
   "cell_type": "code",
   "execution_count": 7,
   "id": "09a336a5",
   "metadata": {},
   "outputs": [],
   "source": [
    "def submatrix(m1,m2):\n",
    "    rows= len(m1)\n",
    "    columns= len(m1[0])\n",
    "    \n",
    "    tmatrix = [ [ 0 for i in range(columns) ] for j in range(rows) ]\n",
    "    \n",
    "    for i in range(rows):\n",
    "        for j in range(columns):\n",
    "            tmatrix[i][j]=m1[i][j]-m2[i][j]\n",
    "            \n",
    "    return tmatrix\n",
    "            "
   ]
  },
  {
   "cell_type": "code",
   "execution_count": 8,
   "id": "20c3fc0b",
   "metadata": {},
   "outputs": [
    {
     "data": {
      "text/plain": [
       "[[7, 4, 6], [2, 8, 6], [9, 4, 12]]"
      ]
     },
     "execution_count": 8,
     "metadata": {},
     "output_type": "execute_result"
    }
   ],
   "source": [
    "addmatrix(matrix_a,matrix_b)"
   ]
  },
  {
   "cell_type": "code",
   "execution_count": 9,
   "id": "bce62908",
   "metadata": {},
   "outputs": [
    {
     "data": {
      "text/plain": [
       "[[-5, 0, 0], [0, -4, 0], [-7, 0, -6]]"
      ]
     },
     "execution_count": 9,
     "metadata": {},
     "output_type": "execute_result"
    }
   ],
   "source": [
    "submatrix(matrix_a,matrix_b)"
   ]
  },
  {
   "cell_type": "code",
   "execution_count": 44,
   "id": "db60e904",
   "metadata": {},
   "outputs": [
    {
     "data": {
      "text/plain": [
       "[[-1, -2], [-3, -4]]"
      ]
     },
     "execution_count": 44,
     "metadata": {},
     "output_type": "execute_result"
    }
   ],
   "source": [
    "def negative_of_matrix(m):\n",
    "    rows= len(m)\n",
    "    columns= len(m[0])\n",
    "    \n",
    "    tmatrix = [ [ 0 for i in range(columns) ] for j in range(rows) ]\n",
    "    for i in range(rows):\n",
    "        for j in range(columns):\n",
    "            tmatrix[i][j]=-1*m[i][j]\n",
    "    return tmatrix\n",
    "\n",
    "negative_of_matrix([[1,2],[3,4]])"
   ]
  },
  {
   "cell_type": "code",
   "execution_count": 9,
   "id": "ba65a418",
   "metadata": {},
   "outputs": [
    {
     "data": {
      "text/plain": [
       "[[8, 12], [16, 20]]"
      ]
     },
     "execution_count": 9,
     "metadata": {},
     "output_type": "execute_result"
    }
   ],
   "source": [
    "# matrix multiplication \n",
    "# scalar multiplication => multiple matrix by contant\n",
    "\n",
    "def scalarmult(matrix,scalar):\n",
    "    \n",
    "    return [ [i*scalar for i in j] for j in matrix]\n",
    "\n",
    "\n",
    "mat=[[2,3],[4,5]]\n",
    "scalar=4\n",
    "\n",
    "scalarmult(mat, scalar)"
   ]
  },
  {
   "cell_type": "code",
   "execution_count": null,
   "id": "5170ee39",
   "metadata": {},
   "outputs": [],
   "source": [
    "#Convert expession into matrix\n",
    "#2x+y=6 and 3x +2y=8 => [[2, 1][3,2]]* [x, y]= [6,8]"
   ]
  },
  {
   "cell_type": "code",
   "execution_count": 28,
   "id": "72d1396e",
   "metadata": {},
   "outputs": [],
   "source": [
    "# two matrix-> you can multiple matrix when rows of matrix1 equal to columns of matrix 2\n",
    "# rule => m1 row 1 element(n) =>0 to n-1 => sum((i, n) * (n,j))\n",
    "\n",
    "def matrixmul(m1,m2):\n",
    "    rows= len(m1)\n",
    "    columns= len(m2[0])\n",
    "    tmatrix = [ [ 0 for i in range(columns) ] for j in range(rows) ]\n",
    "    \n",
    "    for i in range(rows):\n",
    "        for j in range(columns):\n",
    "            val=0\n",
    "            for k in range(len(m1[0])):\n",
    "                val +=( m1[i][k] * m2[k][j])\n",
    "            print     \n",
    "            tmatrix[i][j]=val\n",
    "    return tmatrix       "
   ]
  },
  {
   "cell_type": "code",
   "execution_count": 33,
   "id": "8b1020fb",
   "metadata": {},
   "outputs": [
    {
     "data": {
      "text/plain": [
       "[[140, 146], [320, 335]]"
      ]
     },
     "execution_count": 33,
     "metadata": {},
     "output_type": "execute_result"
    }
   ],
   "source": [
    "#matrixmul([[1,2,3],[0,2,1],[1,2,5]], [[1,0],[0,1],[2,1]])\n",
    "#matrixmul([[1,0],[2,3]], [[1,1],[-1,2]])\n",
    "#matrixmul([[1,2,3],[3,4,2],[3,2,1]], [[1,1,1],[3,4,2],[3,2,1]])\n",
    "matrixmul([[1,2,3],[4,5,6]], [[10,11],[20,21],[30,31]])\n"
   ]
  },
  {
   "cell_type": "code",
   "execution_count": 39,
   "id": "b5fb7e6e",
   "metadata": {},
   "outputs": [
    {
     "data": {
      "text/plain": [
       "[[33, 39, 33], [72, 87, 78], [92, 115, 114]]"
      ]
     },
     "execution_count": 39,
     "metadata": {},
     "output_type": "execute_result"
    }
   ],
   "source": [
    "def matrixSq(m):\n",
    "    return matrixmul(m,m)\n",
    "matrixSq([[1,2,3],[4,5,6],[8,9,6]])"
   ]
  },
  {
   "cell_type": "code",
   "execution_count": 5,
   "id": "4a7360df",
   "metadata": {},
   "outputs": [],
   "source": [
    "# place sign [ [2,3,4],[6,8,7],[1,2,3]] =>[[+,-,+],[-,+,-],[+,-,+]]\n",
    "# minor =0,0= [[8,7],[2,3]] = 8*3 -7*2=10\n",
    "# cofactor= 24-14=10 *placesign\n",
    "# adjoint of matrix=transpose of(cofactor of each element)\n",
    "# inverse of matrix = ajoint of matrix/ determinant\n",
    "# determinant= Sum(row one value* cofactor with sign)\n"
   ]
  },
  {
   "cell_type": "code",
   "execution_count": 62,
   "id": "12a0b254",
   "metadata": {},
   "outputs": [],
   "source": [
    "#matrix determinant\n",
    "def mat_determination(m):\n",
    "    rows= len(m)\n",
    "    columns=len(m[0])\n",
    "    \n",
    "    det=0\n",
    "    ispositive=True\n",
    "    tmatrx_r=0\n",
    "    tmatrx_c=0\n",
    "    if rows==2:\n",
    "        det=m[0][0]* m[1][1]- m[0][1]* m[1][0]\n",
    "        \n",
    "    else :\n",
    "        \n",
    "        for k in range(columns): \n",
    "            tmatrix = [ [ 0 for i in range(columns-1) ] for j in range(rows-1) ]\n",
    "            for i in range(1, rows):\n",
    "                for j in range(columns):\n",
    "                    if j != k:\n",
    "                        tmatrix[tmatrx_r][tmatrx_c]= m[i][j]\n",
    "                        tmatrx_c +=1\n",
    "                tmatrx_c=0\n",
    "                tmatrx_r +=1\n",
    "            \n",
    "            tmatrx_c = 0\n",
    "            tmatrx_r = 0           \n",
    "            if ispositive:\n",
    "                det += m[0][k]* mat_determination(tmatrix) \n",
    "            else:\n",
    "                det -= m[0][k]* mat_determination(tmatrix) \n",
    "            #print (tmatrix)\n",
    "           \n",
    "            #print (ispositive)\n",
    "            ispositive = not ispositive    \n",
    "    \n",
    "    \n",
    "    return det\n",
    "    \n",
    "#matrix=[[4,2],[2,2]]  \n",
    "#matrix= [[6,3,1],[1,2,0],[2,4,2]]\n",
    "#matrix=[[4,4],[4,4]]  \n",
    "#matrix= [[5,2,1],[0,6,3],[8,4,7]]\n",
    "#mat_determination(matrix)\n",
    "#mat_determination(singular_matrix) #detrminant of singular matrix is 0"
   ]
  },
  {
   "cell_type": "code",
   "execution_count": null,
   "id": "59d7b2d2",
   "metadata": {},
   "outputs": [],
   "source": []
  },
  {
   "cell_type": "code",
   "execution_count": 55,
   "id": "67c654b4",
   "metadata": {},
   "outputs": [
    {
     "data": {
      "text/plain": [
       "[[150, 48, -48], [0, 162, -12], [0, -60, 210]]"
      ]
     },
     "execution_count": 55,
     "metadata": {},
     "output_type": "execute_result"
    }
   ],
   "source": [
    "# inverse of matrix \n",
    "# place sign [ [2,3,4],[6,8,7],[1,2,3]] =>[[+,-,+],[-,+,-],[+,-,+]]\n",
    "# minor =0,0= [[8,7],[2,3]] = 8*3 -7*2=10\n",
    "# cofactor= 24-14=10 *placesign\n",
    "# adjoint of matrix=transpose of(cofactor of each element)\n",
    "# inverse of matrix = ajoint of matrix/ determinant\n",
    "# determinant= Sum(row one value* cofactor with sign)\n",
    "\n",
    "\n",
    "def getPlaceSign(matrix, index_i,index_j):\n",
    "    isPositive=True\n",
    "    \n",
    "    rows= len(matrix)\n",
    "    columns= len(matrix[0])\n",
    "    \n",
    "    for i in range(rows):\n",
    "        for j in range(columns):\n",
    "            if i == index_i and j== index_j:\n",
    "                return isPositive\n",
    "            else:\n",
    "                isPositive = not isPositive\n",
    "    return isPositive\n",
    "    \n",
    "def get_minor(matrix, index_i,index_j):\n",
    "    rows= len(matrix)\n",
    "    columns= len(matrix[0])\n",
    "    tmatrx_r=0\n",
    "    tmatrx_c=0\n",
    "    tmatrix = [ [ 0 for i in range(columns-1) ] for j in range(rows-1) ]\n",
    "    for i in range(rows):\n",
    "        for j in range(columns):\n",
    "            if i == index_i or j== index_j:\n",
    "                continue\n",
    "            else:\n",
    "                #print(i,j)\n",
    "                #print(tmatrx_r,tmatrx_c)\n",
    "                tmatrix[tmatrx_r][tmatrx_c]= matrix[i][j]\n",
    "                tmatrx_c +=1    \n",
    "        tmatrx_c = 0\n",
    "        if i == index_i :\n",
    "            continue\n",
    "        else:\n",
    "            tmatrx_r += 1  \n",
    "    return  tmatrix[0][0]* tmatrix[1][1]- tmatrix[0][1]* tmatrix[1][0] \n",
    "\n",
    "def confactor_matrix(matrix):\n",
    "    rows= len(matrix)\n",
    "    columns= len(matrix[0])\n",
    "    cofactor= 0\n",
    "    tmatrix = [ [ 0 for i in range(columns) ] for j in range(rows) ]\n",
    "    for i in range(rows):\n",
    "        for j in range(columns):\n",
    "            sign=getPlaceSign(mat, i,j)\n",
    "            if sign:\n",
    "                tmatrix[i][j]= (1* matrix[i][j] * get_minor(mat, i,j))\n",
    "                #cofactor= matrix[i][j] * get_minor(mat, i,j)\n",
    "            else:\n",
    "                tmatrix[i][j]=  (-1* matrix[i][j] * get_minor(mat, i,j))\n",
    "    return tmatrix\n",
    "    \n",
    "mat= [[5,2,1],[0,6,3],[8,4,7]] \n",
    "\n",
    "#getPlaceSign(mat, 1,0)  \n",
    "#get_minor(mat, 2,2)  \n",
    "#confactor_matrix(mat)\n",
    "\n",
    " # to find inverse= transpose (confactor_matrix(mat))/ mat_determination(mat)\n",
    "\n",
    "\n"
   ]
  },
  {
   "cell_type": "code",
   "execution_count": 67,
   "id": "68568cb4",
   "metadata": {},
   "outputs": [],
   "source": [
    "# cramer's rule\n",
    "'''\n",
    "equation \n",
    "x+y+z= a\n",
    "x+y+z= a\n",
    "x+y+z= a\n",
    "\n",
    "x = determminant of(a,y,z)/(determinant(x,y,z)\n",
    "same way y and z by subsituting y and z\n",
    "'''\n",
    "equations=[[2,-1,5,27],[3,-2,1,-3],[4,3,2,24]]\n",
    "\n",
    "def solve_equation_carmers(equations):\n",
    "    rows=len(equations)\n",
    "    columns= len(equations[0])\n",
    "    matrix = [ [ 0 for i in range(columns-1) ] for j in range(rows) ]    \n",
    "    matrix_xyz=[]\n",
    "    for i in range(rows):\n",
    "        matrix_xyz.append( [ [ 0 for i in range(columns-1) ] for j in range(rows) ]   )\n",
    "    for k in range(len(matrix_xyz)):\n",
    "        for i in range(rows):\n",
    "            for j in range(columns-1):\n",
    "                matrix[i][j]=equations[i][j]\n",
    "                if k==j:\n",
    "                    matrix_xyz[k][i][j]=equations[i][columns-1]\n",
    "                else:\n",
    "                    matrix_xyz[k][i][j]=equations[i][j]\n",
    "                    \n",
    "            \n",
    "    value=[]\n",
    "    for mat in matrix_xyz:\n",
    "        #print (mat)\n",
    "        #print(mat_determination(mat))\n",
    "        #print(mat_determination(matrix))\n",
    "        value.append(mat_determination(mat)/mat_determination(matrix))\n",
    "    #print (value)\n",
    "    #print (matrix_xyz)\n",
    "    #print(matrix)\n",
    "    \n",
    "solve_equation_carmers(equations) \n",
    "                            \n",
    "                            "
   ]
  },
  {
   "cell_type": "markdown",
   "id": "48a36368",
   "metadata": {},
   "source": [
    "# Statistics"
   ]
  },
  {
   "cell_type": "code",
   "execution_count": 13,
   "id": "a3136ab6",
   "metadata": {},
   "outputs": [],
   "source": [
    "# Raw Data -unprocess data\n",
    "# Population - total \n",
    "# Sample - small sample from population\n",
    "# Frequency"
   ]
  },
  {
   "cell_type": "code",
   "execution_count": 16,
   "id": "13726a2d",
   "metadata": {},
   "outputs": [
    {
     "name": "stdout",
     "output_type": "stream",
     "text": [
      "4\n",
      "3\n"
     ]
    }
   ],
   "source": [
    "# Calculate Frequency of x in sample\n",
    "\n",
    "sample=[4,5,6,7,7,8,3,5,6,7,7,3,2,2,2,5,6]\n",
    "def find_frequency(sample, value):\n",
    "    freq=0\n",
    "    for i in sample:\n",
    "        if i == value:\n",
    "            freq +=1\n",
    "    print(freq)\n",
    "\n",
    "find_frequency(sample, 7) #4\n",
    "find_frequency(sample, 2) #3"
   ]
  },
  {
   "cell_type": "code",
   "execution_count": 21,
   "id": "7d7ad5d8",
   "metadata": {},
   "outputs": [
    {
     "name": "stdout",
     "output_type": "stream",
     "text": [
      "4.0\n"
     ]
    }
   ],
   "source": [
    "# Mean = Average\n",
    "#sample=[4,5,6,7,7,8,3,5,6,7,7,3,2,2,2,5,6]\n",
    "sample=[2,6]\n",
    "def mean(sample):\n",
    "    total=0\n",
    "    count=0\n",
    "    for i in sample:\n",
    "        total +=i\n",
    "        count +=1\n",
    "    mean= total/count\n",
    "    return mean\n",
    "\n",
    "print(mean(sample))"
   ]
  },
  {
   "cell_type": "code",
   "execution_count": 12,
   "id": "2412a033",
   "metadata": {},
   "outputs": [
    {
     "data": {
      "text/plain": [
       "7.636363636363637"
      ]
     },
     "execution_count": 12,
     "metadata": {},
     "output_type": "execute_result"
    }
   ],
   "source": [
    "# Weighted Mean Sum(x*w)/Sum(w)\n",
    "\n",
    "sample=[(6,2),(8,3),(9,4),(6,2)]\n",
    "\n",
    "def weighted_mean(sample):\n",
    "    total=0\n",
    "    weight=0\n",
    "    for i in sample:\n",
    "        total += i[0]*i[1]\n",
    "        weight +=i[1]\n",
    "    w_mean= total/weight\n",
    "    return w_mean\n",
    "\n",
    "weighted_mean(sample)"
   ]
  },
  {
   "cell_type": "code",
   "execution_count": 26,
   "id": "07d86e4d",
   "metadata": {},
   "outputs": [
    {
     "name": "stdout",
     "output_type": "stream",
     "text": [
      "3\n",
      "[1, 2, 3, 4, 6, 9]\n",
      "3.5\n"
     ]
    },
    {
     "data": {
      "text/plain": [
       "3.5"
      ]
     },
     "execution_count": 26,
     "metadata": {},
     "output_type": "execute_result"
    }
   ],
   "source": [
    "import math\n",
    "def median(sample):\n",
    "    sort_sample=sorted(sample)\n",
    "    is_even=len(sample)%2==0\n",
    "    if is_even:\n",
    "        mid= int(len(sample)/2)\n",
    "        medan= (sort_sample[mid-1] + sort_sample[mid])/2\n",
    "    else:\n",
    "        mid=int(math.ceil(len(sample)/2))\n",
    "        medan= sort_sample[mid-1]\n",
    "    #print(mid)\n",
    "    #print (sort_sample)\n",
    "    #print (medan)\n",
    "    return medan\n",
    "\n",
    "\n",
    "median([3,6,9,4,2,1])"
   ]
  },
  {
   "cell_type": "code",
   "execution_count": 21,
   "id": "07b49385",
   "metadata": {},
   "outputs": [
    {
     "data": {
      "text/plain": [
       "5"
      ]
     },
     "execution_count": 21,
     "metadata": {},
     "output_type": "execute_result"
    }
   ],
   "source": [
    "# Median frequency -> Sum(fq)=> sum(fq)/2 else (sum(fq)+1)/2 and find where it is less in frequency\n",
    "\n",
    "\n",
    "\n",
    "def median_frequency(values):\n",
    "    sumf= 0\n",
    "    for val in values:\n",
    "        sumf +=val[1]\n",
    "    ex_fq=0\n",
    "    if sumf % 2==0:\n",
    "        ex_fq=sumf / 2\n",
    "    else:\n",
    "        ex_fq= (sumf +1)/2\n",
    "    sum_t=0 \n",
    "    counter=0\n",
    "    med_feq=0\n",
    "    #print (ex_fq)\n",
    "    #print (sum_t)\n",
    "    #print (med_feq)\n",
    "    while sum_t < ex_fq:\n",
    "        sum_t +=values[counter][1]\n",
    "        med_feq=values[counter][0]\n",
    "        counter +=1\n",
    "        #print (sum_t)\n",
    "        #print (med_feq)\n",
    "    return med_feq\n",
    "\n",
    "#values= [(5,7), (6,21),(7,12),(8,10),(9,8),(10,2)]\n",
    "values= [(0,2), (1,0),(2,0),(3,2),(4,3),(5,6),(6,3),(7,2),(8,2),(9,1),(10,0)]\n",
    "median_frequency(values)\n",
    "        \n"
   ]
  },
  {
   "cell_type": "code",
   "execution_count": null,
   "id": "eab3db00",
   "metadata": {},
   "outputs": [],
   "source": [
    "#Mode => in the sequency , the value with mode frequency is mode"
   ]
  },
  {
   "cell_type": "code",
   "execution_count": null,
   "id": "73c4be0a",
   "metadata": {},
   "outputs": [],
   "source": []
  },
  {
   "cell_type": "code",
   "execution_count": 89,
   "id": "050c2a98",
   "metadata": {},
   "outputs": [
    {
     "name": "stdout",
     "output_type": "stream",
     "text": [
      "None\n"
     ]
    }
   ],
   "source": []
  },
  {
   "cell_type": "code",
   "execution_count": null,
   "id": "c2897461",
   "metadata": {},
   "outputs": [],
   "source": []
  }
 ],
 "metadata": {
  "kernelspec": {
   "display_name": "Python 3 (ipykernel)",
   "language": "python",
   "name": "python3"
  },
  "language_info": {
   "codemirror_mode": {
    "name": "ipython",
    "version": 3
   },
   "file_extension": ".py",
   "mimetype": "text/x-python",
   "name": "python",
   "nbconvert_exporter": "python",
   "pygments_lexer": "ipython3",
   "version": "3.11.3"
  }
 },
 "nbformat": 4,
 "nbformat_minor": 5
}
