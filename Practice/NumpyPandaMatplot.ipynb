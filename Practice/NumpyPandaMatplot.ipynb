{
 "cells": [
  {
   "cell_type": "markdown",
   "id": "5ced2ecf",
   "metadata": {},
   "source": [
    "# Numpy"
   ]
  },
  {
   "cell_type": "code",
   "execution_count": 1,
   "id": "988a58e8",
   "metadata": {
    "tags": []
   },
   "outputs": [],
   "source": [
    "import numpy as np"
   ]
  },
  {
   "cell_type": "code",
   "execution_count": 2,
   "id": "c8e9b890",
   "metadata": {},
   "outputs": [],
   "source": [
    "# Numpy is for array-> data of same type\n",
    "# Type -> Single dimention and multi dimensional array"
   ]
  },
  {
   "cell_type": "code",
   "execution_count": 4,
   "id": "811c83f8",
   "metadata": {},
   "outputs": [
    {
     "name": "stdout",
     "output_type": "stream",
     "text": [
      "2\n",
      "5\n"
     ]
    }
   ],
   "source": [
    "arr=np.array([[1,2,3],[4,5,6]])\n",
    "print(arr.ndim)\n",
    "print(arr[1][1])"
   ]
  },
  {
   "cell_type": "code",
   "execution_count": 6,
   "id": "6d8c4824",
   "metadata": {},
   "outputs": [
    {
     "data": {
      "text/plain": [
       "numpy.ndarray"
      ]
     },
     "execution_count": 6,
     "metadata": {},
     "output_type": "execute_result"
    }
   ],
   "source": [
    "type(a)"
   ]
  },
  {
   "cell_type": "markdown",
   "id": "fb339d3d",
   "metadata": {},
   "source": [
    "## Types of Array\n",
    "#### Scalar = 0 Dimension , Rank=0\n",
    "#### Vector = 1 Dimension , Rank=1\n",
    "#### Matrix = 2 Dimension , Rank=2\n",
    "#### Tensor = 3 or more Dimension , Rank=3"
   ]
  },
  {
   "cell_type": "code",
   "execution_count": 8,
   "id": "0cd81466",
   "metadata": {},
   "outputs": [
    {
     "data": {
      "text/plain": [
       "0"
      ]
     },
     "execution_count": 8,
     "metadata": {},
     "output_type": "execute_result"
    }
   ],
   "source": [
    "scalar=np.array(1)\n",
    "scalar.ndim"
   ]
  },
  {
   "cell_type": "code",
   "execution_count": 9,
   "id": "f2d38999",
   "metadata": {},
   "outputs": [
    {
     "data": {
      "text/plain": [
       "1"
      ]
     },
     "execution_count": 9,
     "metadata": {},
     "output_type": "execute_result"
    }
   ],
   "source": [
    "vector=np.array([1,2,3])\n",
    "vector.ndim"
   ]
  },
  {
   "cell_type": "code",
   "execution_count": 10,
   "id": "e9b3984d",
   "metadata": {},
   "outputs": [
    {
     "data": {
      "text/plain": [
       "2"
      ]
     },
     "execution_count": 10,
     "metadata": {},
     "output_type": "execute_result"
    }
   ],
   "source": [
    "matrix=np.array([[1,2,3],[1,2,3],[1,2,3]])\n",
    "matrix.ndim"
   ]
  },
  {
   "cell_type": "code",
   "execution_count": 11,
   "id": "f6ec9f57",
   "metadata": {},
   "outputs": [
    {
     "data": {
      "text/plain": [
       "3"
      ]
     },
     "execution_count": 11,
     "metadata": {},
     "output_type": "execute_result"
    }
   ],
   "source": [
    "tensor=np.array([[[1,2,3],[1,2,3],[1,2,3]],[[1,2,3],[1,2,3],[1,2,3]],[[1,2,3],[1,2,3],[1,2,3]]])\n",
    "tensor.ndim"
   ]
  },
  {
   "cell_type": "code",
   "execution_count": 12,
   "id": "cfa29164",
   "metadata": {},
   "outputs": [
    {
     "name": "stdout",
     "output_type": "stream",
     "text": [
      "[[[1 2 3]\n",
      "  [1 2 3]\n",
      "  [1 2 3]]\n",
      "\n",
      " [[1 2 3]\n",
      "  [1 2 3]\n",
      "  [1 2 3]]\n",
      "\n",
      " [[1 2 3]\n",
      "  [1 2 3]\n",
      "  [1 2 3]]]\n"
     ]
    }
   ],
   "source": [
    "print (tensor) # as its an array you will not see comma's because its an array not list"
   ]
  },
  {
   "cell_type": "code",
   "execution_count": 13,
   "id": "01b89d2a",
   "metadata": {},
   "outputs": [
    {
     "name": "stdout",
     "output_type": "stream",
     "text": [
      "[1 2 3 4]\n",
      "[1 2 3 4]\n"
     ]
    }
   ],
   "source": [
    "# Creating array\n",
    "l_array= np.array([1,2,3,4]) # from list\n",
    "l_tuple= np.array((1,2,3,4)) # from tuple\n",
    "print(l_array)\n",
    "print(l_tuple)"
   ]
  },
  {
   "cell_type": "markdown",
   "id": "3b2f48fd",
   "metadata": {},
   "source": [
    "#### Data type"
   ]
  },
  {
   "cell_type": "code",
   "execution_count": 18,
   "id": "c55dbe6a",
   "metadata": {},
   "outputs": [
    {
     "data": {
      "text/plain": [
       "dtype('int32')"
      ]
     },
     "execution_count": 18,
     "metadata": {},
     "output_type": "execute_result"
    }
   ],
   "source": [
    "int_array=np.array([1,2,3])\n",
    "int_array.dtype"
   ]
  },
  {
   "cell_type": "code",
   "execution_count": 16,
   "id": "bd8365d4",
   "metadata": {},
   "outputs": [
    {
     "data": {
      "text/plain": [
       "dtype('float64')"
      ]
     },
     "execution_count": 16,
     "metadata": {},
     "output_type": "execute_result"
    }
   ],
   "source": [
    "float_array=np.array([1.1,2,3])\n",
    "float_array.dtype"
   ]
  },
  {
   "cell_type": "code",
   "execution_count": 17,
   "id": "c66e73dd",
   "metadata": {},
   "outputs": [
    {
     "data": {
      "text/plain": [
       "dtype('<U5')"
      ]
     },
     "execution_count": 17,
     "metadata": {},
     "output_type": "execute_result"
    }
   ],
   "source": [
    "string_array=np.array([\"test\",\"test1\"])\n",
    "string_array.dtype"
   ]
  },
  {
   "cell_type": "code",
   "execution_count": 21,
   "id": "f46a5657",
   "metadata": {},
   "outputs": [
    {
     "data": {
      "text/plain": [
       "dtype('float64')"
      ]
     },
     "execution_count": 21,
     "metadata": {},
     "output_type": "execute_result"
    }
   ],
   "source": [
    "#forcing datatype\n",
    "int_array_f=np.array([1,2,3], dtype=float)\n",
    "int_array_f.dtype"
   ]
  },
  {
   "cell_type": "code",
   "execution_count": 22,
   "id": "dfc9d874",
   "metadata": {},
   "outputs": [
    {
     "data": {
      "text/plain": [
       "dtype('float32')"
      ]
     },
     "execution_count": 22,
     "metadata": {},
     "output_type": "execute_result"
    }
   ],
   "source": [
    "int_array_f3=np.array([1,2,3], dtype=np.float32)\n",
    "int_array_f3.dtype"
   ]
  },
  {
   "cell_type": "code",
   "execution_count": 36,
   "id": "cfc3390e",
   "metadata": {},
   "outputs": [
    {
     "data": {
      "text/plain": [
       "dtype('<m8')"
      ]
     },
     "execution_count": 36,
     "metadata": {},
     "output_type": "execute_result"
    }
   ],
   "source": [
    "#dtype= i1,i2,i3,i4,f2,f4,f8,u(unsign), c(complex),U(unicode),S(string),m,M(datetime)\n",
    "int_array_type=np.array([1,2,3], dtype='m')\n",
    "int_array_type.dtype\n"
   ]
  },
  {
   "cell_type": "code",
   "execution_count": 40,
   "id": "fae63742",
   "metadata": {},
   "outputs": [
    {
     "name": "stdout",
     "output_type": "stream",
     "text": [
      "[0.]\n",
      "[0. 0.]\n",
      "[[0. 0.]\n",
      " [0. 0.]]\n",
      "[[0. 0. 0.]\n",
      " [0. 0. 0.]\n",
      " [0. 0. 0.]]\n"
     ]
    }
   ],
   "source": [
    "#array of zeros\n",
    "zero_arr1=np.zeros((1))\n",
    "print(zero_arr1)\n",
    "zero_arr2=np.zeros((2))\n",
    "print(zero_arr2)\n",
    "zero_arr2_2=np.zeros((2,2))\n",
    "print(zero_arr2_2)\n",
    "zero_arr3_3=np.zeros((3,3))\n",
    "print(zero_arr3_3)"
   ]
  },
  {
   "cell_type": "code",
   "execution_count": 41,
   "id": "69395108",
   "metadata": {},
   "outputs": [
    {
     "name": "stdout",
     "output_type": "stream",
     "text": [
      "[1.]\n",
      "[1. 1.]\n",
      "[[1. 1.]\n",
      " [1. 1.]]\n",
      "[[1. 1. 1.]\n",
      " [1. 1. 1.]\n",
      " [1. 1. 1.]]\n"
     ]
    }
   ],
   "source": [
    "#array of ones\n",
    "one_arr1=np.ones((1))\n",
    "print(one_arr1)\n",
    "one_arr2=np.ones((2))\n",
    "print(one_arr2)\n",
    "one_arr2_2=np.ones((2,2))\n",
    "print(one_arr2_2)\n",
    "one_arr3_3=np.ones((3,3))\n",
    "print(one_arr3_3)"
   ]
  },
  {
   "cell_type": "code",
   "execution_count": 42,
   "id": "97e1f4cd",
   "metadata": {},
   "outputs": [
    {
     "name": "stdout",
     "output_type": "stream",
     "text": [
      "[4.9e-324 9.9e-324 1.5e-323]\n"
     ]
    }
   ],
   "source": [
    "#empty array - empty array is faster then zero\n",
    "empty_arr1=np.empty((3))\n",
    "print(empty_arr1)\n"
   ]
  },
  {
   "cell_type": "code",
   "execution_count": 44,
   "id": "5b4c4c23",
   "metadata": {},
   "outputs": [
    {
     "data": {
      "text/plain": [
       "array([2, 3, 4, 5, 6, 7])"
      ]
     },
     "execution_count": 44,
     "metadata": {},
     "output_type": "execute_result"
    }
   ],
   "source": [
    "#arange: array of data with range n to m with step\n",
    "\n",
    "arr_array=np.arange(2,8)\n",
    "arr_array"
   ]
  },
  {
   "cell_type": "code",
   "execution_count": 45,
   "id": "c8451b2c",
   "metadata": {},
   "outputs": [
    {
     "data": {
      "text/plain": [
       "array([2, 4, 6])"
      ]
     },
     "execution_count": 45,
     "metadata": {},
     "output_type": "execute_result"
    }
   ],
   "source": [
    "\n",
    "arr_array1=np.arange(2,8,2)\n",
    "arr_array1"
   ]
  },
  {
   "cell_type": "code",
   "execution_count": 48,
   "id": "29c34d5a",
   "metadata": {},
   "outputs": [
    {
     "data": {
      "text/plain": [
       "array([2. , 3.5, 5. , 6.5, 8. ])"
      ]
     },
     "execution_count": 48,
     "metadata": {},
     "output_type": "execute_result"
    }
   ],
   "source": [
    "#linespace arrange of eqaulity divided number from n to m with x number\n",
    "arr_linspace =np.linspace(2,8,num=5)\n",
    "arr_linspace"
   ]
  },
  {
   "cell_type": "code",
   "execution_count": 50,
   "id": "d2e94642",
   "metadata": {},
   "outputs": [
    {
     "data": {
      "text/plain": [
       "array([11., 12., 13., 14., 15., 16., 17., 18., 19., 20.])"
      ]
     },
     "execution_count": 50,
     "metadata": {},
     "output_type": "execute_result"
    }
   ],
   "source": [
    "arr_linspace1 =np.linspace(11,20,num=10)\n",
    "arr_linspace1"
   ]
  },
  {
   "cell_type": "code",
   "execution_count": 51,
   "id": "937549a3",
   "metadata": {},
   "outputs": [
    {
     "data": {
      "text/plain": [
       "array([[11., 12., 13., 14., 15.],\n",
       "       [16., 17., 18., 19., 20.]])"
      ]
     },
     "execution_count": 51,
     "metadata": {},
     "output_type": "execute_result"
    }
   ],
   "source": [
    "#reshape array\n",
    "reshape_array=np.reshape(arr_linspace1,newshape=(2,5))\n",
    "reshape_array"
   ]
  },
  {
   "cell_type": "code",
   "execution_count": 52,
   "id": "96812670",
   "metadata": {},
   "outputs": [
    {
     "data": {
      "text/plain": [
       "2"
      ]
     },
     "execution_count": 52,
     "metadata": {},
     "output_type": "execute_result"
    }
   ],
   "source": [
    "#nparray function\n",
    "reshape_array.ndim\n"
   ]
  },
  {
   "cell_type": "code",
   "execution_count": 53,
   "id": "160cd522",
   "metadata": {},
   "outputs": [
    {
     "data": {
      "text/plain": [
       "(2, 5)"
      ]
     },
     "execution_count": 53,
     "metadata": {},
     "output_type": "execute_result"
    }
   ],
   "source": [
    "reshape_array.shape "
   ]
  },
  {
   "cell_type": "code",
   "execution_count": 54,
   "id": "0be3b22e",
   "metadata": {},
   "outputs": [
    {
     "data": {
      "text/plain": [
       "10"
      ]
     },
     "execution_count": 54,
     "metadata": {},
     "output_type": "execute_result"
    }
   ],
   "source": [
    "reshape_array.size#number of elements"
   ]
  },
  {
   "cell_type": "code",
   "execution_count": 55,
   "id": "3d4de4b0",
   "metadata": {},
   "outputs": [
    {
     "data": {
      "text/plain": [
       "dtype('float64')"
      ]
     },
     "execution_count": 55,
     "metadata": {},
     "output_type": "execute_result"
    }
   ],
   "source": [
    "reshape_array.dtype"
   ]
  },
  {
   "cell_type": "code",
   "execution_count": 56,
   "id": "a4369f34",
   "metadata": {},
   "outputs": [
    {
     "data": {
      "text/plain": [
       "8"
      ]
     },
     "execution_count": 56,
     "metadata": {},
     "output_type": "execute_result"
    }
   ],
   "source": [
    "reshape_array.itemsize #dtype/8"
   ]
  },
  {
   "cell_type": "code",
   "execution_count": 61,
   "id": "5b9e56a9",
   "metadata": {},
   "outputs": [
    {
     "name": "stdout",
     "output_type": "stream",
     "text": [
      "[0 2 3 5 7 8 9]\n"
     ]
    }
   ],
   "source": [
    "#sort\n",
    "a_unsort=np.array([5,2,3,7,9,8,0])\n",
    "a_sort=np.sort(a_unsort)\n",
    "print(a_sort)"
   ]
  },
  {
   "cell_type": "code",
   "execution_count": 63,
   "id": "cc96c7c6",
   "metadata": {},
   "outputs": [
    {
     "data": {
      "text/plain": [
       "array([6, 8, 6, 2, 3, 5, 1, 9, 6, 2, 4, 5])"
      ]
     },
     "execution_count": 63,
     "metadata": {},
     "output_type": "execute_result"
    }
   ],
   "source": [
    "#concatenate\n",
    "a1=np.array([6,8,6,2,3,5])\n",
    "a2=np.array([1,9,6,2,4,5])\n",
    "a_con=np.concatenate((a1,a2))\n",
    "a_con"
   ]
  },
  {
   "cell_type": "code",
   "execution_count": 66,
   "id": "fb133205",
   "metadata": {},
   "outputs": [
    {
     "data": {
      "text/plain": [
       "array([[6, 8, 6],\n",
       "       [2, 3, 5],\n",
       "       [1, 9, 6],\n",
       "       [2, 4, 5]])"
      ]
     },
     "execution_count": 66,
     "metadata": {},
     "output_type": "execute_result"
    }
   ],
   "source": [
    "a1_1=np.array([[6,8,6],[2,3,5]])\n",
    "a2_2=np.array([[1,9,6],[2,4,5]])\n",
    "a_con_1=np.concatenate((a1_1,a2_2), axis=0)\n",
    "a_con_1"
   ]
  },
  {
   "cell_type": "code",
   "execution_count": 67,
   "id": "e4dc83ff",
   "metadata": {},
   "outputs": [
    {
     "data": {
      "text/plain": [
       "array([[6, 8, 6, 1, 9, 6],\n",
       "       [2, 3, 5, 2, 4, 5]])"
      ]
     },
     "execution_count": 67,
     "metadata": {},
     "output_type": "execute_result"
    }
   ],
   "source": [
    "a_con_1=np.concatenate((a1_1,a2_2), axis=1)\n",
    "a_con_1"
   ]
  },
  {
   "cell_type": "markdown",
   "id": "6a7d37c6-1ef8-43b8-a349-853eecc6ddd9",
   "metadata": {},
   "source": [
    "#### Array Indexing and slicing"
   ]
  },
  {
   "cell_type": "code",
   "execution_count": 20,
   "id": "bea880ea",
   "metadata": {
    "tags": []
   },
   "outputs": [
    {
     "name": "stdout",
     "output_type": "stream",
     "text": [
      "[ 4  6 17  8  9  3 15 12  7 13]\n",
      "17 7\n",
      "12 3\n",
      "[ 8  9  3 15 12]\n",
      "[ 4  6 17  8  9  3 15]\n",
      "[17  8  9  3 15 12  7 13]\n",
      "[ 6 17  8  9  3 15 12  7 13]\n",
      "[17  8  9  3]\n",
      "[ 3 15 12  7]\n",
      "[ 4  6 17  8  9  3 15 12  7 13]\n",
      "[ 4  6 17  8  9  3 15 12  7 13]\n",
      "[ 4  6 17  8  9  3 15 12  7 13]\n",
      "[ 4  6 17  8  9  3 15 12]\n",
      "[ 6 17  8  9  3 15 12  7 13]\n"
     ]
    }
   ],
   "source": [
    "# Array Indexing and slicing\n",
    "'''\n",
    "1. If x = [4,6,17,8,9,3,15,12,7,13] convert x to ndarray and print:\n",
    "a. value 17 and 7 separately using their positive index\n",
    "b. value 12 and 3 using their negative index\n",
    "c. the range  of values from 8 to 12 using positive indices\n",
    "d. the range  of values from 4 to 15 using negative indices\n",
    "e. the range  of values from 17 to the end using positive indices\n",
    "f. the range  of values from 6 to the end using negative indices\n",
    "g. the range  of value from 17 to 3 using a mix of negative and positive indices\n",
    "h. the range  of values from 3 to 7 using a mix of negative and positive indices\n",
    "i. all the values using only positive indices\n",
    "j. all the values using only negative indices\n",
    "k. all the values without using any index.\n",
    "l. all the values from beginning to value 12\n",
    "m. all the values from 6 to the end\n",
    "\n",
    "'''\n",
    "a= np.array([4,6,17,8,9,3,15,12,7,13])\n",
    "\n",
    "print(a) \n",
    "print(a[2],a[8]) #a\n",
    "print(a[-3],a[-5]) #b\n",
    "print(a[3:8]) #c\n",
    "print(a[-10:-3]) #d\n",
    "print(a[-8:]) #e\n",
    "print(a[-9:])#f\n",
    "print(a[2:-4]) #g\n",
    "print(a[5:-1]) #h\n",
    "print(a[0:10]) #i\n",
    "print(a[-10:]) #j\n",
    "print(a[:]) #k\n",
    "print(a[:-2]) #l\n",
    "print(a[1:]) #l\n"
   ]
  },
  {
   "cell_type": "code",
   "execution_count": 33,
   "id": "4de2c81e",
   "metadata": {
    "tags": []
   },
   "outputs": [
    {
     "name": "stdout",
     "output_type": "stream",
     "text": [
      "[ 2  4  6  8 10 12 14 16 18 20 22 24]\n",
      "[ 4  8 12 16 20 24]\n",
      "[ 1  2  4  5 10 20 25]\n",
      "[ 1  2  3  4  5 15 21 22 23 24 25]\n",
      "[]\n"
     ]
    }
   ],
   "source": [
    "# Array condition\n",
    "'''\n",
    "Create a two dimensional array for numbers between 1 and 25. Using the array, find the following:\n",
    "1. all the even numbers\n",
    "2. all numbers that are divisible by 4\n",
    "3. all factors of 100\n",
    "4. all the numbers less than or equal to 5, greater 20 or equal to 15\n",
    "5. all odd numbers that are divisible by six\n",
    "'''\n",
    "a=np.arange(1,26)\n",
    "print(a[(a%2==0)])\n",
    "print(a[(a%4==0)])\n",
    "print(a[(100%a==0)])\n",
    "print(a[(a<=5) | (a>20) |(a==15)]) # or condition\n",
    "print(a[(a%2==1) & (a%6==0)]) # and condition"
   ]
  },
  {
   "cell_type": "code",
   "execution_count": 44,
   "id": "045ff1d0-b1ec-44de-8fa4-0a7c24303e7e",
   "metadata": {
    "tags": []
   },
   "outputs": [
    {
     "name": "stdout",
     "output_type": "stream",
     "text": [
      "[[ 1  2  3  4  5]\n",
      " [ 6  7  8  9 10]\n",
      " [11 12 13 14 15]\n",
      " [16 17 18 19 20]\n",
      " [21 22 23 24 25]]\n",
      "[1 2 3 4 5]\n",
      "[[ 3]\n",
      " [ 8]\n",
      " [13]\n",
      " [18]\n",
      " [23]]\n",
      "[16 17 18]\n",
      "[[16 17 18]\n",
      " [21 22 23]]\n",
      "13\n",
      "[[11 12 13 14 15]\n",
      " [16 17 18 19 20]]\n",
      "[[ 3  4]\n",
      " [ 8  9]\n",
      " [13 14]\n",
      " [18 19]\n",
      " [23 24]]\n"
     ]
    }
   ],
   "source": [
    "# 2D array\n",
    "'''\n",
    "a. Create a two dimensional array for numbers between 1 and 25.\n",
    "Using the array, find the following:\n",
    "1. all the numbers in the row 0\n",
    "2. all the numbers in the column 2\n",
    "3. numbers between 16 and 18\n",
    "4. number 16, 17, 18, 21, 22 and 23\n",
    "5. number 13\n",
    "6. all the numbers in row 2 and 3\n",
    "7. all the numbers in column 2 and 3\n",
    "'''\n",
    "a= np.arange(1,26).reshape(5,5)\n",
    "print(a)\n",
    "print(a[0])\n",
    "print(a[:,2:3])\n",
    "print(a[3,:3])\n",
    "print(a[3:,:3])\n",
    "print(a[2,2])\n",
    "print(a[2:4])\n",
    "print(a[:,2:4])"
   ]
  },
  {
   "cell_type": "code",
   "execution_count": 47,
   "id": "cd7459ef-71ed-40c1-8848-40edd23fe494",
   "metadata": {
    "tags": []
   },
   "outputs": [
    {
     "name": "stdout",
     "output_type": "stream",
     "text": [
      "[[[ 1  2  3  4  5  6]\n",
      "  [ 7  8  9 10 11 12]\n",
      "  [13 14 15 16 17 18]\n",
      "  [19 20 21 22 23 24]]\n",
      "\n",
      " [[25 26 27 28 29 30]\n",
      "  [31 32 33 34 35 36]\n",
      "  [37 38 39 40 41 42]\n",
      "  [43 44 45 46 47 48]]\n",
      "\n",
      " [[49 50 51 52 53 54]\n",
      "  [55 56 57 58 59 60]\n",
      "  [61 62 63 64 65 66]\n",
      "  [67 68 69 70 71 72]]]\n"
     ]
    }
   ],
   "source": [
    "#3D array\n",
    "'''\n",
    "Create a 3-D numpy array with numbers from 1 to 72.\n",
    "Using the above array, print:\n",
    "1. number 10\n",
    "2. the first 2-D in the 3-D array\n",
    "3. number 31 to 36\n",
    "4. number 63 to 65\n",
    "5. number 35\n",
    "6. number 10, 34 and 66\n",
    "7. column 3 in the third 2-D in the 3-D array\n",
    "8. number 34 and 35\n",
    "9. the first row in the last 2-D in the 3-D array\n",
    "10. the last 2-D in the 3-D array\n",
    "11. first row each in the second and third 2-D in the 3-D array\n",
    "12. number 26 and 50\n",
    "13. first two rows each from all the 2-D in the 3-D array\n",
    "14. the entire last column of the 3-D array\n",
    "15. the entire third column of the second and last 2-D in the 3-D\n",
    "16. number less than 50 in the 3rd column of the second and last 2-D in the 3-D\n",
    "17. numbers that are divisible by 5 in column 2 of second and third 2-D in the 3-D array\n",
    "'''\n",
    "a= np.arange(1,73).reshape(3,4,6)\n",
    "print(a)\n"
   ]
  },
  {
   "cell_type": "code",
   "execution_count": 86,
   "id": "4b31ccc7-adcf-4d5b-b9d1-e5a3827d6a7f",
   "metadata": {
    "tags": []
   },
   "outputs": [
    {
     "name": "stdout",
     "output_type": "stream",
     "text": [
      "[27 33 39 45]\n",
      "[45]\n"
     ]
    }
   ],
   "source": [
    "#print(a[0,1,3])#1\n",
    "#print(a[0]) #2\n",
    "#print(a[1,1])#3\n",
    "#print(a[2,2,2:5])#4\n",
    "#print(a[1,1,4])#5\n",
    "#print(a[0][1][3], a[1][1][3],a[2][2][5])#6\n",
    "#print(a[2,:,2:3])#7\n",
    "#print(a[1,1,3:5])#8\n",
    "#print(a[2,0])#9\n",
    "#print(a[2])#10\n",
    "#print(a[1:,0])#11\n",
    "#print(a[1:,0,1:2])#12\n",
    "#print(a[:,0:2])#13\n",
    "#print(a[:,:,5:])#14\n",
    "#print(a[1:,:,2:3])#15\n",
    "\n",
    "print(a[1:,:,2:3][a[1:,:,2:3]<50])#16\n",
    "print(a[1:,:,2:3][a[1:,:,2:3]%5==0])#17"
   ]
  },
  {
   "cell_type": "code",
   "execution_count": 90,
   "id": "d3492801-bbb0-4e91-8c78-2c182450e4c0",
   "metadata": {
    "tags": []
   },
   "outputs": [
    {
     "name": "stdout",
     "output_type": "stream",
     "text": [
      "[ 1  2  3  4  5  6  7  8  9 10 11 12 13 14 15 16 17 18 19 20 21 22 23 24\n",
      " 25]\n",
      "[ 1  2  3  4  5  6  7  8  9 10 11 12 13 14 15 16 17 18 19 20 21 22 23 24\n",
      " 25]\n",
      "[ 1  2  3  4  5  6  7  8  9 10 11 12 13 14 15 16 17 18 19 20 21 22 23 24\n",
      " 25]\n"
     ]
    }
   ],
   "source": [
    "#### array flattern & Ravel\n",
    "\n",
    "b= np.arange(1,26).reshape(5,5)\n",
    "b\n",
    "print(b.flatten()) #shallow copy\n",
    "print(b.ravel()) #deep copy\n",
    "print(b.flatten().copy()) #deep copy\n"
   ]
  },
  {
   "cell_type": "code",
   "execution_count": 91,
   "id": "38cae61c-b188-4975-b9ba-31e9e396f0ae",
   "metadata": {
    "tags": []
   },
   "outputs": [
    {
     "data": {
      "text/plain": [
       "array([[ 1,  6, 11, 16, 21],\n",
       "       [ 2,  7, 12, 17, 22],\n",
       "       [ 3,  8, 13, 18, 23],\n",
       "       [ 4,  9, 14, 19, 24],\n",
       "       [ 5, 10, 15, 20, 25]])"
      ]
     },
     "execution_count": 91,
     "metadata": {},
     "output_type": "execute_result"
    }
   ],
   "source": [
    "#Transpose\n",
    "b= np.arange(1,26).reshape(5,5)\n",
    "b.transpose()"
   ]
  },
  {
   "cell_type": "code",
   "execution_count": 94,
   "id": "da0d12f8-e269-4dcb-aea2-b32bd6a8c770",
   "metadata": {
    "tags": []
   },
   "outputs": [
    {
     "name": "stdout",
     "output_type": "stream",
     "text": [
      "[[25 24 23 22 21]\n",
      " [20 19 18 17 16]\n",
      " [15 14 13 12 11]\n",
      " [10  9  8  7  6]\n",
      " [ 5  4  3  2  1]]\n",
      "[[21 22 23 24 25]\n",
      " [16 17 18 19 20]\n",
      " [11 12 13 14 15]\n",
      " [ 6  7  8  9 10]\n",
      " [ 1  2  3  4  5]]\n",
      "[[ 5  4  3  2  1]\n",
      " [10  9  8  7  6]\n",
      " [15 14 13 12 11]\n",
      " [20 19 18 17 16]\n",
      " [25 24 23 22 21]]\n"
     ]
    }
   ],
   "source": [
    "#reverse\n",
    "b= np.arange(1,26).reshape(5,5)\n",
    "print(np.flip(b))\n",
    "print(np.flip(b, axis=0)) #rows\n",
    "print(np.flip(b, axis=1)) #column"
   ]
  },
  {
   "cell_type": "code",
   "execution_count": 102,
   "id": "407818bd-75d3-47fc-9920-70c44b3836ee",
   "metadata": {
    "tags": []
   },
   "outputs": [
    {
     "name": "stdout",
     "output_type": "stream",
     "text": [
      "[ 1  2  3  4  5  6  7  8  9 10 11 12 13 14 15 16 17 18 19 20 21 22 23 24\n",
      " 25]\n",
      "[ 1  2  3  4  5  6  7  8  9 10 11 12 13 14 15 16 17 18 19 20 21 22 23 24\n",
      " 25] [ 0  1  2  3  4 10 11 12 13 14 20 21 22 23 24 30 31 32 33 34 40 41 42 43\n",
      " 44]\n"
     ]
    }
   ],
   "source": [
    "#unique array\n",
    "d= np.concatenate((b,b), axis=1)\n",
    "y= np.unique(d)\n",
    "print(y)\n",
    "z,ind= np.unique(d, return_index=True) #get index\n",
    "print(z,ind)"
   ]
  },
  {
   "cell_type": "code",
   "execution_count": 109,
   "id": "7960decf-272a-4a6a-9386-45edc3090e72",
   "metadata": {
    "tags": []
   },
   "outputs": [
    {
     "name": "stdout",
     "output_type": "stream",
     "text": [
      "1\n",
      "25\n",
      "325\n",
      "[1 2 3 4 5]\n",
      "[ 1  6 11 16 21]\n",
      "[21 22 23 24 25]\n",
      "[ 5 10 15 20 25]\n",
      "[55 60 65 70 75]\n",
      "[ 15  40  65  90 115]\n"
     ]
    }
   ],
   "source": [
    "#min, max , sum\n",
    "b= np.arange(1,26).reshape(5,5)\n",
    "print(b.min())\n",
    "print(b.max())\n",
    "print(b.sum())\n",
    "\n",
    "#along axis\n",
    "print(b.min(axis=0))\n",
    "print(b.min(axis=1))\n",
    "print(b.max(axis=0))\n",
    "print(b.max(axis=1))\n",
    "print(b.sum(axis=0))\n",
    "print(b.sum(axis=1))\n"
   ]
  },
  {
   "cell_type": "code",
   "execution_count": 110,
   "id": "692c8f60-617c-43ee-8956-a1d86ac9e1bf",
   "metadata": {
    "tags": []
   },
   "outputs": [],
   "source": [
    "a=np.array([[1,2,3],[6,7,8]])\n",
    "b=np.array([[4,5,9],[11,12,15]])"
   ]
  },
  {
   "cell_type": "code",
   "execution_count": 112,
   "id": "15984891-1456-4f31-87eb-cce958886e57",
   "metadata": {
    "tags": []
   },
   "outputs": [
    {
     "name": "stdout",
     "output_type": "stream",
     "text": [
      "[[ 1  2  3  4  5  9]\n",
      " [ 6  7  8 11 12 15]]\n",
      "[[ 1  2  3]\n",
      " [ 6  7  8]\n",
      " [ 4  5  9]\n",
      " [11 12 15]]\n"
     ]
    }
   ],
   "source": [
    "# Array stacking\n",
    "print(np.hstack((a,b)))\n",
    "print(np.vstack((a,b)))"
   ]
  },
  {
   "cell_type": "code",
   "execution_count": 125,
   "id": "4ad5e3fb-868d-42f2-b0e9-d721c11ba5b6",
   "metadata": {
    "tags": []
   },
   "outputs": [
    {
     "name": "stdout",
     "output_type": "stream",
     "text": [
      "[array([[ 1,  2,  3,  4],\n",
      "       [25, 26, 27, 28]]), array([[ 5,  6,  7,  8],\n",
      "       [29, 30, 31, 32]]), array([[ 9, 10, 11, 12],\n",
      "       [33, 34, 35, 36]]), array([[13, 14, 15, 16],\n",
      "       [37, 38, 39, 40]]), array([[17, 18, 19, 20],\n",
      "       [41, 42, 43, 44]]), array([[21, 22, 23, 24],\n",
      "       [45, 46, 47, 48]])]\n",
      "[array([[ 1,  2,  3,  4,  5,  6,  7,  8,  9, 10, 11, 12, 13, 14, 15, 16,\n",
      "        17, 18, 19, 20, 21, 22, 23, 24]]), array([[25, 26, 27, 28, 29, 30, 31, 32, 33, 34, 35, 36, 37, 38, 39, 40,\n",
      "        41, 42, 43, 44, 45, 46, 47, 48]])]\n",
      "[[ 1  2  3  4  5]\n",
      " [25 26 27 28 29]] [[ 6  7  8]\n",
      " [30 31 32]] [[ 9 10 11 12 13 14 15 16 17 18 19 20 21 22 23 24]\n",
      " [33 34 35 36 37 38 39 40 41 42 43 44 45 46 47 48]]\n"
     ]
    }
   ],
   "source": [
    "#Array split\n",
    "x=np.arange(1,49).reshape(2,24)\n",
    "print(np.hsplit(x,6))# split into 6 equal array with column\n",
    "print(np.vsplit(x,2)) # split into 2 equal array with rows\n",
    "\n",
    "a,b,c=np.hsplit(x,(5,8))# split unequal array from 0-4 then 5 -7 and rest\n",
    "print(a,b,c)"
   ]
  },
  {
   "cell_type": "code",
   "execution_count": 126,
   "id": "ed7c63af-1c6a-473d-9358-748b85969d5c",
   "metadata": {
    "tags": []
   },
   "outputs": [
    {
     "name": "stdout",
     "output_type": "stream",
     "text": [
      "[[ 1  2  3  4  5  6  7  8  9 10 11 12 13 14 15 16 17 18 19 20 21 22 23 24]\n",
      " [25 26 27 28 29 30 31 32 33 34 35 36 37 38 39 40 41 42 43 44 45 46 47 48]]\n",
      "[[26 27 28 29 30 31 32 33 34 35 36 37 38 39 40 41 42 43 44 45 46 47 48]]\n"
     ]
    }
   ],
   "source": [
    "#copy\n",
    "\n",
    "b=x.copy()\n",
    "c=x[1:3,1:].copy()\n",
    "\n",
    "print(b)\n",
    "print(c)"
   ]
  },
  {
   "cell_type": "code",
   "execution_count": 127,
   "id": "46bcef32-20eb-4fb6-b7e4-a3108a1176bc",
   "metadata": {
    "tags": []
   },
   "outputs": [
    {
     "name": "stdout",
     "output_type": "stream",
     "text": [
      "[ 7  9 11 13 15]\n",
      "[-5 -5 -5 -5 -5]\n",
      "[ 2  4  6  8 10]\n",
      "[ 36  49  64  81 100]\n",
      "[ 6 14 24 36 50]\n",
      "[1 0 1 0 1]\n",
      "[6.         3.5        2.66666667 2.25       2.        ]\n"
     ]
    }
   ],
   "source": [
    "#array operator\n",
    "a=np.array( [1,2,3,4,5])\n",
    "b=np.array([6,7,8,9,10])\n",
    "\n",
    "print(a+b)\n",
    "print(a-b)\n",
    "print(2*a)\n",
    "print(b**2)\n",
    "print (a*b)\n",
    "print(a%2)\n",
    "print(b/a)\n"
   ]
  },
  {
   "cell_type": "code",
   "execution_count": 129,
   "id": "129b9459-2070-4ca1-b680-394981a87cf6",
   "metadata": {
    "tags": []
   },
   "outputs": [
    {
     "name": "stdout",
     "output_type": "stream",
     "text": [
      "[1 2 3 5]\n",
      "[1 2 5]\n"
     ]
    }
   ],
   "source": [
    "# delete\n",
    "b= np.delete(a,3)\n",
    "print (b)\n",
    "\n",
    "x=[3,4]\n",
    "\n",
    "c=np.setdiff1d(a,x)\n",
    "print(c)"
   ]
  },
  {
   "cell_type": "code",
   "execution_count": 138,
   "id": "ffea253c-9ac2-4cba-804b-a935a1510493",
   "metadata": {
    "tags": []
   },
   "outputs": [
    {
     "name": "stdout",
     "output_type": "stream",
     "text": [
      "[1 2 3 4 5]\n",
      "[ 1  2  3  4  5 44]\n",
      "[ 1  2  3  4  5 44 45 46]\n",
      "[ 1  2 66  3  4  5]\n",
      "[ 1 66 67 68  2  3  4  5]\n"
     ]
    }
   ],
   "source": [
    "# insert\n",
    "print(a)\n",
    "b= np.append(a,44)  #at end\n",
    "print (b)\n",
    "b= np.append(a,[44,45,46]) #at end\n",
    "print (b)\n",
    "\n",
    "b= np.insert(a,2,66) #after element 2\n",
    "print (b)\n",
    "b= np.insert(a,1,[66,67,68]) #after element 1\n",
    "print (b)"
   ]
  },
  {
   "cell_type": "code",
   "execution_count": 144,
   "id": "8c891ee5-49f9-42bc-b3bb-bec9fe3512af",
   "metadata": {
    "tags": []
   },
   "outputs": [
    {
     "name": "stdout",
     "output_type": "stream",
     "text": [
      "[[1 2 3 4 5]]\n",
      "2\n",
      "(1, 5)\n",
      "[[1]\n",
      " [2]\n",
      " [3]\n",
      " [4]\n",
      " [5]]\n",
      "2\n",
      "(5, 1)\n",
      "[[[1]\n",
      "  [2]\n",
      "  [3]\n",
      "  [4]\n",
      "  [5]]]\n",
      "3\n",
      "(1, 5, 1)\n"
     ]
    }
   ],
   "source": [
    "# New axis\n",
    "\n",
    "a= np.arange(1,6)\n",
    "a\n",
    "b= a[np.newaxis,:] # add new dimention as row\n",
    "c= a[:,np.newaxis] # add new dimention as column\n",
    "d= a[np.newaxis,:,np.newaxis]\n",
    "print(b)\n",
    "print(b.ndim)\n",
    "print(b.shape)\n",
    "print(c)\n",
    "print(c.ndim)\n",
    "print(c.shape)\n",
    "print(d)\n",
    "print(d.ndim)\n",
    "print(d.shape)"
   ]
  },
  {
   "cell_type": "code",
   "execution_count": null,
   "id": "afe2379c-e941-4c13-9993-0c4e59a42789",
   "metadata": {},
   "outputs": [],
   "source": []
  },
  {
   "cell_type": "code",
   "execution_count": 145,
   "id": "eda87232-af2b-4aaf-81cc-a420ac24d8a9",
   "metadata": {
    "tags": []
   },
   "outputs": [
    {
     "data": {
      "text/plain": [
       "1.7320508075688767"
      ]
     },
     "execution_count": 145,
     "metadata": {},
     "output_type": "execute_result"
    }
   ],
   "source": [
    "#Trigonomatry\n",
    "#1 degree= pi/180 radian\n",
    "import numpy as np\n",
    "np.sin(90)\n",
    "np.sin(90*np.pi/180)\n",
    "np.cos(60)\n",
    "np.cos(60*np.pi/180)\n",
    "np.tan(70)\n",
    "np.tan(60*np.pi/180)"
   ]
  },
  {
   "cell_type": "code",
   "execution_count": 151,
   "id": "42ed1855-9526-464b-861b-062deaaf70fb",
   "metadata": {
    "tags": []
   },
   "outputs": [
    {
     "name": "stdout",
     "output_type": "stream",
     "text": [
      "[ 1  2  3  4  5  6  7  8  9 10]\n",
      "(array([5], dtype=int64),)\n",
      "(array([1, 3, 5, 7, 9], dtype=int64),)\n"
     ]
    }
   ],
   "source": [
    "# searching in array\n",
    "a= np.arange(1,11)\n",
    "print (a)\n",
    "\n",
    "print( np.where(a==6)) #index 5\n",
    "print( np.where(a%2==0)) # index of 2,4,6,8,10"
   ]
  },
  {
   "cell_type": "code",
   "execution_count": 154,
   "id": "6a84e62f-d794-443a-82eb-e67148980083",
   "metadata": {
    "tags": []
   },
   "outputs": [
    {
     "name": "stdout",
     "output_type": "stream",
     "text": [
      "[[ 5 10]\n",
      " [15 20]]\n",
      "[[22 25]\n",
      " [50 57]]\n"
     ]
    }
   ],
   "source": [
    "# Multiplication\n",
    "\n",
    "a= np.arange(1,5).reshape(2,2)\n",
    "b= np.arange(6,10).reshape(2,2)\n",
    "print(np.multiply(a,5))\n",
    "print(np.dot(a,b)) # matrix multiplication\n"
   ]
  },
  {
   "cell_type": "code",
   "execution_count": 156,
   "id": "4e6363ec-61c7-4c2b-92ed-11b1bb70a2d8",
   "metadata": {
    "tags": []
   },
   "outputs": [
    {
     "name": "stdout",
     "output_type": "stream",
     "text": [
      "[[ 1  2  3]\n",
      " [ 4  5  6]\n",
      " [ 7  8  9]\n",
      " [10 11 12]]\n",
      "15\n"
     ]
    }
   ],
   "source": [
    "# trace => sum of diagonal\n",
    "\n",
    "a= np.arange(1,13).reshape(4,3)\n",
    "print(a)\n",
    "print(np.trace(a))\n"
   ]
  },
  {
   "cell_type": "code",
   "execution_count": 157,
   "id": "aaf095af-d3a2-4986-b11f-7e4137103cd4",
   "metadata": {
    "tags": []
   },
   "outputs": [
    {
     "name": "stdout",
     "output_type": "stream",
     "text": [
      "[[1 2]\n",
      " [3 4]]\n",
      "[[6 7]\n",
      " [8 9]]\n",
      "[[ 6  7  8  9]\n",
      " [12 14 16 18]\n",
      " [18 21 24 27]\n",
      " [24 28 32 36]]\n"
     ]
    }
   ],
   "source": [
    "#outer Product => each number by each number =>4*4=16\n",
    "a= np.arange(1,5).reshape(2,2)\n",
    "b= np.arange(6,10).reshape(2,2)\n",
    "print(a)\n",
    "print(b)\n",
    "print(np.outer(a,b))\n"
   ]
  },
  {
   "cell_type": "code",
   "execution_count": 158,
   "id": "2c608770-e468-4d8e-95ee-6cdb549e5e2c",
   "metadata": {
    "tags": []
   },
   "outputs": [
    {
     "name": "stdout",
     "output_type": "stream",
     "text": [
      "[[1 2]\n",
      " [3 4]]\n",
      "[[6 7]\n",
      " [8 9]]\n",
      "[[20 26]\n",
      " [46 60]]\n"
     ]
    }
   ],
   "source": [
    "#inner product => each row by row =>Xrow1 *Yrow1, Xrow1 *Yrow2, Xrow2* Yrow1=> 4*4=>4\n",
    "a= np.arange(1,5).reshape(2,2)\n",
    "b= np.arange(6,10).reshape(2,2)\n",
    "print(a)\n",
    "print(b)\n",
    "print(np.inner(a,b))"
   ]
  },
  {
   "cell_type": "code",
   "execution_count": 159,
   "id": "1f6b489e-e39b-48ed-a472-3b56aeb8b352",
   "metadata": {
    "tags": []
   },
   "outputs": [
    {
     "name": "stdout",
     "output_type": "stream",
     "text": [
      "[[1 2]\n",
      " [3 4]]\n",
      "[[6 7]\n",
      " [8 9]]\n",
      "[-5 -5]\n"
     ]
    }
   ],
   "source": [
    "#cross product Xrow1 *Yrow 1 , Xrow2* Yrow2 4*4=>2\n",
    "a= np.arange(1,5).reshape(2,2)\n",
    "b= np.arange(6,10).reshape(2,2)\n",
    "print(a)\n",
    "print(b)\n",
    "print(np.cross(a,b))"
   ]
  },
  {
   "cell_type": "code",
   "execution_count": 160,
   "id": "21c938a6-932c-4264-b6d4-ecf25a25c7aa",
   "metadata": {
    "tags": []
   },
   "outputs": [
    {
     "name": "stdout",
     "output_type": "stream",
     "text": [
      "[[1 2]\n",
      " [3 4]]\n",
      "[[6 7]\n",
      " [8 9]]\n",
      "[[ 6  7 12 14]\n",
      " [ 8  9 16 18]\n",
      " [18 21 24 28]\n",
      " [24 27 32 36]]\n"
     ]
    }
   ],
   "source": [
    "#kronecker product multiply each number of x with y 4*4 =16\n",
    "#x1*y=4, x2*y=4 and so one 4+4+4+4\n",
    "a= np.arange(1,5).reshape(2,2)\n",
    "b= np.arange(6,10).reshape(2,2)\n",
    "print(a)\n",
    "print(b)\n",
    "print(np.kron(a,b))"
   ]
  },
  {
   "cell_type": "code",
   "execution_count": 161,
   "id": "6785ff3b-7683-4925-8d5b-de38b5002956",
   "metadata": {
    "tags": []
   },
   "outputs": [
    {
     "name": "stdout",
     "output_type": "stream",
     "text": [
      "[[1 2 3]\n",
      " [4 5 6]\n",
      " [7 8 9]]\n",
      "-9.51619735392994e-16\n"
     ]
    }
   ],
   "source": [
    "#determinant same as matrix\n",
    "a= np.arange(1,10).reshape(3,3)\n",
    "\n",
    "print(a)\n",
    "\n",
    "print(np.linalg.det(a))"
   ]
  },
  {
   "cell_type": "code",
   "execution_count": 163,
   "id": "4cb140fb-1248-40b1-92bb-d623291023e0",
   "metadata": {
    "tags": []
   },
   "outputs": [
    {
     "name": "stdout",
     "output_type": "stream",
     "text": [
      "[[1 2 3]\n",
      " [4 5 6]\n",
      " [7 8 9]]\n",
      "[[ 3.15251974e+15 -6.30503948e+15  3.15251974e+15]\n",
      " [-6.30503948e+15  1.26100790e+16 -6.30503948e+15]\n",
      " [ 3.15251974e+15 -6.30503948e+15  3.15251974e+15]]\n"
     ]
    }
   ],
   "source": [
    "#inverse same as matrix (transpose(cofactor)/determinant)\n",
    "a= np.arange(1,10).reshape(3,3)\n",
    "print(a)\n",
    "print(np.linalg.inv(a))"
   ]
  },
  {
   "cell_type": "code",
   "execution_count": 164,
   "id": "d11722b5-b560-4994-9247-a37eedf48cd7",
   "metadata": {
    "tags": []
   },
   "outputs": [
    {
     "name": "stdout",
     "output_type": "stream",
     "text": [
      "24.459115447074858\n"
     ]
    }
   ],
   "source": [
    "#Condition Number\n",
    "#its a number if added to a function it effect the function\n",
    "x= np.array([[2,3],[6,7]])\n",
    "print(np.linalg.cond(x))"
   ]
  },
  {
   "cell_type": "markdown",
   "id": "2468b876-ec98-436e-b3ab-913ba8cb9ce1",
   "metadata": {},
   "source": [
    "## Random"
   ]
  },
  {
   "cell_type": "code",
   "execution_count": 166,
   "id": "6bb4b02c-5d6a-4494-ab82-0e9d8348d9f3",
   "metadata": {
    "tags": []
   },
   "outputs": [],
   "source": [
    "from numpy import random"
   ]
  },
  {
   "cell_type": "code",
   "execution_count": 176,
   "id": "a199beca-7c6d-45e5-9898-090d691ac9f0",
   "metadata": {
    "tags": []
   },
   "outputs": [
    {
     "name": "stdout",
     "output_type": "stream",
     "text": [
      "5\n",
      "[0.04251424 0.18701012 0.70244994 0.69992192 0.45363417]\n",
      "[17  0  2 14 17]\n",
      "[[ 9  1]\n",
      " [12  3]\n",
      " [ 7  9]\n",
      " [11 11]]\n",
      "15\n",
      "[ 9  1 20  4  1]\n",
      "[[ 4  9]\n",
      " [ 5 11]\n",
      " [ 5  9]\n",
      " [ 2  4]]\n"
     ]
    }
   ],
   "source": [
    "#random integer\n",
    "print (random.randint(20))# number between 1-20\n",
    "print (random.rand(5))# 5 number between 0 to 1\n",
    "\n",
    "print (random.randint(20,size=(5)))# number between 1-20 get 5 number\n",
    "print (random.randint(20,size=(4,2)))# number between 1-20 get 4*2 array\n",
    "\n",
    "#choice\n",
    "a= np.array([4,5,9,20,1,2,11,15])\n",
    "print (random.choice(a))# get number from a\n",
    "print (random.choice(a,size=(5)))# get 5 number from a\n",
    "print (random.choice(a,size=(4,2)))# get 4 by 2 number from a\n",
    "\n"
   ]
  },
  {
   "cell_type": "code",
   "execution_count": 183,
   "id": "cec704ee-60d5-4de0-b7fd-0e4b475dd0c5",
   "metadata": {
    "tags": []
   },
   "outputs": [
    {
     "name": "stdout",
     "output_type": "stream",
     "text": [
      "[12 15  0  3  3]\n",
      "[ 5 11 12  8  9]\n",
      "[ 4 15  2  4 11]\n"
     ]
    }
   ],
   "source": [
    "# seed => it will choose same random number , result will be same every time\n",
    "random.seed(0)\n",
    "print (random.randint(20, size=(5)))# number between 1-20 ##[12 15  0  3  3]\n",
    "random.seed(1)\n",
    "print (random.randint(20, size=(5)))# number between 1-20 ##[ 5 11 12  8  9]\n",
    "random.seed(2)\n",
    "a= np.array([4,5,9,20,1,2,11,15])\n",
    "print (random.choice(a,size=(5)))# [ 4 15  2  4 11]"
   ]
  },
  {
   "cell_type": "code",
   "execution_count": 187,
   "id": "bdad955c-0fd0-4dbe-b5f5-95e9816e5d1d",
   "metadata": {
    "tags": []
   },
   "outputs": [
    {
     "name": "stdout",
     "output_type": "stream",
     "text": [
      "[4 6 6 6 4 4 4 4 6 4 6 6 4 6 4 6 4 6 4 4]\n",
      "[[4 4 3 4 4]\n",
      " [6 6 4 6 6]\n",
      " [6 6 3 6 6]\n",
      " [6 4 4 4 4]]\n"
     ]
    }
   ],
   "source": [
    "# data distribution \n",
    "print (random.choice([3,4,6],p=[.2,.5,.3],size=(20))) # p is probability of 3,4,6 respectively\n",
    "print (random.choice([3,4,6],p=[.2,.5,.3],size=(4,5)))"
   ]
  },
  {
   "cell_type": "code",
   "execution_count": null,
   "id": "6fe5f53e-2499-41dc-87b8-188714cb9a9d",
   "metadata": {},
   "outputs": [],
   "source": []
  },
  {
   "cell_type": "markdown",
   "id": "78c256fd-11b8-4a7e-a16f-c141700550cf",
   "metadata": {},
   "source": [
    "# Panda"
   ]
  },
  {
   "cell_type": "code",
   "execution_count": 188,
   "id": "4f557756-a797-4485-b1c5-53ebc0dc8da3",
   "metadata": {
    "tags": []
   },
   "outputs": [
    {
     "name": "stdout",
     "output_type": "stream",
     "text": [
      "Defaulting to user installation because normal site-packages is not writeableNote: you may need to restart the kernel to use updated packages.\n",
      "\n",
      "Requirement already satisfied: pandas in c:\\programdata\\anaconda3\\lib\\site-packages (1.5.3)\n",
      "Requirement already satisfied: python-dateutil>=2.8.1 in c:\\programdata\\anaconda3\\lib\\site-packages (from pandas) (2.8.2)\n",
      "Requirement already satisfied: pytz>=2020.1 in c:\\programdata\\anaconda3\\lib\\site-packages (from pandas) (2022.7)\n",
      "Requirement already satisfied: numpy>=1.21.0 in c:\\programdata\\anaconda3\\lib\\site-packages (from pandas) (1.24.3)\n",
      "Requirement already satisfied: six>=1.5 in c:\\programdata\\anaconda3\\lib\\site-packages (from python-dateutil>=2.8.1->pandas) (1.16.0)\n"
     ]
    }
   ],
   "source": [
    "#pip install pandas"
   ]
  },
  {
   "cell_type": "code",
   "execution_count": 1,
   "id": "d67be40b-15ba-4979-9c2f-53d19bd57959",
   "metadata": {
    "tags": []
   },
   "outputs": [],
   "source": [
    "import pandas as pd"
   ]
  },
  {
   "cell_type": "code",
   "execution_count": 3,
   "id": "e2661405-7e83-49d9-97e1-64aaf9bd5dc0",
   "metadata": {
    "tags": []
   },
   "outputs": [
    {
     "name": "stdout",
     "output_type": "stream",
     "text": [
      "  students  Scores\n",
      "0     John      80\n",
      "1     Paul      40\n",
      "2    James      60\n",
      "3     Rita      90\n"
     ]
    }
   ],
   "source": []
  },
  {
   "cell_type": "code",
   "execution_count": 4,
   "id": "30ed5f9e-148b-4273-ac85-cd4a6f096952",
   "metadata": {
    "tags": []
   },
   "outputs": [
    {
     "name": "stdout",
     "output_type": "stream",
     "text": [
      "0    2\n",
      "1    3\n",
      "2    4\n",
      "3    5\n",
      "dtype: int64\n"
     ]
    }
   ],
   "source": [
    "#series\n",
    "y= [2,3,4,5]\n",
    "x=pd.Series(y)\n",
    "print(x)"
   ]
  },
  {
   "cell_type": "code",
   "execution_count": 8,
   "id": "a2253c78-c417-483c-b756-f3ef15dec18f",
   "metadata": {
    "tags": []
   },
   "outputs": [
    {
     "name": "stdout",
     "output_type": "stream",
     "text": [
      "4\n"
     ]
    }
   ],
   "source": [
    "# label\n",
    "y= [2,3,4,5]\n",
    "x=pd.Series(y, index=['a','b','c','d'])\n",
    "print(x['c'])"
   ]
  },
  {
   "cell_type": "code",
   "execution_count": 11,
   "id": "40adf6dc-aa9f-4bac-8eb0-5bccdf543428",
   "metadata": {
    "tags": []
   },
   "outputs": [
    {
     "name": "stdout",
     "output_type": "stream",
     "text": [
      "4\n",
      "a    2\n",
      "b    3\n",
      "dtype: int64\n"
     ]
    }
   ],
   "source": [
    "# label\n",
    "y= {'a':2,'b':3,'c':4,'d':5}\n",
    "x=pd.Series(y)\n",
    "print(x['c'])\n",
    "z=pd.Series(y,index=['a','b'])\n",
    "print(z)"
   ]
  },
  {
   "cell_type": "code",
   "execution_count": 12,
   "id": "add3b1d8-7f87-47af-89ad-c95961327a27",
   "metadata": {
    "tags": []
   },
   "outputs": [
    {
     "name": "stdout",
     "output_type": "stream",
     "text": [
      "  students  Scores\n",
      "0     John      80\n",
      "1     Paul      40\n",
      "2    James      60\n",
      "3     Rita      90\n"
     ]
    }
   ],
   "source": [
    "#dataframe\n",
    "\n",
    "data={\n",
    "    'students':['John','Paul','James','Rita'],\n",
    "    'Scores':[80,40,60,90]\n",
    "}\n",
    "x=pd.DataFrame(data)\n",
    "print(x)"
   ]
  },
  {
   "cell_type": "code",
   "execution_count": 14,
   "id": "6d29455d-672e-4bf1-8265-cd765e24cd2d",
   "metadata": {
    "tags": []
   },
   "outputs": [
    {
     "name": "stdout",
     "output_type": "stream",
     "text": [
      "students    Paul\n",
      "Scores        40\n",
      "Name: 1, dtype: object\n",
      "  students  Scores\n",
      "2    James      60\n",
      "3     Rita      90\n"
     ]
    }
   ],
   "source": [
    "print(x.loc[1])\n",
    "print(x.loc[[2,3]])"
   ]
  },
  {
   "cell_type": "code",
   "execution_count": 15,
   "id": "8ba53e98-7bd6-4332-a175-24c5f00f1bda",
   "metadata": {
    "tags": []
   },
   "outputs": [
    {
     "data": {
      "text/plain": [
       "0    3\n",
       "1    4\n",
       "2    6\n",
       "3    7\n",
       "4    9\n",
       "0    1\n",
       "1    3\n",
       "2    6\n",
       "3    3\n",
       "4    4\n",
       "dtype: int64"
      ]
     },
     "execution_count": 15,
     "metadata": {},
     "output_type": "execute_result"
    }
   ],
   "source": [
    "import pandas as pd\n",
    "\n",
    "a = [3,4,6,7,9]\n",
    "b = [1,3,6,3,4]\n",
    "a_series = pd.Series(a)\n",
    "b_series = pd.Series(b)\n",
    "pd.concat([a_series,b_series])"
   ]
  },
  {
   "cell_type": "code",
   "execution_count": 16,
   "id": "1b7f4619-60c8-4eac-8c8a-0323c882bbfb",
   "metadata": {
    "tags": []
   },
   "outputs": [
    {
     "data": {
      "text/plain": [
       "First   0    3\n",
       "        1    4\n",
       "        2    6\n",
       "        3    7\n",
       "        4    9\n",
       "Second  0    1\n",
       "        1    3\n",
       "        2    6\n",
       "        3    3\n",
       "        4    4\n",
       "dtype: int64"
      ]
     },
     "execution_count": 16,
     "metadata": {},
     "output_type": "execute_result"
    }
   ],
   "source": [
    "import pandas as pd\n",
    "\n",
    "a = [3,4,6,7,9]\n",
    "b = [1,3,6,3,4]\n",
    "a_series = pd.Series(a)\n",
    "b_series = pd.Series(b)\n",
    "pd.concat([a_series,b_series], keys = ['First', 'Second'])"
   ]
  },
  {
   "cell_type": "code",
   "execution_count": 17,
   "id": "0810ad92-40de-4972-baf8-ca57b05de2cf",
   "metadata": {
    "tags": []
   },
   "outputs": [
    {
     "data": {
      "text/plain": [
       "group, index   \n",
       "First         0    3\n",
       "              1    4\n",
       "              2    6\n",
       "              3    7\n",
       "              4    9\n",
       "Second        0    1\n",
       "              1    3\n",
       "              2    6\n",
       "              3    3\n",
       "              4    4\n",
       "dtype: int64"
      ]
     },
     "execution_count": 17,
     "metadata": {},
     "output_type": "execute_result"
    }
   ],
   "source": [
    "import pandas as pd\n",
    "\n",
    "a = [3,4,6,7,9]\n",
    "b = [1,3,6,3,4]\n",
    "a_series = pd.Series(a)\n",
    "b_series = pd.Series(b)\n",
    "pd.concat([a_series,b_series], keys = ['First', 'Second'], names=['group, index'])\n",
    "# keys for each dataframe and index can be any word but it define index of column"
   ]
  },
  {
   "cell_type": "code",
   "execution_count": 18,
   "id": "bb477882-d149-4ed5-b783-08193dc1a604",
   "metadata": {
    "tags": []
   },
   "outputs": [
    {
     "data": {
      "text/html": [
       "<div>\n",
       "<style scoped>\n",
       "    .dataframe tbody tr th:only-of-type {\n",
       "        vertical-align: middle;\n",
       "    }\n",
       "\n",
       "    .dataframe tbody tr th {\n",
       "        vertical-align: top;\n",
       "    }\n",
       "\n",
       "    .dataframe thead th {\n",
       "        text-align: right;\n",
       "    }\n",
       "</style>\n",
       "<table border=\"1\" class=\"dataframe\">\n",
       "  <thead>\n",
       "    <tr style=\"text-align: right;\">\n",
       "      <th></th>\n",
       "      <th>0</th>\n",
       "      <th>1</th>\n",
       "      <th>2</th>\n",
       "    </tr>\n",
       "  </thead>\n",
       "  <tbody>\n",
       "    <tr>\n",
       "      <th>0</th>\n",
       "      <td>3</td>\n",
       "      <td>4</td>\n",
       "      <td>6</td>\n",
       "    </tr>\n",
       "    <tr>\n",
       "      <th>1</th>\n",
       "      <td>1</td>\n",
       "      <td>2</td>\n",
       "      <td>3</td>\n",
       "    </tr>\n",
       "    <tr>\n",
       "      <th>0</th>\n",
       "      <td>1</td>\n",
       "      <td>3</td>\n",
       "      <td>6</td>\n",
       "    </tr>\n",
       "    <tr>\n",
       "      <th>1</th>\n",
       "      <td>4</td>\n",
       "      <td>7</td>\n",
       "      <td>8</td>\n",
       "    </tr>\n",
       "  </tbody>\n",
       "</table>\n",
       "</div>"
      ],
      "text/plain": [
       "   0  1  2\n",
       "0  3  4  6\n",
       "1  1  2  3\n",
       "0  1  3  6\n",
       "1  4  7  8"
      ]
     },
     "execution_count": 18,
     "metadata": {},
     "output_type": "execute_result"
    }
   ],
   "source": [
    "import pandas as pd\n",
    "\n",
    "a = [[3,4,6],[1,2,3]]\n",
    "b = [[1,3,6],[4,7,8]]\n",
    "a_df = pd.DataFrame(a)\n",
    "b_df = pd.DataFrame(b)\n",
    "df = pd.concat([a_df, b_df])\n",
    "df"
   ]
  },
  {
   "cell_type": "code",
   "execution_count": null,
   "id": "fb26ab3a-5c5f-4670-834b-464b8ff62c78",
   "metadata": {},
   "outputs": [],
   "source": []
  },
  {
   "cell_type": "code",
   "execution_count": 19,
   "id": "b40821da-ab31-4339-8721-365a3884ea23",
   "metadata": {
    "tags": []
   },
   "outputs": [
    {
     "data": {
      "text/html": [
       "<div>\n",
       "<style scoped>\n",
       "    .dataframe tbody tr th:only-of-type {\n",
       "        vertical-align: middle;\n",
       "    }\n",
       "\n",
       "    .dataframe tbody tr th {\n",
       "        vertical-align: top;\n",
       "    }\n",
       "\n",
       "    .dataframe thead th {\n",
       "        text-align: right;\n",
       "    }\n",
       "</style>\n",
       "<table border=\"1\" class=\"dataframe\">\n",
       "  <thead>\n",
       "    <tr style=\"text-align: right;\">\n",
       "      <th></th>\n",
       "      <th>0</th>\n",
       "      <th>letters</th>\n",
       "      <th>numbers</th>\n",
       "      <th>numbers2</th>\n",
       "    </tr>\n",
       "  </thead>\n",
       "  <tbody>\n",
       "    <tr>\n",
       "      <th>0</th>\n",
       "      <td>3.0</td>\n",
       "      <td>NaN</td>\n",
       "      <td>NaN</td>\n",
       "      <td>NaN</td>\n",
       "    </tr>\n",
       "    <tr>\n",
       "      <th>1</th>\n",
       "      <td>4.0</td>\n",
       "      <td>NaN</td>\n",
       "      <td>NaN</td>\n",
       "      <td>NaN</td>\n",
       "    </tr>\n",
       "    <tr>\n",
       "      <th>2</th>\n",
       "      <td>6.0</td>\n",
       "      <td>NaN</td>\n",
       "      <td>NaN</td>\n",
       "      <td>NaN</td>\n",
       "    </tr>\n",
       "    <tr>\n",
       "      <th>3</th>\n",
       "      <td>9.0</td>\n",
       "      <td>NaN</td>\n",
       "      <td>NaN</td>\n",
       "      <td>NaN</td>\n",
       "    </tr>\n",
       "    <tr>\n",
       "      <th>0</th>\n",
       "      <td>NaN</td>\n",
       "      <td>pen</td>\n",
       "      <td>2.0</td>\n",
       "      <td>4.0</td>\n",
       "    </tr>\n",
       "    <tr>\n",
       "      <th>1</th>\n",
       "      <td>NaN</td>\n",
       "      <td>rer</td>\n",
       "      <td>8.0</td>\n",
       "      <td>9.0</td>\n",
       "    </tr>\n",
       "  </tbody>\n",
       "</table>\n",
       "</div>"
      ],
      "text/plain": [
       "     0 letters  numbers  numbers2\n",
       "0  3.0     NaN      NaN       NaN\n",
       "1  4.0     NaN      NaN       NaN\n",
       "2  6.0     NaN      NaN       NaN\n",
       "3  9.0     NaN      NaN       NaN\n",
       "0  NaN     pen      2.0       4.0\n",
       "1  NaN     rer      8.0       9.0"
      ]
     },
     "execution_count": 19,
     "metadata": {},
     "output_type": "execute_result"
    }
   ],
   "source": [
    "import pandas as pd\n",
    "\n",
    "a = [3,4,6,9]\n",
    "b = [['pen',2,4], ['rer',8,9]]\n",
    "a_df = pd.DataFrame(a)\n",
    "b_df = pd.DataFrame(b, columns=['letters', 'numbers', 'numbers2'])\n",
    "pd.concat([a_df,b_df])"
   ]
  },
  {
   "cell_type": "code",
   "execution_count": 21,
   "id": "7bcef077-136e-4855-b7fc-1fd04f3143d2",
   "metadata": {
    "tags": []
   },
   "outputs": [
    {
     "data": {
      "text/html": [
       "<div>\n",
       "<style scoped>\n",
       "    .dataframe tbody tr th:only-of-type {\n",
       "        vertical-align: middle;\n",
       "    }\n",
       "\n",
       "    .dataframe tbody tr th {\n",
       "        vertical-align: top;\n",
       "    }\n",
       "\n",
       "    .dataframe thead th {\n",
       "        text-align: right;\n",
       "    }\n",
       "</style>\n",
       "<table border=\"1\" class=\"dataframe\">\n",
       "  <thead>\n",
       "    <tr style=\"text-align: right;\">\n",
       "      <th></th>\n",
       "      <th>n</th>\n",
       "      <th>o</th>\n",
       "      <th>p</th>\n",
       "    </tr>\n",
       "  </thead>\n",
       "  <tbody>\n",
       "    <tr>\n",
       "      <th>0</th>\n",
       "      <td>3</td>\n",
       "      <td>4</td>\n",
       "      <td>6</td>\n",
       "    </tr>\n",
       "    <tr>\n",
       "      <th>1</th>\n",
       "      <td>1</td>\n",
       "      <td>2</td>\n",
       "      <td>3</td>\n",
       "    </tr>\n",
       "    <tr>\n",
       "      <th>0</th>\n",
       "      <td>1</td>\n",
       "      <td>3</td>\n",
       "      <td>6</td>\n",
       "    </tr>\n",
       "    <tr>\n",
       "      <th>1</th>\n",
       "      <td>4</td>\n",
       "      <td>7</td>\n",
       "      <td>8</td>\n",
       "    </tr>\n",
       "  </tbody>\n",
       "</table>\n",
       "</div>"
      ],
      "text/plain": [
       "   n  o  p\n",
       "0  3  4  6\n",
       "1  1  2  3\n",
       "0  1  3  6\n",
       "1  4  7  8"
      ]
     },
     "execution_count": 21,
     "metadata": {},
     "output_type": "execute_result"
    }
   ],
   "source": [
    "import pandas as pd\n",
    "\n",
    "a = [[3,4,6], [1,2,3]]\n",
    "b = [[1,3,6],[4,7,8]]\n",
    "a_df = pd.DataFrame(a, columns=['n', 'o', 'p'])\n",
    "b_df = pd.DataFrame(b, columns=['n', 'o', 'p'])\n",
    "pd.concat([a_df, b_df], axis =1) \n",
    "pd.concat([a_df, b_df], axis =0)"
   ]
  },
  {
   "cell_type": "code",
   "execution_count": 22,
   "id": "9b4117ee-e631-4e7e-ac14-8f688a7a5dca",
   "metadata": {
    "tags": []
   },
   "outputs": [
    {
     "data": {
      "text/html": [
       "<div>\n",
       "<style scoped>\n",
       "    .dataframe tbody tr th:only-of-type {\n",
       "        vertical-align: middle;\n",
       "    }\n",
       "\n",
       "    .dataframe tbody tr th {\n",
       "        vertical-align: top;\n",
       "    }\n",
       "\n",
       "    .dataframe thead th {\n",
       "        text-align: right;\n",
       "    }\n",
       "</style>\n",
       "<table border=\"1\" class=\"dataframe\">\n",
       "  <thead>\n",
       "    <tr style=\"text-align: right;\">\n",
       "      <th></th>\n",
       "      <th>Name</th>\n",
       "      <th>Salary</th>\n",
       "      <th>Department</th>\n",
       "    </tr>\n",
       "  </thead>\n",
       "  <tbody>\n",
       "    <tr>\n",
       "      <th>0</th>\n",
       "      <td>Peter</td>\n",
       "      <td>22000</td>\n",
       "      <td>Sales</td>\n",
       "    </tr>\n",
       "    <tr>\n",
       "      <th>1</th>\n",
       "      <td>Ahmed</td>\n",
       "      <td>35000</td>\n",
       "      <td>Admin</td>\n",
       "    </tr>\n",
       "    <tr>\n",
       "      <th>2</th>\n",
       "      <td>James</td>\n",
       "      <td>77000</td>\n",
       "      <td>IT</td>\n",
       "    </tr>\n",
       "    <tr>\n",
       "      <th>3</th>\n",
       "      <td>Kate</td>\n",
       "      <td>25000</td>\n",
       "      <td>HR</td>\n",
       "    </tr>\n",
       "  </tbody>\n",
       "</table>\n",
       "</div>"
      ],
      "text/plain": [
       "    Name  Salary Department\n",
       "0  Peter   22000      Sales\n",
       "1  Ahmed   35000      Admin\n",
       "2  James   77000         IT\n",
       "3   Kate   25000         HR"
      ]
     },
     "execution_count": 22,
     "metadata": {},
     "output_type": "execute_result"
    }
   ],
   "source": [
    "import pandas as pd\n",
    "df_1 = pd.DataFrame({\n",
    "    'Name':['Peter','Ahmed','James','Kate'],\n",
    "    'Salary':[22000,35000,77000,25000]\n",
    "})\n",
    "\n",
    "df_2 = pd.DataFrame({\n",
    "    'Name':['Peter','Ahmed','James','Kate'],\n",
    "    'Department':['Sales','Admin','IT','HR']\n",
    "})\n",
    "df_3 = pd.merge(df_1, df_2, on='Name')\n",
    "df_3"
   ]
  },
  {
   "cell_type": "code",
   "execution_count": 27,
   "id": "e12f1442-ae90-42f8-8389-3bd2ce88243b",
   "metadata": {
    "tags": []
   },
   "outputs": [
    {
     "data": {
      "text/html": [
       "<div>\n",
       "<style scoped>\n",
       "    .dataframe tbody tr th:only-of-type {\n",
       "        vertical-align: middle;\n",
       "    }\n",
       "\n",
       "    .dataframe tbody tr th {\n",
       "        vertical-align: top;\n",
       "    }\n",
       "\n",
       "    .dataframe thead th {\n",
       "        text-align: right;\n",
       "    }\n",
       "</style>\n",
       "<table border=\"1\" class=\"dataframe\">\n",
       "  <thead>\n",
       "    <tr style=\"text-align: right;\">\n",
       "      <th></th>\n",
       "      <th>Name</th>\n",
       "      <th>Salary</th>\n",
       "      <th>Department</th>\n",
       "    </tr>\n",
       "  </thead>\n",
       "  <tbody>\n",
       "    <tr>\n",
       "      <th>0</th>\n",
       "      <td>Peter</td>\n",
       "      <td>22000</td>\n",
       "      <td>Sales</td>\n",
       "    </tr>\n",
       "    <tr>\n",
       "      <th>1</th>\n",
       "      <td>Ahmed</td>\n",
       "      <td>35000</td>\n",
       "      <td>Admin</td>\n",
       "    </tr>\n",
       "    <tr>\n",
       "      <th>2</th>\n",
       "      <td>Kate</td>\n",
       "      <td>25000</td>\n",
       "      <td>HR</td>\n",
       "    </tr>\n",
       "  </tbody>\n",
       "</table>\n",
       "</div>"
      ],
      "text/plain": [
       "    Name  Salary Department\n",
       "0  Peter   22000      Sales\n",
       "1  Ahmed   35000      Admin\n",
       "2   Kate   25000         HR"
      ]
     },
     "execution_count": 27,
     "metadata": {},
     "output_type": "execute_result"
    }
   ],
   "source": [
    "import pandas as pd\n",
    "\n",
    "df_1 = pd.DataFrame({\n",
    "    'Name':['Peter','Ahmed','James','Kate'],\n",
    "    'Salary':[22000,35000,77000,25000]\n",
    "})\n",
    "df_2 = pd.DataFrame({\n",
    "    'Name':['Peter','Ahmed','Kate'],\n",
    "    'Department':['Sales','Admin','HR']\n",
    "})\n",
    "df_3 = pd.merge(df_1, df_2, on='Name') # inner join\n",
    "df_3\n",
    "df_6 = pd.merge(df_1,df_2,on='Name', how='inner') # same as above # intersect\n",
    "df_6\n",
    "df_7 = pd.merge(df_1,df_2,on='Name', how='outer') #union\n",
    "df_7\n",
    "df_8 = pd.merge(df_1,df_2,on='Name', how='left') #all from left\n",
    "df_8\n",
    "df_9 = pd.merge(df_1,df_2,on='Name', how='right') #all from right\n",
    "df_9"
   ]
  },
  {
   "cell_type": "code",
   "execution_count": 30,
   "id": "be732f9d-0339-45f2-b29f-7c380e6fff5d",
   "metadata": {
    "tags": []
   },
   "outputs": [
    {
     "data": {
      "text/html": [
       "<div>\n",
       "<style scoped>\n",
       "    .dataframe tbody tr th:only-of-type {\n",
       "        vertical-align: middle;\n",
       "    }\n",
       "\n",
       "    .dataframe tbody tr th {\n",
       "        vertical-align: top;\n",
       "    }\n",
       "\n",
       "    .dataframe thead th {\n",
       "        text-align: right;\n",
       "    }\n",
       "</style>\n",
       "<table border=\"1\" class=\"dataframe\">\n",
       "  <thead>\n",
       "    <tr style=\"text-align: right;\">\n",
       "      <th></th>\n",
       "      <th>Name</th>\n",
       "      <th>Salary</th>\n",
       "      <th>Department_first</th>\n",
       "      <th>Education_first</th>\n",
       "      <th>Department_second</th>\n",
       "      <th>Education_second</th>\n",
       "    </tr>\n",
       "  </thead>\n",
       "  <tbody>\n",
       "    <tr>\n",
       "      <th>0</th>\n",
       "      <td>Peter</td>\n",
       "      <td>22000</td>\n",
       "      <td>Sales</td>\n",
       "      <td>Bsc</td>\n",
       "      <td>Sales</td>\n",
       "      <td>Bsc</td>\n",
       "    </tr>\n",
       "    <tr>\n",
       "      <th>1</th>\n",
       "      <td>Ahmed</td>\n",
       "      <td>35000</td>\n",
       "      <td>Admin</td>\n",
       "      <td>Bsc</td>\n",
       "      <td>Admin</td>\n",
       "      <td>Bsc</td>\n",
       "    </tr>\n",
       "    <tr>\n",
       "      <th>2</th>\n",
       "      <td>James</td>\n",
       "      <td>77000</td>\n",
       "      <td>IT</td>\n",
       "      <td>MSc</td>\n",
       "      <td>IT</td>\n",
       "      <td>MSc</td>\n",
       "    </tr>\n",
       "    <tr>\n",
       "      <th>3</th>\n",
       "      <td>Kate</td>\n",
       "      <td>25000</td>\n",
       "      <td>HR</td>\n",
       "      <td>MA</td>\n",
       "      <td>HR</td>\n",
       "      <td>MA</td>\n",
       "    </tr>\n",
       "  </tbody>\n",
       "</table>\n",
       "</div>"
      ],
      "text/plain": [
       "    Name  Salary Department_first Education_first Department_second  \\\n",
       "0  Peter   22000            Sales             Bsc             Sales   \n",
       "1  Ahmed   35000            Admin             Bsc             Admin   \n",
       "2  James   77000               IT             MSc                IT   \n",
       "3   Kate   25000               HR              MA                HR   \n",
       "\n",
       "  Education_second  \n",
       "0              Bsc  \n",
       "1              Bsc  \n",
       "2              MSc  \n",
       "3               MA  "
      ]
     },
     "execution_count": 30,
     "metadata": {},
     "output_type": "execute_result"
    }
   ],
   "source": [
    "import pandas as pd\n",
    "\n",
    "df_1 = pd.DataFrame({\n",
    "    'Name':['Peter','Ahmed','James','Kate'],\n",
    "    'Salary':[22000,35000,77000,25000],\n",
    "    'Department':['Sales','Admin','IT','HR'],\n",
    "    'Education':['Bsc','Bsc','MSc','MA']\n",
    "})\n",
    "df_2 = pd.DataFrame({\n",
    "    'Name':['Peter','Ahmed','James','Kate'],\n",
    "    'Department':['Sales','Admin','IT','HR'],\n",
    "    'Education':['Bsc','Bsc','MSc','MA']\n",
    "})\n",
    "\n",
    "df_3 = pd.merge(df_1,df_2,on='Name')\n",
    "df_3 = pd.merge(df_1,df_2,on='Name', suffixes=('_first', '_second'))\n",
    "df_3"
   ]
  },
  {
   "cell_type": "code",
   "execution_count": 56,
   "id": "c267257c-605f-4e9c-8a7a-4172ee0a5940",
   "metadata": {
    "tags": []
   },
   "outputs": [
    {
     "name": "stdout",
     "output_type": "stream",
     "text": [
      "  Country name  year  Life Ladder  Log GDP per capita  Social support  \\\n",
      "0  Afghanistan  2008        3.724               7.370           0.451   \n",
      "1  Afghanistan  2009        4.402               7.540           0.552   \n",
      "2  Afghanistan  2010        4.758               7.647           0.539   \n",
      "3  Afghanistan  2011        3.832               7.620           0.521   \n",
      "4  Afghanistan  2012        3.783               7.705           0.521   \n",
      "\n",
      "   Healthy life expectancy at birth  Freedom to make life choices  Generosity  \\\n",
      "0                             50.80                         0.718       0.168   \n",
      "1                             51.20                         0.679       0.190   \n",
      "2                             51.60                         0.600       0.121   \n",
      "3                             51.92                         0.496       0.162   \n",
      "4                             52.24                         0.531       0.236   \n",
      "\n",
      "   Perceptions of corruption  Positive affect  Negative affect  \n",
      "0                      0.882            0.518            0.258  \n",
      "1                      0.850            0.584            0.237  \n",
      "2                      0.707            0.618            0.275  \n",
      "3                      0.731            0.611            0.267  \n",
      "4                      0.776            0.710            0.268  \n"
     ]
    }
   ],
   "source": [
    "df=pd.read_csv('DataForDatascience/world-happiness-report.csv')\n",
    "#print(df.to_string())\n",
    "print(df.head())\n",
    "#print(df.tail())\n",
    "#print(df.info()) # information about dataframe\n",
    "#print(df.describe()) # statistics\n",
    "#print(df.describe(percentiles=[.2,.6,.8])) # statistics"
   ]
  },
  {
   "cell_type": "code",
   "execution_count": 51,
   "id": "5a8c0a75-29d2-4d70-844c-9f038dcc5cfc",
   "metadata": {
    "tags": []
   },
   "outputs": [
    {
     "name": "stderr",
     "output_type": "stream",
     "text": [
      "C:\\Users\\ankur\\AppData\\Local\\Temp\\ipykernel_13772\\2690680807.py:19: FutureWarning: Dropping of nuisance columns in DataFrame reductions (with 'numeric_only=None') is deprecated; in a future version this will raise TypeError.  Select only valid columns before calling the reduction.\n",
      "  df.mean(axis=1)\n",
      "C:\\Users\\ankur\\AppData\\Local\\Temp\\ipykernel_13772\\2690680807.py:20: FutureWarning: The default value of numeric_only in DataFrame.mean is deprecated. In a future version, it will default to False. In addition, specifying 'numeric_only=None' is deprecated. Select only valid columns or specify the value of numeric_only to silence this warning.\n",
      "  df.mean(axis=0)\n"
     ]
    },
    {
     "data": {
      "text/plain": [
       "year                                2013.216008\n",
       "Life Ladder                            5.466705\n",
       "Log GDP per capita                     9.368453\n",
       "Social support                         0.812552\n",
       "Healthy life expectancy at birth      63.359374\n",
       "Freedom to make life choices           0.742558\n",
       "Generosity                             0.000103\n",
       "Perceptions of corruption              0.747125\n",
       "Positive affect                        0.710003\n",
       "Negative affect                        0.268544\n",
       "dtype: float64"
      ]
     },
     "execution_count": 51,
     "metadata": {},
     "output_type": "execute_result"
    }
   ],
   "source": [
    "df['Freedom to make life choices'].min() # min max of specific colum\n",
    "df['Freedom to make life choices'].max()\n",
    "\n",
    "country=['Singapore']\n",
    "\n",
    "d_filter=df[df['Country name'].isin(country)] # get only singapore data\n",
    "d_filter\n",
    "\n",
    "d_filter['Freedom to make life choices'].min() # min max of specific colum\n",
    "d_filter['Freedom to make life choices'].max()\n",
    "\n",
    "df['Perceptions of corruption'].mean()\n",
    "df['Perceptions of corruption'].median()\n",
    "df['Perceptions of corruption'].mode()\n",
    "\n",
    "df['Generosity'].sum()\n",
    "df['Generosity'].sum(skipna=True) # same as above\n",
    "\n",
    "df.mean(axis=1)\n",
    "df.mean(axis=0)"
   ]
  },
  {
   "cell_type": "code",
   "execution_count": 53,
   "id": "56e57708-c2f3-4fcf-bcf6-82082e07b004",
   "metadata": {
    "tags": []
   },
   "outputs": [
    {
     "data": {
      "text/plain": [
       "Country name                        1949\n",
       "year                                1949\n",
       "Life Ladder                         1949\n",
       "Log GDP per capita                  1913\n",
       "Social support                      1936\n",
       "Healthy life expectancy at birth    1894\n",
       "Freedom to make life choices        1917\n",
       "Generosity                          1860\n",
       "Perceptions of corruption           1839\n",
       "Positive affect                     1927\n",
       "Negative affect                     1933\n",
       "dtype: int64"
      ]
     },
     "execution_count": 53,
     "metadata": {},
     "output_type": "execute_result"
    }
   ],
   "source": [
    "df.count()"
   ]
  },
  {
   "cell_type": "code",
   "execution_count": 54,
   "id": "53fd28f5-9543-4fed-bdae-23b3ea07c1a4",
   "metadata": {
    "tags": []
   },
   "outputs": [
    {
     "data": {
      "text/plain": [
       "0       11\n",
       "1       11\n",
       "2       11\n",
       "3       11\n",
       "4       11\n",
       "        ..\n",
       "1944    11\n",
       "1945    11\n",
       "1946    11\n",
       "1947    11\n",
       "1948    11\n",
       "Length: 1949, dtype: int64"
      ]
     },
     "execution_count": 54,
     "metadata": {},
     "output_type": "execute_result"
    }
   ],
   "source": [
    "df.count(axis=1)"
   ]
  },
  {
   "cell_type": "code",
   "execution_count": 55,
   "id": "da0b90d7-1260-40ea-b0a5-965af48a330f",
   "metadata": {
    "tags": []
   },
   "outputs": [],
   "source": [
    "# Json file\n",
    "\n",
    "#pd.read_json()\n",
    "\n"
   ]
  },
  {
   "cell_type": "code",
   "execution_count": null,
   "id": "d2622296-7426-4989-8075-c7dbd6533a89",
   "metadata": {},
   "outputs": [],
   "source": []
  },
  {
   "cell_type": "code",
   "execution_count": 57,
   "id": "07b8cd31-4c1d-45f1-8820-bf9e4a7613f0",
   "metadata": {
    "tags": []
   },
   "outputs": [
    {
     "ename": "FileNotFoundError",
     "evalue": "[Errno 2] No such file or directory: 'world-happiness-report.csv'",
     "output_type": "error",
     "traceback": [
      "\u001b[1;31m---------------------------------------------------------------------------\u001b[0m",
      "\u001b[1;31mFileNotFoundError\u001b[0m                         Traceback (most recent call last)",
      "Cell \u001b[1;32mIn[57], line 1\u001b[0m\n\u001b[1;32m----> 1\u001b[0m file2 \u001b[38;5;241m=\u001b[39m pd\u001b[38;5;241m.\u001b[39mread_csv(\u001b[38;5;124m'\u001b[39m\u001b[38;5;124mworld-happiness-report.csv\u001b[39m\u001b[38;5;124m'\u001b[39m, header\u001b[38;5;241m=\u001b[39m\u001b[38;5;241m1\u001b[39m)\u001b[38;5;66;03m#Skip Rows Reading CSV File \u001b[39;00m\n\u001b[0;32m      4\u001b[0m file2 \u001b[38;5;241m=\u001b[39m pd\u001b[38;5;241m.\u001b[39mread_csv(\u001b[38;5;124m'\u001b[39m\u001b[38;5;124mworld-happiness-report.csv\u001b[39m\u001b[38;5;124m'\u001b[39m, skiprows\u001b[38;5;241m=\u001b[39m[\u001b[38;5;241m2\u001b[39m,\u001b[38;5;241m3\u001b[39m,\u001b[38;5;241m4\u001b[39m,\u001b[38;5;241m6\u001b[39m])\n\u001b[0;32m      5\u001b[0m file2 \u001b[38;5;241m=\u001b[39m pd\u001b[38;5;241m.\u001b[39mread_csv(\u001b[38;5;124m'\u001b[39m\u001b[38;5;124mworld-happiness-report.csv\u001b[39m\u001b[38;5;124m'\u001b[39m, skiprows\u001b[38;5;241m=\u001b[39m[\u001b[38;5;241m0\u001b[39m])\n",
      "File \u001b[1;32mC:\\ProgramData\\anaconda3\\Lib\\site-packages\\pandas\\util\\_decorators.py:211\u001b[0m, in \u001b[0;36mdeprecate_kwarg.<locals>._deprecate_kwarg.<locals>.wrapper\u001b[1;34m(*args, **kwargs)\u001b[0m\n\u001b[0;32m    209\u001b[0m     \u001b[38;5;28;01melse\u001b[39;00m:\n\u001b[0;32m    210\u001b[0m         kwargs[new_arg_name] \u001b[38;5;241m=\u001b[39m new_arg_value\n\u001b[1;32m--> 211\u001b[0m \u001b[38;5;28;01mreturn\u001b[39;00m func(\u001b[38;5;241m*\u001b[39margs, \u001b[38;5;241m*\u001b[39m\u001b[38;5;241m*\u001b[39mkwargs)\n",
      "File \u001b[1;32mC:\\ProgramData\\anaconda3\\Lib\\site-packages\\pandas\\util\\_decorators.py:331\u001b[0m, in \u001b[0;36mdeprecate_nonkeyword_arguments.<locals>.decorate.<locals>.wrapper\u001b[1;34m(*args, **kwargs)\u001b[0m\n\u001b[0;32m    325\u001b[0m \u001b[38;5;28;01mif\u001b[39;00m \u001b[38;5;28mlen\u001b[39m(args) \u001b[38;5;241m>\u001b[39m num_allow_args:\n\u001b[0;32m    326\u001b[0m     warnings\u001b[38;5;241m.\u001b[39mwarn(\n\u001b[0;32m    327\u001b[0m         msg\u001b[38;5;241m.\u001b[39mformat(arguments\u001b[38;5;241m=\u001b[39m_format_argument_list(allow_args)),\n\u001b[0;32m    328\u001b[0m         \u001b[38;5;167;01mFutureWarning\u001b[39;00m,\n\u001b[0;32m    329\u001b[0m         stacklevel\u001b[38;5;241m=\u001b[39mfind_stack_level(),\n\u001b[0;32m    330\u001b[0m     )\n\u001b[1;32m--> 331\u001b[0m \u001b[38;5;28;01mreturn\u001b[39;00m func(\u001b[38;5;241m*\u001b[39margs, \u001b[38;5;241m*\u001b[39m\u001b[38;5;241m*\u001b[39mkwargs)\n",
      "File \u001b[1;32mC:\\ProgramData\\anaconda3\\Lib\\site-packages\\pandas\\io\\parsers\\readers.py:950\u001b[0m, in \u001b[0;36mread_csv\u001b[1;34m(filepath_or_buffer, sep, delimiter, header, names, index_col, usecols, squeeze, prefix, mangle_dupe_cols, dtype, engine, converters, true_values, false_values, skipinitialspace, skiprows, skipfooter, nrows, na_values, keep_default_na, na_filter, verbose, skip_blank_lines, parse_dates, infer_datetime_format, keep_date_col, date_parser, dayfirst, cache_dates, iterator, chunksize, compression, thousands, decimal, lineterminator, quotechar, quoting, doublequote, escapechar, comment, encoding, encoding_errors, dialect, error_bad_lines, warn_bad_lines, on_bad_lines, delim_whitespace, low_memory, memory_map, float_precision, storage_options)\u001b[0m\n\u001b[0;32m    935\u001b[0m kwds_defaults \u001b[38;5;241m=\u001b[39m _refine_defaults_read(\n\u001b[0;32m    936\u001b[0m     dialect,\n\u001b[0;32m    937\u001b[0m     delimiter,\n\u001b[1;32m   (...)\u001b[0m\n\u001b[0;32m    946\u001b[0m     defaults\u001b[38;5;241m=\u001b[39m{\u001b[38;5;124m\"\u001b[39m\u001b[38;5;124mdelimiter\u001b[39m\u001b[38;5;124m\"\u001b[39m: \u001b[38;5;124m\"\u001b[39m\u001b[38;5;124m,\u001b[39m\u001b[38;5;124m\"\u001b[39m},\n\u001b[0;32m    947\u001b[0m )\n\u001b[0;32m    948\u001b[0m kwds\u001b[38;5;241m.\u001b[39mupdate(kwds_defaults)\n\u001b[1;32m--> 950\u001b[0m \u001b[38;5;28;01mreturn\u001b[39;00m _read(filepath_or_buffer, kwds)\n",
      "File \u001b[1;32mC:\\ProgramData\\anaconda3\\Lib\\site-packages\\pandas\\io\\parsers\\readers.py:605\u001b[0m, in \u001b[0;36m_read\u001b[1;34m(filepath_or_buffer, kwds)\u001b[0m\n\u001b[0;32m    602\u001b[0m _validate_names(kwds\u001b[38;5;241m.\u001b[39mget(\u001b[38;5;124m\"\u001b[39m\u001b[38;5;124mnames\u001b[39m\u001b[38;5;124m\"\u001b[39m, \u001b[38;5;28;01mNone\u001b[39;00m))\n\u001b[0;32m    604\u001b[0m \u001b[38;5;66;03m# Create the parser.\u001b[39;00m\n\u001b[1;32m--> 605\u001b[0m parser \u001b[38;5;241m=\u001b[39m TextFileReader(filepath_or_buffer, \u001b[38;5;241m*\u001b[39m\u001b[38;5;241m*\u001b[39mkwds)\n\u001b[0;32m    607\u001b[0m \u001b[38;5;28;01mif\u001b[39;00m chunksize \u001b[38;5;129;01mor\u001b[39;00m iterator:\n\u001b[0;32m    608\u001b[0m     \u001b[38;5;28;01mreturn\u001b[39;00m parser\n",
      "File \u001b[1;32mC:\\ProgramData\\anaconda3\\Lib\\site-packages\\pandas\\io\\parsers\\readers.py:1442\u001b[0m, in \u001b[0;36mTextFileReader.__init__\u001b[1;34m(self, f, engine, **kwds)\u001b[0m\n\u001b[0;32m   1439\u001b[0m     \u001b[38;5;28mself\u001b[39m\u001b[38;5;241m.\u001b[39moptions[\u001b[38;5;124m\"\u001b[39m\u001b[38;5;124mhas_index_names\u001b[39m\u001b[38;5;124m\"\u001b[39m] \u001b[38;5;241m=\u001b[39m kwds[\u001b[38;5;124m\"\u001b[39m\u001b[38;5;124mhas_index_names\u001b[39m\u001b[38;5;124m\"\u001b[39m]\n\u001b[0;32m   1441\u001b[0m \u001b[38;5;28mself\u001b[39m\u001b[38;5;241m.\u001b[39mhandles: IOHandles \u001b[38;5;241m|\u001b[39m \u001b[38;5;28;01mNone\u001b[39;00m \u001b[38;5;241m=\u001b[39m \u001b[38;5;28;01mNone\u001b[39;00m\n\u001b[1;32m-> 1442\u001b[0m \u001b[38;5;28mself\u001b[39m\u001b[38;5;241m.\u001b[39m_engine \u001b[38;5;241m=\u001b[39m \u001b[38;5;28mself\u001b[39m\u001b[38;5;241m.\u001b[39m_make_engine(f, \u001b[38;5;28mself\u001b[39m\u001b[38;5;241m.\u001b[39mengine)\n",
      "File \u001b[1;32mC:\\ProgramData\\anaconda3\\Lib\\site-packages\\pandas\\io\\parsers\\readers.py:1735\u001b[0m, in \u001b[0;36mTextFileReader._make_engine\u001b[1;34m(self, f, engine)\u001b[0m\n\u001b[0;32m   1733\u001b[0m     \u001b[38;5;28;01mif\u001b[39;00m \u001b[38;5;124m\"\u001b[39m\u001b[38;5;124mb\u001b[39m\u001b[38;5;124m\"\u001b[39m \u001b[38;5;129;01mnot\u001b[39;00m \u001b[38;5;129;01min\u001b[39;00m mode:\n\u001b[0;32m   1734\u001b[0m         mode \u001b[38;5;241m+\u001b[39m\u001b[38;5;241m=\u001b[39m \u001b[38;5;124m\"\u001b[39m\u001b[38;5;124mb\u001b[39m\u001b[38;5;124m\"\u001b[39m\n\u001b[1;32m-> 1735\u001b[0m \u001b[38;5;28mself\u001b[39m\u001b[38;5;241m.\u001b[39mhandles \u001b[38;5;241m=\u001b[39m get_handle(\n\u001b[0;32m   1736\u001b[0m     f,\n\u001b[0;32m   1737\u001b[0m     mode,\n\u001b[0;32m   1738\u001b[0m     encoding\u001b[38;5;241m=\u001b[39m\u001b[38;5;28mself\u001b[39m\u001b[38;5;241m.\u001b[39moptions\u001b[38;5;241m.\u001b[39mget(\u001b[38;5;124m\"\u001b[39m\u001b[38;5;124mencoding\u001b[39m\u001b[38;5;124m\"\u001b[39m, \u001b[38;5;28;01mNone\u001b[39;00m),\n\u001b[0;32m   1739\u001b[0m     compression\u001b[38;5;241m=\u001b[39m\u001b[38;5;28mself\u001b[39m\u001b[38;5;241m.\u001b[39moptions\u001b[38;5;241m.\u001b[39mget(\u001b[38;5;124m\"\u001b[39m\u001b[38;5;124mcompression\u001b[39m\u001b[38;5;124m\"\u001b[39m, \u001b[38;5;28;01mNone\u001b[39;00m),\n\u001b[0;32m   1740\u001b[0m     memory_map\u001b[38;5;241m=\u001b[39m\u001b[38;5;28mself\u001b[39m\u001b[38;5;241m.\u001b[39moptions\u001b[38;5;241m.\u001b[39mget(\u001b[38;5;124m\"\u001b[39m\u001b[38;5;124mmemory_map\u001b[39m\u001b[38;5;124m\"\u001b[39m, \u001b[38;5;28;01mFalse\u001b[39;00m),\n\u001b[0;32m   1741\u001b[0m     is_text\u001b[38;5;241m=\u001b[39mis_text,\n\u001b[0;32m   1742\u001b[0m     errors\u001b[38;5;241m=\u001b[39m\u001b[38;5;28mself\u001b[39m\u001b[38;5;241m.\u001b[39moptions\u001b[38;5;241m.\u001b[39mget(\u001b[38;5;124m\"\u001b[39m\u001b[38;5;124mencoding_errors\u001b[39m\u001b[38;5;124m\"\u001b[39m, \u001b[38;5;124m\"\u001b[39m\u001b[38;5;124mstrict\u001b[39m\u001b[38;5;124m\"\u001b[39m),\n\u001b[0;32m   1743\u001b[0m     storage_options\u001b[38;5;241m=\u001b[39m\u001b[38;5;28mself\u001b[39m\u001b[38;5;241m.\u001b[39moptions\u001b[38;5;241m.\u001b[39mget(\u001b[38;5;124m\"\u001b[39m\u001b[38;5;124mstorage_options\u001b[39m\u001b[38;5;124m\"\u001b[39m, \u001b[38;5;28;01mNone\u001b[39;00m),\n\u001b[0;32m   1744\u001b[0m )\n\u001b[0;32m   1745\u001b[0m \u001b[38;5;28;01massert\u001b[39;00m \u001b[38;5;28mself\u001b[39m\u001b[38;5;241m.\u001b[39mhandles \u001b[38;5;129;01mis\u001b[39;00m \u001b[38;5;129;01mnot\u001b[39;00m \u001b[38;5;28;01mNone\u001b[39;00m\n\u001b[0;32m   1746\u001b[0m f \u001b[38;5;241m=\u001b[39m \u001b[38;5;28mself\u001b[39m\u001b[38;5;241m.\u001b[39mhandles\u001b[38;5;241m.\u001b[39mhandle\n",
      "File \u001b[1;32mC:\\ProgramData\\anaconda3\\Lib\\site-packages\\pandas\\io\\common.py:856\u001b[0m, in \u001b[0;36mget_handle\u001b[1;34m(path_or_buf, mode, encoding, compression, memory_map, is_text, errors, storage_options)\u001b[0m\n\u001b[0;32m    851\u001b[0m \u001b[38;5;28;01melif\u001b[39;00m \u001b[38;5;28misinstance\u001b[39m(handle, \u001b[38;5;28mstr\u001b[39m):\n\u001b[0;32m    852\u001b[0m     \u001b[38;5;66;03m# Check whether the filename is to be opened in binary mode.\u001b[39;00m\n\u001b[0;32m    853\u001b[0m     \u001b[38;5;66;03m# Binary mode does not support 'encoding' and 'newline'.\u001b[39;00m\n\u001b[0;32m    854\u001b[0m     \u001b[38;5;28;01mif\u001b[39;00m ioargs\u001b[38;5;241m.\u001b[39mencoding \u001b[38;5;129;01mand\u001b[39;00m \u001b[38;5;124m\"\u001b[39m\u001b[38;5;124mb\u001b[39m\u001b[38;5;124m\"\u001b[39m \u001b[38;5;129;01mnot\u001b[39;00m \u001b[38;5;129;01min\u001b[39;00m ioargs\u001b[38;5;241m.\u001b[39mmode:\n\u001b[0;32m    855\u001b[0m         \u001b[38;5;66;03m# Encoding\u001b[39;00m\n\u001b[1;32m--> 856\u001b[0m         handle \u001b[38;5;241m=\u001b[39m \u001b[38;5;28mopen\u001b[39m(\n\u001b[0;32m    857\u001b[0m             handle,\n\u001b[0;32m    858\u001b[0m             ioargs\u001b[38;5;241m.\u001b[39mmode,\n\u001b[0;32m    859\u001b[0m             encoding\u001b[38;5;241m=\u001b[39mioargs\u001b[38;5;241m.\u001b[39mencoding,\n\u001b[0;32m    860\u001b[0m             errors\u001b[38;5;241m=\u001b[39merrors,\n\u001b[0;32m    861\u001b[0m             newline\u001b[38;5;241m=\u001b[39m\u001b[38;5;124m\"\u001b[39m\u001b[38;5;124m\"\u001b[39m,\n\u001b[0;32m    862\u001b[0m         )\n\u001b[0;32m    863\u001b[0m     \u001b[38;5;28;01melse\u001b[39;00m:\n\u001b[0;32m    864\u001b[0m         \u001b[38;5;66;03m# Binary mode\u001b[39;00m\n\u001b[0;32m    865\u001b[0m         handle \u001b[38;5;241m=\u001b[39m \u001b[38;5;28mopen\u001b[39m(handle, ioargs\u001b[38;5;241m.\u001b[39mmode)\n",
      "\u001b[1;31mFileNotFoundError\u001b[0m: [Errno 2] No such file or directory: 'world-happiness-report.csv'"
     ]
    }
   ],
   "source": [
    "file2 = pd.read_csv('world-happiness-report.csv', header=1)#Skip Rows Reading CSV File \n",
    "\n",
    "\n",
    "file2 = pd.read_csv('world-happiness-report.csv', skiprows=[2,3,4,6])\n",
    "file2 = pd.read_csv('world-happiness-report.csv', skiprows=[0])\n",
    "file2 = pd.read_csv('world-happiness-report.csv', skiprows=4)\n",
    "file2 = pd.read_csv('world-happiness-report.csv', header = None)\n",
    "\n",
    "file2 = pd.read_csv('world-happiness-report.csv', header = None, prefix='header_')\n",
    "\n",
    "\n",
    "file = pd.read_csv('world-happiness-report.csv', usecols=['year', 'Generosity'])\n",
    "\n",
    "file = pd.read_csv('world-happiness-report.csv', usecols=[3, 6, 0, 2])\n",
    "\n",
    "file = pd.read_csv('world-happiness-report.csv', nrows=19)\n",
    "file = pd.read_csv('world-happiness-report.csv', usecols=[0,1,3],nrows=6)\n",
    "\n",
    "\n",
    "file = pd.read_csv('world-happiness-report.csv', verbose=True)\n",
    "\n",
    "file = pd.read_csv('world-happiness-report.csv', dtype={'year':'float64'})\n",
    "\n",
    "file.dtypes\n",
    "\n",
    "\n",
    "file = pd.read_csv('world-happiness-report.csv')\n",
    "\n",
    "file.info()\n",
    "\n",
    "country = file['Country name']\n",
    "\n",
    "country.head()\n",
    "\n",
    "country.tail()\n",
    "\n",
    "\n",
    "\n",
    "x = file[['Country name', 'year', 'Generosity']]\n",
    "\n",
    "x.head()\n",
    "\n",
    "x.tail()\n",
    "\n",
    "\n",
    "data = pd.read_csv('world-happiness-report.csv')\n",
    "\n",
    "\n",
    "\n",
    "data\n",
    "\n",
    "data.shape\n",
    "\n",
    "data.shape[0]\n",
    "\n",
    "data.shape[1]\n",
    "\n",
    "import pandas as pd\n",
    "\n",
    "data = pd.read_csv('world-happiness-report.csv')\n",
    "\n",
    "data.tail(n=10)"
   ]
  },
  {
   "cell_type": "code",
   "execution_count": null,
   "id": "33d7d3a3-306a-40e9-b7e3-89b92316b05b",
   "metadata": {},
   "outputs": [],
   "source": [
    "loc vs iloc\n",
    "\n",
    "Head vs iloc vs loc\n",
    "data.head(n=11)\n",
    "\n",
    "data.loc[:10]\n",
    "\n",
    "data.iloc[:11]\n",
    "\n",
    "tail vs\n",
    "data.tail(n=1)\n",
    "\n",
    "data.loc[1948:1948]\n",
    "data.iloc[1948]\n",
    "data.iloc[-1:]\n",
    "\n",
    "\n",
    "\n",
    "columns\n",
    "\n",
    "data.iloc[:,[0,1,7]]\n",
    "\n",
    "data.loc[:,['Country name', 'year', 'Generosity']]\n",
    "\n",
    "Without Using Tail or iLoc Get Last Row - Code\n",
    "data.loc[data.shape[0]-1]\n",
    "\n",
    "\n",
    "data.iloc[:, range(2,7)]\n",
    "\n",
    " Another Selection Trick - Code\n",
    "column_N  =  data.shape[1]\n",
    "\n",
    "Index_last  =  column_N - 1\n",
    "\n",
    "data.iloc[:,Index_last:]\n",
    "\n",
    "\n",
    "x=list(range(0,11,2))\n",
    "\n",
    "\n",
    "\n",
    "data.iloc[:,x]\n",
    "\n",
    "Even Columns Without Using Range - Code\n",
    "data.iloc[:, ::2]\n",
    "\n",
    "Pandas - Specific Row - Code\n",
    "data.iloc[1944]['Social support']\n",
    "\n",
    "data.loc[1944,'Social support']\n",
    "\n",
    "data.iloc[1944,4]\n",
    "\n",
    "Pandas - Column - Code\n",
    "data['year']\n",
    "\n",
    "Filtering Greater Than - Code\n",
    "data[data['year']>2018]\n",
    "\n",
    "Pandas - Filtering Greater Than with Fewer Rows - Code\n",
    "data[data['year']>2018][:9]\n",
    "\n",
    "\n",
    " nlargest - Code\n",
    "data.nlargest(10, 'Generosity')\n",
    "Pandas - nsmallest - Code\n",
    "data.nsmallest(10,'Social support')\n",
    "\n",
    "Pandas - Sort_Values Ascending - Code\n",
    "file.sort_values(by='year', ascending=True)\n",
    "\n",
    "Sort_Values for Smallest - Code\n",
    "file.sort_values(by='Generosity', ascending=True)[:5]\n",
    "\n",
    " Selecting a range of values - Code\n",
    "data.query('0.025< Generosity <0.028')\n",
    "\n",
    "\n",
    "Return Random Rows - Code\n",
    "data.sample(n=8)\n",
    "\n",
    "data.sample(frac=0.02)\n",
    "\n",
    "Pandas - Reset Index - Code\n",
    "x = data.query('0.025<Generosity<0.028')\n",
    "\n",
    "new_data = x.reset_index()\n",
    "\n",
    "new_data\n",
    "\n",
    " - Greater than 0.1 - Code\n",
    "data[data.Generosity>0.1]"
   ]
  }
 ],
 "metadata": {
  "kernelspec": {
   "display_name": "Python 3 (ipykernel)",
   "language": "python",
   "name": "python3"
  },
  "language_info": {
   "codemirror_mode": {
    "name": "ipython",
    "version": 3
   },
   "file_extension": ".py",
   "mimetype": "text/x-python",
   "name": "python",
   "nbconvert_exporter": "python",
   "pygments_lexer": "ipython3",
   "version": "3.11.3"
  }
 },
 "nbformat": 4,
 "nbformat_minor": 5
}
