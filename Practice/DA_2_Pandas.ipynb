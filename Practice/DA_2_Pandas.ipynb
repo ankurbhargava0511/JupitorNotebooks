{
 "cells": [
  {
   "cell_type": "markdown",
   "id": "78c256fd-11b8-4a7e-a16f-c141700550cf",
   "metadata": {},
   "source": [
    "# Panda"
   ]
  },
  {
   "cell_type": "code",
   "execution_count": 188,
   "id": "4f557756-a797-4485-b1c5-53ebc0dc8da3",
   "metadata": {
    "tags": []
   },
   "outputs": [
    {
     "name": "stdout",
     "output_type": "stream",
     "text": [
      "Defaulting to user installation because normal site-packages is not writeableNote: you may need to restart the kernel to use updated packages.\n",
      "\n",
      "Requirement already satisfied: pandas in c:\\programdata\\anaconda3\\lib\\site-packages (1.5.3)\n",
      "Requirement already satisfied: python-dateutil>=2.8.1 in c:\\programdata\\anaconda3\\lib\\site-packages (from pandas) (2.8.2)\n",
      "Requirement already satisfied: pytz>=2020.1 in c:\\programdata\\anaconda3\\lib\\site-packages (from pandas) (2022.7)\n",
      "Requirement already satisfied: numpy>=1.21.0 in c:\\programdata\\anaconda3\\lib\\site-packages (from pandas) (1.24.3)\n",
      "Requirement already satisfied: six>=1.5 in c:\\programdata\\anaconda3\\lib\\site-packages (from python-dateutil>=2.8.1->pandas) (1.16.0)\n"
     ]
    }
   ],
   "source": [
    "#pip install pandas"
   ]
  },
  {
   "cell_type": "code",
   "execution_count": 1,
   "id": "d67be40b-15ba-4979-9c2f-53d19bd57959",
   "metadata": {
    "tags": []
   },
   "outputs": [],
   "source": [
    "import pandas as pd"
   ]
  },
  {
   "cell_type": "code",
   "execution_count": 3,
   "id": "e2661405-7e83-49d9-97e1-64aaf9bd5dc0",
   "metadata": {
    "tags": []
   },
   "outputs": [
    {
     "name": "stdout",
     "output_type": "stream",
     "text": [
      "  students  Scores\n",
      "0     John      80\n",
      "1     Paul      40\n",
      "2    James      60\n",
      "3     Rita      90\n"
     ]
    }
   ],
   "source": []
  },
  {
   "cell_type": "code",
   "execution_count": 4,
   "id": "30ed5f9e-148b-4273-ac85-cd4a6f096952",
   "metadata": {
    "tags": []
   },
   "outputs": [
    {
     "name": "stdout",
     "output_type": "stream",
     "text": [
      "0    2\n",
      "1    3\n",
      "2    4\n",
      "3    5\n",
      "dtype: int64\n"
     ]
    }
   ],
   "source": [
    "#series\n",
    "y= [2,3,4,5]\n",
    "x=pd.Series(y)\n",
    "print(x)"
   ]
  },
  {
   "cell_type": "code",
   "execution_count": 8,
   "id": "a2253c78-c417-483c-b756-f3ef15dec18f",
   "metadata": {
    "tags": []
   },
   "outputs": [
    {
     "name": "stdout",
     "output_type": "stream",
     "text": [
      "4\n"
     ]
    }
   ],
   "source": [
    "# label\n",
    "y= [2,3,4,5]\n",
    "x=pd.Series(y, index=['a','b','c','d'])\n",
    "print(x['c'])"
   ]
  },
  {
   "cell_type": "code",
   "execution_count": 11,
   "id": "40adf6dc-aa9f-4bac-8eb0-5bccdf543428",
   "metadata": {
    "tags": []
   },
   "outputs": [
    {
     "name": "stdout",
     "output_type": "stream",
     "text": [
      "4\n",
      "a    2\n",
      "b    3\n",
      "dtype: int64\n"
     ]
    }
   ],
   "source": [
    "# label\n",
    "y= {'a':2,'b':3,'c':4,'d':5}\n",
    "x=pd.Series(y)\n",
    "print(x['c'])\n",
    "z=pd.Series(y,index=['a','b'])\n",
    "print(z)"
   ]
  },
  {
   "cell_type": "code",
   "execution_count": 12,
   "id": "add3b1d8-7f87-47af-89ad-c95961327a27",
   "metadata": {
    "tags": []
   },
   "outputs": [
    {
     "name": "stdout",
     "output_type": "stream",
     "text": [
      "  students  Scores\n",
      "0     John      80\n",
      "1     Paul      40\n",
      "2    James      60\n",
      "3     Rita      90\n"
     ]
    }
   ],
   "source": [
    "#dataframe\n",
    "\n",
    "data={\n",
    "    'students':['John','Paul','James','Rita'],\n",
    "    'Scores':[80,40,60,90]\n",
    "}\n",
    "x=pd.DataFrame(data)\n",
    "print(x)"
   ]
  },
  {
   "cell_type": "code",
   "execution_count": 14,
   "id": "6d29455d-672e-4bf1-8265-cd765e24cd2d",
   "metadata": {
    "tags": []
   },
   "outputs": [
    {
     "name": "stdout",
     "output_type": "stream",
     "text": [
      "students    Paul\n",
      "Scores        40\n",
      "Name: 1, dtype: object\n",
      "  students  Scores\n",
      "2    James      60\n",
      "3     Rita      90\n"
     ]
    }
   ],
   "source": [
    "print(x.loc[1])\n",
    "print(x.loc[[2,3]])"
   ]
  },
  {
   "cell_type": "code",
   "execution_count": 15,
   "id": "8ba53e98-7bd6-4332-a175-24c5f00f1bda",
   "metadata": {
    "tags": []
   },
   "outputs": [
    {
     "data": {
      "text/plain": [
       "0    3\n",
       "1    4\n",
       "2    6\n",
       "3    7\n",
       "4    9\n",
       "0    1\n",
       "1    3\n",
       "2    6\n",
       "3    3\n",
       "4    4\n",
       "dtype: int64"
      ]
     },
     "execution_count": 15,
     "metadata": {},
     "output_type": "execute_result"
    }
   ],
   "source": [
    "import pandas as pd\n",
    "\n",
    "a = [3,4,6,7,9]\n",
    "b = [1,3,6,3,4]\n",
    "a_series = pd.Series(a)\n",
    "b_series = pd.Series(b)\n",
    "pd.concat([a_series,b_series])"
   ]
  },
  {
   "cell_type": "code",
   "execution_count": 16,
   "id": "1b7f4619-60c8-4eac-8c8a-0323c882bbfb",
   "metadata": {
    "tags": []
   },
   "outputs": [
    {
     "data": {
      "text/plain": [
       "First   0    3\n",
       "        1    4\n",
       "        2    6\n",
       "        3    7\n",
       "        4    9\n",
       "Second  0    1\n",
       "        1    3\n",
       "        2    6\n",
       "        3    3\n",
       "        4    4\n",
       "dtype: int64"
      ]
     },
     "execution_count": 16,
     "metadata": {},
     "output_type": "execute_result"
    }
   ],
   "source": [
    "import pandas as pd\n",
    "\n",
    "a = [3,4,6,7,9]\n",
    "b = [1,3,6,3,4]\n",
    "a_series = pd.Series(a)\n",
    "b_series = pd.Series(b)\n",
    "pd.concat([a_series,b_series], keys = ['First', 'Second'])"
   ]
  },
  {
   "cell_type": "code",
   "execution_count": 17,
   "id": "0810ad92-40de-4972-baf8-ca57b05de2cf",
   "metadata": {
    "tags": []
   },
   "outputs": [
    {
     "data": {
      "text/plain": [
       "group, index   \n",
       "First         0    3\n",
       "              1    4\n",
       "              2    6\n",
       "              3    7\n",
       "              4    9\n",
       "Second        0    1\n",
       "              1    3\n",
       "              2    6\n",
       "              3    3\n",
       "              4    4\n",
       "dtype: int64"
      ]
     },
     "execution_count": 17,
     "metadata": {},
     "output_type": "execute_result"
    }
   ],
   "source": [
    "import pandas as pd\n",
    "\n",
    "a = [3,4,6,7,9]\n",
    "b = [1,3,6,3,4]\n",
    "a_series = pd.Series(a)\n",
    "b_series = pd.Series(b)\n",
    "pd.concat([a_series,b_series], keys = ['First', 'Second'], names=['group, index'])\n",
    "# keys for each dataframe and index can be any word but it define index of column"
   ]
  },
  {
   "cell_type": "code",
   "execution_count": 18,
   "id": "bb477882-d149-4ed5-b783-08193dc1a604",
   "metadata": {
    "tags": []
   },
   "outputs": [
    {
     "data": {
      "text/html": [
       "<div>\n",
       "<style scoped>\n",
       "    .dataframe tbody tr th:only-of-type {\n",
       "        vertical-align: middle;\n",
       "    }\n",
       "\n",
       "    .dataframe tbody tr th {\n",
       "        vertical-align: top;\n",
       "    }\n",
       "\n",
       "    .dataframe thead th {\n",
       "        text-align: right;\n",
       "    }\n",
       "</style>\n",
       "<table border=\"1\" class=\"dataframe\">\n",
       "  <thead>\n",
       "    <tr style=\"text-align: right;\">\n",
       "      <th></th>\n",
       "      <th>0</th>\n",
       "      <th>1</th>\n",
       "      <th>2</th>\n",
       "    </tr>\n",
       "  </thead>\n",
       "  <tbody>\n",
       "    <tr>\n",
       "      <th>0</th>\n",
       "      <td>3</td>\n",
       "      <td>4</td>\n",
       "      <td>6</td>\n",
       "    </tr>\n",
       "    <tr>\n",
       "      <th>1</th>\n",
       "      <td>1</td>\n",
       "      <td>2</td>\n",
       "      <td>3</td>\n",
       "    </tr>\n",
       "    <tr>\n",
       "      <th>0</th>\n",
       "      <td>1</td>\n",
       "      <td>3</td>\n",
       "      <td>6</td>\n",
       "    </tr>\n",
       "    <tr>\n",
       "      <th>1</th>\n",
       "      <td>4</td>\n",
       "      <td>7</td>\n",
       "      <td>8</td>\n",
       "    </tr>\n",
       "  </tbody>\n",
       "</table>\n",
       "</div>"
      ],
      "text/plain": [
       "   0  1  2\n",
       "0  3  4  6\n",
       "1  1  2  3\n",
       "0  1  3  6\n",
       "1  4  7  8"
      ]
     },
     "execution_count": 18,
     "metadata": {},
     "output_type": "execute_result"
    }
   ],
   "source": [
    "import pandas as pd\n",
    "\n",
    "a = [[3,4,6],[1,2,3]]\n",
    "b = [[1,3,6],[4,7,8]]\n",
    "a_df = pd.DataFrame(a)\n",
    "b_df = pd.DataFrame(b)\n",
    "df = pd.concat([a_df, b_df])\n",
    "df"
   ]
  },
  {
   "cell_type": "code",
   "execution_count": null,
   "id": "fb26ab3a-5c5f-4670-834b-464b8ff62c78",
   "metadata": {},
   "outputs": [],
   "source": []
  },
  {
   "cell_type": "code",
   "execution_count": 19,
   "id": "b40821da-ab31-4339-8721-365a3884ea23",
   "metadata": {
    "tags": []
   },
   "outputs": [
    {
     "data": {
      "text/html": [
       "<div>\n",
       "<style scoped>\n",
       "    .dataframe tbody tr th:only-of-type {\n",
       "        vertical-align: middle;\n",
       "    }\n",
       "\n",
       "    .dataframe tbody tr th {\n",
       "        vertical-align: top;\n",
       "    }\n",
       "\n",
       "    .dataframe thead th {\n",
       "        text-align: right;\n",
       "    }\n",
       "</style>\n",
       "<table border=\"1\" class=\"dataframe\">\n",
       "  <thead>\n",
       "    <tr style=\"text-align: right;\">\n",
       "      <th></th>\n",
       "      <th>0</th>\n",
       "      <th>letters</th>\n",
       "      <th>numbers</th>\n",
       "      <th>numbers2</th>\n",
       "    </tr>\n",
       "  </thead>\n",
       "  <tbody>\n",
       "    <tr>\n",
       "      <th>0</th>\n",
       "      <td>3.0</td>\n",
       "      <td>NaN</td>\n",
       "      <td>NaN</td>\n",
       "      <td>NaN</td>\n",
       "    </tr>\n",
       "    <tr>\n",
       "      <th>1</th>\n",
       "      <td>4.0</td>\n",
       "      <td>NaN</td>\n",
       "      <td>NaN</td>\n",
       "      <td>NaN</td>\n",
       "    </tr>\n",
       "    <tr>\n",
       "      <th>2</th>\n",
       "      <td>6.0</td>\n",
       "      <td>NaN</td>\n",
       "      <td>NaN</td>\n",
       "      <td>NaN</td>\n",
       "    </tr>\n",
       "    <tr>\n",
       "      <th>3</th>\n",
       "      <td>9.0</td>\n",
       "      <td>NaN</td>\n",
       "      <td>NaN</td>\n",
       "      <td>NaN</td>\n",
       "    </tr>\n",
       "    <tr>\n",
       "      <th>0</th>\n",
       "      <td>NaN</td>\n",
       "      <td>pen</td>\n",
       "      <td>2.0</td>\n",
       "      <td>4.0</td>\n",
       "    </tr>\n",
       "    <tr>\n",
       "      <th>1</th>\n",
       "      <td>NaN</td>\n",
       "      <td>rer</td>\n",
       "      <td>8.0</td>\n",
       "      <td>9.0</td>\n",
       "    </tr>\n",
       "  </tbody>\n",
       "</table>\n",
       "</div>"
      ],
      "text/plain": [
       "     0 letters  numbers  numbers2\n",
       "0  3.0     NaN      NaN       NaN\n",
       "1  4.0     NaN      NaN       NaN\n",
       "2  6.0     NaN      NaN       NaN\n",
       "3  9.0     NaN      NaN       NaN\n",
       "0  NaN     pen      2.0       4.0\n",
       "1  NaN     rer      8.0       9.0"
      ]
     },
     "execution_count": 19,
     "metadata": {},
     "output_type": "execute_result"
    }
   ],
   "source": [
    "import pandas as pd\n",
    "\n",
    "a = [3,4,6,9]\n",
    "b = [['pen',2,4], ['rer',8,9]]\n",
    "a_df = pd.DataFrame(a)\n",
    "b_df = pd.DataFrame(b, columns=['letters', 'numbers', 'numbers2'])\n",
    "pd.concat([a_df,b_df])"
   ]
  },
  {
   "cell_type": "code",
   "execution_count": 21,
   "id": "7bcef077-136e-4855-b7fc-1fd04f3143d2",
   "metadata": {
    "tags": []
   },
   "outputs": [
    {
     "data": {
      "text/html": [
       "<div>\n",
       "<style scoped>\n",
       "    .dataframe tbody tr th:only-of-type {\n",
       "        vertical-align: middle;\n",
       "    }\n",
       "\n",
       "    .dataframe tbody tr th {\n",
       "        vertical-align: top;\n",
       "    }\n",
       "\n",
       "    .dataframe thead th {\n",
       "        text-align: right;\n",
       "    }\n",
       "</style>\n",
       "<table border=\"1\" class=\"dataframe\">\n",
       "  <thead>\n",
       "    <tr style=\"text-align: right;\">\n",
       "      <th></th>\n",
       "      <th>n</th>\n",
       "      <th>o</th>\n",
       "      <th>p</th>\n",
       "    </tr>\n",
       "  </thead>\n",
       "  <tbody>\n",
       "    <tr>\n",
       "      <th>0</th>\n",
       "      <td>3</td>\n",
       "      <td>4</td>\n",
       "      <td>6</td>\n",
       "    </tr>\n",
       "    <tr>\n",
       "      <th>1</th>\n",
       "      <td>1</td>\n",
       "      <td>2</td>\n",
       "      <td>3</td>\n",
       "    </tr>\n",
       "    <tr>\n",
       "      <th>0</th>\n",
       "      <td>1</td>\n",
       "      <td>3</td>\n",
       "      <td>6</td>\n",
       "    </tr>\n",
       "    <tr>\n",
       "      <th>1</th>\n",
       "      <td>4</td>\n",
       "      <td>7</td>\n",
       "      <td>8</td>\n",
       "    </tr>\n",
       "  </tbody>\n",
       "</table>\n",
       "</div>"
      ],
      "text/plain": [
       "   n  o  p\n",
       "0  3  4  6\n",
       "1  1  2  3\n",
       "0  1  3  6\n",
       "1  4  7  8"
      ]
     },
     "execution_count": 21,
     "metadata": {},
     "output_type": "execute_result"
    }
   ],
   "source": [
    "import pandas as pd\n",
    "\n",
    "a = [[3,4,6], [1,2,3]]\n",
    "b = [[1,3,6],[4,7,8]]\n",
    "a_df = pd.DataFrame(a, columns=['n', 'o', 'p'])\n",
    "b_df = pd.DataFrame(b, columns=['n', 'o', 'p'])\n",
    "pd.concat([a_df, b_df], axis =1) \n",
    "pd.concat([a_df, b_df], axis =0)"
   ]
  },
  {
   "cell_type": "code",
   "execution_count": 22,
   "id": "9b4117ee-e631-4e7e-ac14-8f688a7a5dca",
   "metadata": {
    "tags": []
   },
   "outputs": [
    {
     "data": {
      "text/html": [
       "<div>\n",
       "<style scoped>\n",
       "    .dataframe tbody tr th:only-of-type {\n",
       "        vertical-align: middle;\n",
       "    }\n",
       "\n",
       "    .dataframe tbody tr th {\n",
       "        vertical-align: top;\n",
       "    }\n",
       "\n",
       "    .dataframe thead th {\n",
       "        text-align: right;\n",
       "    }\n",
       "</style>\n",
       "<table border=\"1\" class=\"dataframe\">\n",
       "  <thead>\n",
       "    <tr style=\"text-align: right;\">\n",
       "      <th></th>\n",
       "      <th>Name</th>\n",
       "      <th>Salary</th>\n",
       "      <th>Department</th>\n",
       "    </tr>\n",
       "  </thead>\n",
       "  <tbody>\n",
       "    <tr>\n",
       "      <th>0</th>\n",
       "      <td>Peter</td>\n",
       "      <td>22000</td>\n",
       "      <td>Sales</td>\n",
       "    </tr>\n",
       "    <tr>\n",
       "      <th>1</th>\n",
       "      <td>Ahmed</td>\n",
       "      <td>35000</td>\n",
       "      <td>Admin</td>\n",
       "    </tr>\n",
       "    <tr>\n",
       "      <th>2</th>\n",
       "      <td>James</td>\n",
       "      <td>77000</td>\n",
       "      <td>IT</td>\n",
       "    </tr>\n",
       "    <tr>\n",
       "      <th>3</th>\n",
       "      <td>Kate</td>\n",
       "      <td>25000</td>\n",
       "      <td>HR</td>\n",
       "    </tr>\n",
       "  </tbody>\n",
       "</table>\n",
       "</div>"
      ],
      "text/plain": [
       "    Name  Salary Department\n",
       "0  Peter   22000      Sales\n",
       "1  Ahmed   35000      Admin\n",
       "2  James   77000         IT\n",
       "3   Kate   25000         HR"
      ]
     },
     "execution_count": 22,
     "metadata": {},
     "output_type": "execute_result"
    }
   ],
   "source": [
    "import pandas as pd\n",
    "df_1 = pd.DataFrame({\n",
    "    'Name':['Peter','Ahmed','James','Kate'],\n",
    "    'Salary':[22000,35000,77000,25000]\n",
    "})\n",
    "\n",
    "df_2 = pd.DataFrame({\n",
    "    'Name':['Peter','Ahmed','James','Kate'],\n",
    "    'Department':['Sales','Admin','IT','HR']\n",
    "})\n",
    "df_3 = pd.merge(df_1, df_2, on='Name')\n",
    "df_3"
   ]
  },
  {
   "cell_type": "code",
   "execution_count": 27,
   "id": "e12f1442-ae90-42f8-8389-3bd2ce88243b",
   "metadata": {
    "tags": []
   },
   "outputs": [
    {
     "data": {
      "text/html": [
       "<div>\n",
       "<style scoped>\n",
       "    .dataframe tbody tr th:only-of-type {\n",
       "        vertical-align: middle;\n",
       "    }\n",
       "\n",
       "    .dataframe tbody tr th {\n",
       "        vertical-align: top;\n",
       "    }\n",
       "\n",
       "    .dataframe thead th {\n",
       "        text-align: right;\n",
       "    }\n",
       "</style>\n",
       "<table border=\"1\" class=\"dataframe\">\n",
       "  <thead>\n",
       "    <tr style=\"text-align: right;\">\n",
       "      <th></th>\n",
       "      <th>Name</th>\n",
       "      <th>Salary</th>\n",
       "      <th>Department</th>\n",
       "    </tr>\n",
       "  </thead>\n",
       "  <tbody>\n",
       "    <tr>\n",
       "      <th>0</th>\n",
       "      <td>Peter</td>\n",
       "      <td>22000</td>\n",
       "      <td>Sales</td>\n",
       "    </tr>\n",
       "    <tr>\n",
       "      <th>1</th>\n",
       "      <td>Ahmed</td>\n",
       "      <td>35000</td>\n",
       "      <td>Admin</td>\n",
       "    </tr>\n",
       "    <tr>\n",
       "      <th>2</th>\n",
       "      <td>Kate</td>\n",
       "      <td>25000</td>\n",
       "      <td>HR</td>\n",
       "    </tr>\n",
       "  </tbody>\n",
       "</table>\n",
       "</div>"
      ],
      "text/plain": [
       "    Name  Salary Department\n",
       "0  Peter   22000      Sales\n",
       "1  Ahmed   35000      Admin\n",
       "2   Kate   25000         HR"
      ]
     },
     "execution_count": 27,
     "metadata": {},
     "output_type": "execute_result"
    }
   ],
   "source": [
    "import pandas as pd\n",
    "\n",
    "df_1 = pd.DataFrame({\n",
    "    'Name':['Peter','Ahmed','James','Kate'],\n",
    "    'Salary':[22000,35000,77000,25000]\n",
    "})\n",
    "df_2 = pd.DataFrame({\n",
    "    'Name':['Peter','Ahmed','Kate'],\n",
    "    'Department':['Sales','Admin','HR']\n",
    "})\n",
    "df_3 = pd.merge(df_1, df_2, on='Name') # inner join\n",
    "df_3\n",
    "df_6 = pd.merge(df_1,df_2,on='Name', how='inner') # same as above # intersect\n",
    "df_6\n",
    "df_7 = pd.merge(df_1,df_2,on='Name', how='outer') #union\n",
    "df_7\n",
    "df_8 = pd.merge(df_1,df_2,on='Name', how='left') #all from left\n",
    "df_8\n",
    "df_9 = pd.merge(df_1,df_2,on='Name', how='right') #all from right\n",
    "df_9"
   ]
  },
  {
   "cell_type": "code",
   "execution_count": 30,
   "id": "be732f9d-0339-45f2-b29f-7c380e6fff5d",
   "metadata": {
    "tags": []
   },
   "outputs": [
    {
     "data": {
      "text/html": [
       "<div>\n",
       "<style scoped>\n",
       "    .dataframe tbody tr th:only-of-type {\n",
       "        vertical-align: middle;\n",
       "    }\n",
       "\n",
       "    .dataframe tbody tr th {\n",
       "        vertical-align: top;\n",
       "    }\n",
       "\n",
       "    .dataframe thead th {\n",
       "        text-align: right;\n",
       "    }\n",
       "</style>\n",
       "<table border=\"1\" class=\"dataframe\">\n",
       "  <thead>\n",
       "    <tr style=\"text-align: right;\">\n",
       "      <th></th>\n",
       "      <th>Name</th>\n",
       "      <th>Salary</th>\n",
       "      <th>Department_first</th>\n",
       "      <th>Education_first</th>\n",
       "      <th>Department_second</th>\n",
       "      <th>Education_second</th>\n",
       "    </tr>\n",
       "  </thead>\n",
       "  <tbody>\n",
       "    <tr>\n",
       "      <th>0</th>\n",
       "      <td>Peter</td>\n",
       "      <td>22000</td>\n",
       "      <td>Sales</td>\n",
       "      <td>Bsc</td>\n",
       "      <td>Sales</td>\n",
       "      <td>Bsc</td>\n",
       "    </tr>\n",
       "    <tr>\n",
       "      <th>1</th>\n",
       "      <td>Ahmed</td>\n",
       "      <td>35000</td>\n",
       "      <td>Admin</td>\n",
       "      <td>Bsc</td>\n",
       "      <td>Admin</td>\n",
       "      <td>Bsc</td>\n",
       "    </tr>\n",
       "    <tr>\n",
       "      <th>2</th>\n",
       "      <td>James</td>\n",
       "      <td>77000</td>\n",
       "      <td>IT</td>\n",
       "      <td>MSc</td>\n",
       "      <td>IT</td>\n",
       "      <td>MSc</td>\n",
       "    </tr>\n",
       "    <tr>\n",
       "      <th>3</th>\n",
       "      <td>Kate</td>\n",
       "      <td>25000</td>\n",
       "      <td>HR</td>\n",
       "      <td>MA</td>\n",
       "      <td>HR</td>\n",
       "      <td>MA</td>\n",
       "    </tr>\n",
       "  </tbody>\n",
       "</table>\n",
       "</div>"
      ],
      "text/plain": [
       "    Name  Salary Department_first Education_first Department_second  \\\n",
       "0  Peter   22000            Sales             Bsc             Sales   \n",
       "1  Ahmed   35000            Admin             Bsc             Admin   \n",
       "2  James   77000               IT             MSc                IT   \n",
       "3   Kate   25000               HR              MA                HR   \n",
       "\n",
       "  Education_second  \n",
       "0              Bsc  \n",
       "1              Bsc  \n",
       "2              MSc  \n",
       "3               MA  "
      ]
     },
     "execution_count": 30,
     "metadata": {},
     "output_type": "execute_result"
    }
   ],
   "source": [
    "import pandas as pd\n",
    "\n",
    "df_1 = pd.DataFrame({\n",
    "    'Name':['Peter','Ahmed','James','Kate'],\n",
    "    'Salary':[22000,35000,77000,25000],\n",
    "    'Department':['Sales','Admin','IT','HR'],\n",
    "    'Education':['Bsc','Bsc','MSc','MA']\n",
    "})\n",
    "df_2 = pd.DataFrame({\n",
    "    'Name':['Peter','Ahmed','James','Kate'],\n",
    "    'Department':['Sales','Admin','IT','HR'],\n",
    "    'Education':['Bsc','Bsc','MSc','MA']\n",
    "})\n",
    "\n",
    "df_3 = pd.merge(df_1,df_2,on='Name')\n",
    "df_3 = pd.merge(df_1,df_2,on='Name', suffixes=('_first', '_second'))\n",
    "df_3"
   ]
  },
  {
   "cell_type": "code",
   "execution_count": 56,
   "id": "c267257c-605f-4e9c-8a7a-4172ee0a5940",
   "metadata": {
    "tags": []
   },
   "outputs": [
    {
     "name": "stdout",
     "output_type": "stream",
     "text": [
      "  Country name  year  Life Ladder  Log GDP per capita  Social support  \\\n",
      "0  Afghanistan  2008        3.724               7.370           0.451   \n",
      "1  Afghanistan  2009        4.402               7.540           0.552   \n",
      "2  Afghanistan  2010        4.758               7.647           0.539   \n",
      "3  Afghanistan  2011        3.832               7.620           0.521   \n",
      "4  Afghanistan  2012        3.783               7.705           0.521   \n",
      "\n",
      "   Healthy life expectancy at birth  Freedom to make life choices  Generosity  \\\n",
      "0                             50.80                         0.718       0.168   \n",
      "1                             51.20                         0.679       0.190   \n",
      "2                             51.60                         0.600       0.121   \n",
      "3                             51.92                         0.496       0.162   \n",
      "4                             52.24                         0.531       0.236   \n",
      "\n",
      "   Perceptions of corruption  Positive affect  Negative affect  \n",
      "0                      0.882            0.518            0.258  \n",
      "1                      0.850            0.584            0.237  \n",
      "2                      0.707            0.618            0.275  \n",
      "3                      0.731            0.611            0.267  \n",
      "4                      0.776            0.710            0.268  \n"
     ]
    }
   ],
   "source": [
    "df=pd.read_csv('DataForDatascience/world-happiness-report.csv')\n",
    "#print(df.to_string())\n",
    "print(df.head())\n",
    "#print(df.tail())\n",
    "#print(df.info()) # information about dataframe\n",
    "#print(df.describe()) # statistics\n",
    "#print(df.describe(percentiles=[.2,.6,.8])) # statistics"
   ]
  },
  {
   "cell_type": "code",
   "execution_count": 51,
   "id": "5a8c0a75-29d2-4d70-844c-9f038dcc5cfc",
   "metadata": {
    "tags": []
   },
   "outputs": [
    {
     "name": "stderr",
     "output_type": "stream",
     "text": [
      "C:\\Users\\ankur\\AppData\\Local\\Temp\\ipykernel_13772\\2690680807.py:19: FutureWarning: Dropping of nuisance columns in DataFrame reductions (with 'numeric_only=None') is deprecated; in a future version this will raise TypeError.  Select only valid columns before calling the reduction.\n",
      "  df.mean(axis=1)\n",
      "C:\\Users\\ankur\\AppData\\Local\\Temp\\ipykernel_13772\\2690680807.py:20: FutureWarning: The default value of numeric_only in DataFrame.mean is deprecated. In a future version, it will default to False. In addition, specifying 'numeric_only=None' is deprecated. Select only valid columns or specify the value of numeric_only to silence this warning.\n",
      "  df.mean(axis=0)\n"
     ]
    },
    {
     "data": {
      "text/plain": [
       "year                                2013.216008\n",
       "Life Ladder                            5.466705\n",
       "Log GDP per capita                     9.368453\n",
       "Social support                         0.812552\n",
       "Healthy life expectancy at birth      63.359374\n",
       "Freedom to make life choices           0.742558\n",
       "Generosity                             0.000103\n",
       "Perceptions of corruption              0.747125\n",
       "Positive affect                        0.710003\n",
       "Negative affect                        0.268544\n",
       "dtype: float64"
      ]
     },
     "execution_count": 51,
     "metadata": {},
     "output_type": "execute_result"
    }
   ],
   "source": [
    "df['Freedom to make life choices'].min() # min max of specific colum\n",
    "df['Freedom to make life choices'].max()\n",
    "\n",
    "country=['Singapore']\n",
    "\n",
    "d_filter=df[df['Country name'].isin(country)] # get only singapore data\n",
    "d_filter\n",
    "\n",
    "d_filter['Freedom to make life choices'].min() # min max of specific colum\n",
    "d_filter['Freedom to make life choices'].max()\n",
    "\n",
    "df['Perceptions of corruption'].mean()\n",
    "df['Perceptions of corruption'].median()\n",
    "df['Perceptions of corruption'].mode()\n",
    "\n",
    "df['Generosity'].sum()\n",
    "df['Generosity'].sum(skipna=True) # same as above\n",
    "\n",
    "df.mean(axis=1)\n",
    "df.mean(axis=0)"
   ]
  },
  {
   "cell_type": "code",
   "execution_count": 53,
   "id": "56e57708-c2f3-4fcf-bcf6-82082e07b004",
   "metadata": {
    "tags": []
   },
   "outputs": [
    {
     "data": {
      "text/plain": [
       "Country name                        1949\n",
       "year                                1949\n",
       "Life Ladder                         1949\n",
       "Log GDP per capita                  1913\n",
       "Social support                      1936\n",
       "Healthy life expectancy at birth    1894\n",
       "Freedom to make life choices        1917\n",
       "Generosity                          1860\n",
       "Perceptions of corruption           1839\n",
       "Positive affect                     1927\n",
       "Negative affect                     1933\n",
       "dtype: int64"
      ]
     },
     "execution_count": 53,
     "metadata": {},
     "output_type": "execute_result"
    }
   ],
   "source": [
    "df.count()"
   ]
  },
  {
   "cell_type": "code",
   "execution_count": 54,
   "id": "53fd28f5-9543-4fed-bdae-23b3ea07c1a4",
   "metadata": {
    "tags": []
   },
   "outputs": [
    {
     "data": {
      "text/plain": [
       "0       11\n",
       "1       11\n",
       "2       11\n",
       "3       11\n",
       "4       11\n",
       "        ..\n",
       "1944    11\n",
       "1945    11\n",
       "1946    11\n",
       "1947    11\n",
       "1948    11\n",
       "Length: 1949, dtype: int64"
      ]
     },
     "execution_count": 54,
     "metadata": {},
     "output_type": "execute_result"
    }
   ],
   "source": [
    "df.count(axis=1)"
   ]
  },
  {
   "cell_type": "code",
   "execution_count": 55,
   "id": "da0b90d7-1260-40ea-b0a5-965af48a330f",
   "metadata": {
    "tags": []
   },
   "outputs": [],
   "source": [
    "# Json file\n",
    "\n",
    "#pd.read_json()\n",
    "\n"
   ]
  },
  {
   "cell_type": "code",
   "execution_count": null,
   "id": "d2622296-7426-4989-8075-c7dbd6533a89",
   "metadata": {},
   "outputs": [],
   "source": []
  },
  {
   "cell_type": "code",
   "execution_count": 57,
   "id": "07b8cd31-4c1d-45f1-8820-bf9e4a7613f0",
   "metadata": {
    "tags": []
   },
   "outputs": [
    {
     "ename": "FileNotFoundError",
     "evalue": "[Errno 2] No such file or directory: 'world-happiness-report.csv'",
     "output_type": "error",
     "traceback": [
      "\u001b[1;31m---------------------------------------------------------------------------\u001b[0m",
      "\u001b[1;31mFileNotFoundError\u001b[0m                         Traceback (most recent call last)",
      "Cell \u001b[1;32mIn[57], line 1\u001b[0m\n\u001b[1;32m----> 1\u001b[0m file2 \u001b[38;5;241m=\u001b[39m pd\u001b[38;5;241m.\u001b[39mread_csv(\u001b[38;5;124m'\u001b[39m\u001b[38;5;124mworld-happiness-report.csv\u001b[39m\u001b[38;5;124m'\u001b[39m, header\u001b[38;5;241m=\u001b[39m\u001b[38;5;241m1\u001b[39m)\u001b[38;5;66;03m#Skip Rows Reading CSV File \u001b[39;00m\n\u001b[0;32m      4\u001b[0m file2 \u001b[38;5;241m=\u001b[39m pd\u001b[38;5;241m.\u001b[39mread_csv(\u001b[38;5;124m'\u001b[39m\u001b[38;5;124mworld-happiness-report.csv\u001b[39m\u001b[38;5;124m'\u001b[39m, skiprows\u001b[38;5;241m=\u001b[39m[\u001b[38;5;241m2\u001b[39m,\u001b[38;5;241m3\u001b[39m,\u001b[38;5;241m4\u001b[39m,\u001b[38;5;241m6\u001b[39m])\n\u001b[0;32m      5\u001b[0m file2 \u001b[38;5;241m=\u001b[39m pd\u001b[38;5;241m.\u001b[39mread_csv(\u001b[38;5;124m'\u001b[39m\u001b[38;5;124mworld-happiness-report.csv\u001b[39m\u001b[38;5;124m'\u001b[39m, skiprows\u001b[38;5;241m=\u001b[39m[\u001b[38;5;241m0\u001b[39m])\n",
      "File \u001b[1;32mC:\\ProgramData\\anaconda3\\Lib\\site-packages\\pandas\\util\\_decorators.py:211\u001b[0m, in \u001b[0;36mdeprecate_kwarg.<locals>._deprecate_kwarg.<locals>.wrapper\u001b[1;34m(*args, **kwargs)\u001b[0m\n\u001b[0;32m    209\u001b[0m     \u001b[38;5;28;01melse\u001b[39;00m:\n\u001b[0;32m    210\u001b[0m         kwargs[new_arg_name] \u001b[38;5;241m=\u001b[39m new_arg_value\n\u001b[1;32m--> 211\u001b[0m \u001b[38;5;28;01mreturn\u001b[39;00m func(\u001b[38;5;241m*\u001b[39margs, \u001b[38;5;241m*\u001b[39m\u001b[38;5;241m*\u001b[39mkwargs)\n",
      "File \u001b[1;32mC:\\ProgramData\\anaconda3\\Lib\\site-packages\\pandas\\util\\_decorators.py:331\u001b[0m, in \u001b[0;36mdeprecate_nonkeyword_arguments.<locals>.decorate.<locals>.wrapper\u001b[1;34m(*args, **kwargs)\u001b[0m\n\u001b[0;32m    325\u001b[0m \u001b[38;5;28;01mif\u001b[39;00m \u001b[38;5;28mlen\u001b[39m(args) \u001b[38;5;241m>\u001b[39m num_allow_args:\n\u001b[0;32m    326\u001b[0m     warnings\u001b[38;5;241m.\u001b[39mwarn(\n\u001b[0;32m    327\u001b[0m         msg\u001b[38;5;241m.\u001b[39mformat(arguments\u001b[38;5;241m=\u001b[39m_format_argument_list(allow_args)),\n\u001b[0;32m    328\u001b[0m         \u001b[38;5;167;01mFutureWarning\u001b[39;00m,\n\u001b[0;32m    329\u001b[0m         stacklevel\u001b[38;5;241m=\u001b[39mfind_stack_level(),\n\u001b[0;32m    330\u001b[0m     )\n\u001b[1;32m--> 331\u001b[0m \u001b[38;5;28;01mreturn\u001b[39;00m func(\u001b[38;5;241m*\u001b[39margs, \u001b[38;5;241m*\u001b[39m\u001b[38;5;241m*\u001b[39mkwargs)\n",
      "File \u001b[1;32mC:\\ProgramData\\anaconda3\\Lib\\site-packages\\pandas\\io\\parsers\\readers.py:950\u001b[0m, in \u001b[0;36mread_csv\u001b[1;34m(filepath_or_buffer, sep, delimiter, header, names, index_col, usecols, squeeze, prefix, mangle_dupe_cols, dtype, engine, converters, true_values, false_values, skipinitialspace, skiprows, skipfooter, nrows, na_values, keep_default_na, na_filter, verbose, skip_blank_lines, parse_dates, infer_datetime_format, keep_date_col, date_parser, dayfirst, cache_dates, iterator, chunksize, compression, thousands, decimal, lineterminator, quotechar, quoting, doublequote, escapechar, comment, encoding, encoding_errors, dialect, error_bad_lines, warn_bad_lines, on_bad_lines, delim_whitespace, low_memory, memory_map, float_precision, storage_options)\u001b[0m\n\u001b[0;32m    935\u001b[0m kwds_defaults \u001b[38;5;241m=\u001b[39m _refine_defaults_read(\n\u001b[0;32m    936\u001b[0m     dialect,\n\u001b[0;32m    937\u001b[0m     delimiter,\n\u001b[1;32m   (...)\u001b[0m\n\u001b[0;32m    946\u001b[0m     defaults\u001b[38;5;241m=\u001b[39m{\u001b[38;5;124m\"\u001b[39m\u001b[38;5;124mdelimiter\u001b[39m\u001b[38;5;124m\"\u001b[39m: \u001b[38;5;124m\"\u001b[39m\u001b[38;5;124m,\u001b[39m\u001b[38;5;124m\"\u001b[39m},\n\u001b[0;32m    947\u001b[0m )\n\u001b[0;32m    948\u001b[0m kwds\u001b[38;5;241m.\u001b[39mupdate(kwds_defaults)\n\u001b[1;32m--> 950\u001b[0m \u001b[38;5;28;01mreturn\u001b[39;00m _read(filepath_or_buffer, kwds)\n",
      "File \u001b[1;32mC:\\ProgramData\\anaconda3\\Lib\\site-packages\\pandas\\io\\parsers\\readers.py:605\u001b[0m, in \u001b[0;36m_read\u001b[1;34m(filepath_or_buffer, kwds)\u001b[0m\n\u001b[0;32m    602\u001b[0m _validate_names(kwds\u001b[38;5;241m.\u001b[39mget(\u001b[38;5;124m\"\u001b[39m\u001b[38;5;124mnames\u001b[39m\u001b[38;5;124m\"\u001b[39m, \u001b[38;5;28;01mNone\u001b[39;00m))\n\u001b[0;32m    604\u001b[0m \u001b[38;5;66;03m# Create the parser.\u001b[39;00m\n\u001b[1;32m--> 605\u001b[0m parser \u001b[38;5;241m=\u001b[39m TextFileReader(filepath_or_buffer, \u001b[38;5;241m*\u001b[39m\u001b[38;5;241m*\u001b[39mkwds)\n\u001b[0;32m    607\u001b[0m \u001b[38;5;28;01mif\u001b[39;00m chunksize \u001b[38;5;129;01mor\u001b[39;00m iterator:\n\u001b[0;32m    608\u001b[0m     \u001b[38;5;28;01mreturn\u001b[39;00m parser\n",
      "File \u001b[1;32mC:\\ProgramData\\anaconda3\\Lib\\site-packages\\pandas\\io\\parsers\\readers.py:1442\u001b[0m, in \u001b[0;36mTextFileReader.__init__\u001b[1;34m(self, f, engine, **kwds)\u001b[0m\n\u001b[0;32m   1439\u001b[0m     \u001b[38;5;28mself\u001b[39m\u001b[38;5;241m.\u001b[39moptions[\u001b[38;5;124m\"\u001b[39m\u001b[38;5;124mhas_index_names\u001b[39m\u001b[38;5;124m\"\u001b[39m] \u001b[38;5;241m=\u001b[39m kwds[\u001b[38;5;124m\"\u001b[39m\u001b[38;5;124mhas_index_names\u001b[39m\u001b[38;5;124m\"\u001b[39m]\n\u001b[0;32m   1441\u001b[0m \u001b[38;5;28mself\u001b[39m\u001b[38;5;241m.\u001b[39mhandles: IOHandles \u001b[38;5;241m|\u001b[39m \u001b[38;5;28;01mNone\u001b[39;00m \u001b[38;5;241m=\u001b[39m \u001b[38;5;28;01mNone\u001b[39;00m\n\u001b[1;32m-> 1442\u001b[0m \u001b[38;5;28mself\u001b[39m\u001b[38;5;241m.\u001b[39m_engine \u001b[38;5;241m=\u001b[39m \u001b[38;5;28mself\u001b[39m\u001b[38;5;241m.\u001b[39m_make_engine(f, \u001b[38;5;28mself\u001b[39m\u001b[38;5;241m.\u001b[39mengine)\n",
      "File \u001b[1;32mC:\\ProgramData\\anaconda3\\Lib\\site-packages\\pandas\\io\\parsers\\readers.py:1735\u001b[0m, in \u001b[0;36mTextFileReader._make_engine\u001b[1;34m(self, f, engine)\u001b[0m\n\u001b[0;32m   1733\u001b[0m     \u001b[38;5;28;01mif\u001b[39;00m \u001b[38;5;124m\"\u001b[39m\u001b[38;5;124mb\u001b[39m\u001b[38;5;124m\"\u001b[39m \u001b[38;5;129;01mnot\u001b[39;00m \u001b[38;5;129;01min\u001b[39;00m mode:\n\u001b[0;32m   1734\u001b[0m         mode \u001b[38;5;241m+\u001b[39m\u001b[38;5;241m=\u001b[39m \u001b[38;5;124m\"\u001b[39m\u001b[38;5;124mb\u001b[39m\u001b[38;5;124m\"\u001b[39m\n\u001b[1;32m-> 1735\u001b[0m \u001b[38;5;28mself\u001b[39m\u001b[38;5;241m.\u001b[39mhandles \u001b[38;5;241m=\u001b[39m get_handle(\n\u001b[0;32m   1736\u001b[0m     f,\n\u001b[0;32m   1737\u001b[0m     mode,\n\u001b[0;32m   1738\u001b[0m     encoding\u001b[38;5;241m=\u001b[39m\u001b[38;5;28mself\u001b[39m\u001b[38;5;241m.\u001b[39moptions\u001b[38;5;241m.\u001b[39mget(\u001b[38;5;124m\"\u001b[39m\u001b[38;5;124mencoding\u001b[39m\u001b[38;5;124m\"\u001b[39m, \u001b[38;5;28;01mNone\u001b[39;00m),\n\u001b[0;32m   1739\u001b[0m     compression\u001b[38;5;241m=\u001b[39m\u001b[38;5;28mself\u001b[39m\u001b[38;5;241m.\u001b[39moptions\u001b[38;5;241m.\u001b[39mget(\u001b[38;5;124m\"\u001b[39m\u001b[38;5;124mcompression\u001b[39m\u001b[38;5;124m\"\u001b[39m, \u001b[38;5;28;01mNone\u001b[39;00m),\n\u001b[0;32m   1740\u001b[0m     memory_map\u001b[38;5;241m=\u001b[39m\u001b[38;5;28mself\u001b[39m\u001b[38;5;241m.\u001b[39moptions\u001b[38;5;241m.\u001b[39mget(\u001b[38;5;124m\"\u001b[39m\u001b[38;5;124mmemory_map\u001b[39m\u001b[38;5;124m\"\u001b[39m, \u001b[38;5;28;01mFalse\u001b[39;00m),\n\u001b[0;32m   1741\u001b[0m     is_text\u001b[38;5;241m=\u001b[39mis_text,\n\u001b[0;32m   1742\u001b[0m     errors\u001b[38;5;241m=\u001b[39m\u001b[38;5;28mself\u001b[39m\u001b[38;5;241m.\u001b[39moptions\u001b[38;5;241m.\u001b[39mget(\u001b[38;5;124m\"\u001b[39m\u001b[38;5;124mencoding_errors\u001b[39m\u001b[38;5;124m\"\u001b[39m, \u001b[38;5;124m\"\u001b[39m\u001b[38;5;124mstrict\u001b[39m\u001b[38;5;124m\"\u001b[39m),\n\u001b[0;32m   1743\u001b[0m     storage_options\u001b[38;5;241m=\u001b[39m\u001b[38;5;28mself\u001b[39m\u001b[38;5;241m.\u001b[39moptions\u001b[38;5;241m.\u001b[39mget(\u001b[38;5;124m\"\u001b[39m\u001b[38;5;124mstorage_options\u001b[39m\u001b[38;5;124m\"\u001b[39m, \u001b[38;5;28;01mNone\u001b[39;00m),\n\u001b[0;32m   1744\u001b[0m )\n\u001b[0;32m   1745\u001b[0m \u001b[38;5;28;01massert\u001b[39;00m \u001b[38;5;28mself\u001b[39m\u001b[38;5;241m.\u001b[39mhandles \u001b[38;5;129;01mis\u001b[39;00m \u001b[38;5;129;01mnot\u001b[39;00m \u001b[38;5;28;01mNone\u001b[39;00m\n\u001b[0;32m   1746\u001b[0m f \u001b[38;5;241m=\u001b[39m \u001b[38;5;28mself\u001b[39m\u001b[38;5;241m.\u001b[39mhandles\u001b[38;5;241m.\u001b[39mhandle\n",
      "File \u001b[1;32mC:\\ProgramData\\anaconda3\\Lib\\site-packages\\pandas\\io\\common.py:856\u001b[0m, in \u001b[0;36mget_handle\u001b[1;34m(path_or_buf, mode, encoding, compression, memory_map, is_text, errors, storage_options)\u001b[0m\n\u001b[0;32m    851\u001b[0m \u001b[38;5;28;01melif\u001b[39;00m \u001b[38;5;28misinstance\u001b[39m(handle, \u001b[38;5;28mstr\u001b[39m):\n\u001b[0;32m    852\u001b[0m     \u001b[38;5;66;03m# Check whether the filename is to be opened in binary mode.\u001b[39;00m\n\u001b[0;32m    853\u001b[0m     \u001b[38;5;66;03m# Binary mode does not support 'encoding' and 'newline'.\u001b[39;00m\n\u001b[0;32m    854\u001b[0m     \u001b[38;5;28;01mif\u001b[39;00m ioargs\u001b[38;5;241m.\u001b[39mencoding \u001b[38;5;129;01mand\u001b[39;00m \u001b[38;5;124m\"\u001b[39m\u001b[38;5;124mb\u001b[39m\u001b[38;5;124m\"\u001b[39m \u001b[38;5;129;01mnot\u001b[39;00m \u001b[38;5;129;01min\u001b[39;00m ioargs\u001b[38;5;241m.\u001b[39mmode:\n\u001b[0;32m    855\u001b[0m         \u001b[38;5;66;03m# Encoding\u001b[39;00m\n\u001b[1;32m--> 856\u001b[0m         handle \u001b[38;5;241m=\u001b[39m \u001b[38;5;28mopen\u001b[39m(\n\u001b[0;32m    857\u001b[0m             handle,\n\u001b[0;32m    858\u001b[0m             ioargs\u001b[38;5;241m.\u001b[39mmode,\n\u001b[0;32m    859\u001b[0m             encoding\u001b[38;5;241m=\u001b[39mioargs\u001b[38;5;241m.\u001b[39mencoding,\n\u001b[0;32m    860\u001b[0m             errors\u001b[38;5;241m=\u001b[39merrors,\n\u001b[0;32m    861\u001b[0m             newline\u001b[38;5;241m=\u001b[39m\u001b[38;5;124m\"\u001b[39m\u001b[38;5;124m\"\u001b[39m,\n\u001b[0;32m    862\u001b[0m         )\n\u001b[0;32m    863\u001b[0m     \u001b[38;5;28;01melse\u001b[39;00m:\n\u001b[0;32m    864\u001b[0m         \u001b[38;5;66;03m# Binary mode\u001b[39;00m\n\u001b[0;32m    865\u001b[0m         handle \u001b[38;5;241m=\u001b[39m \u001b[38;5;28mopen\u001b[39m(handle, ioargs\u001b[38;5;241m.\u001b[39mmode)\n",
      "\u001b[1;31mFileNotFoundError\u001b[0m: [Errno 2] No such file or directory: 'world-happiness-report.csv'"
     ]
    }
   ],
   "source": [
    "file2 = pd.read_csv('world-happiness-report.csv', header=1)#Skip Rows Reading CSV File \n",
    "\n",
    "\n",
    "file2 = pd.read_csv('world-happiness-report.csv', skiprows=[2,3,4,6])\n",
    "file2 = pd.read_csv('world-happiness-report.csv', skiprows=[0])\n",
    "file2 = pd.read_csv('world-happiness-report.csv', skiprows=4)\n",
    "file2 = pd.read_csv('world-happiness-report.csv', header = None)\n",
    "\n",
    "file2 = pd.read_csv('world-happiness-report.csv', header = None, prefix='header_')\n",
    "\n",
    "\n",
    "file = pd.read_csv('world-happiness-report.csv', usecols=['year', 'Generosity'])\n",
    "\n",
    "file = pd.read_csv('world-happiness-report.csv', usecols=[3, 6, 0, 2])\n",
    "\n",
    "file = pd.read_csv('world-happiness-report.csv', nrows=19)\n",
    "file = pd.read_csv('world-happiness-report.csv', usecols=[0,1,3],nrows=6)\n",
    "\n",
    "\n",
    "file = pd.read_csv('world-happiness-report.csv', verbose=True)\n",
    "\n",
    "file = pd.read_csv('world-happiness-report.csv', dtype={'year':'float64'})\n",
    "\n",
    "file.dtypes\n",
    "\n",
    "\n",
    "file = pd.read_csv('world-happiness-report.csv')\n",
    "\n",
    "file.info()\n",
    "\n",
    "country = file['Country name']\n",
    "\n",
    "country.head()\n",
    "\n",
    "country.tail()\n",
    "\n",
    "\n",
    "\n",
    "x = file[['Country name', 'year', 'Generosity']]\n",
    "\n",
    "x.head()\n",
    "\n",
    "x.tail()\n",
    "\n",
    "\n",
    "data = pd.read_csv('world-happiness-report.csv')\n",
    "\n",
    "\n",
    "\n",
    "data\n",
    "\n",
    "data.shape\n",
    "\n",
    "data.shape[0]\n",
    "\n",
    "data.shape[1]\n",
    "\n",
    "import pandas as pd\n",
    "\n",
    "data = pd.read_csv('world-happiness-report.csv')\n",
    "\n",
    "data.tail(n=10)"
   ]
  },
  {
   "cell_type": "code",
   "execution_count": null,
   "id": "33d7d3a3-306a-40e9-b7e3-89b92316b05b",
   "metadata": {},
   "outputs": [],
   "source": [
    "loc vs iloc\n",
    "\n",
    "Head vs iloc vs loc\n",
    "data.head(n=11)\n",
    "\n",
    "data.loc[:10]\n",
    "\n",
    "data.iloc[:11]\n",
    "\n",
    "tail vs\n",
    "data.tail(n=1)\n",
    "\n",
    "data.loc[1948:1948]\n",
    "data.iloc[1948]\n",
    "data.iloc[-1:]\n",
    "\n",
    "\n",
    "\n",
    "columns\n",
    "\n",
    "data.iloc[:,[0,1,7]]\n",
    "\n",
    "data.loc[:,['Country name', 'year', 'Generosity']]\n",
    "\n",
    "Without Using Tail or iLoc Get Last Row - Code\n",
    "data.loc[data.shape[0]-1]\n",
    "\n",
    "\n",
    "data.iloc[:, range(2,7)]\n",
    "\n",
    " Another Selection Trick - Code\n",
    "column_N  =  data.shape[1]\n",
    "\n",
    "Index_last  =  column_N - 1\n",
    "\n",
    "data.iloc[:,Index_last:]\n",
    "\n",
    "\n",
    "x=list(range(0,11,2))\n",
    "\n",
    "\n",
    "\n",
    "data.iloc[:,x]\n",
    "\n",
    "Even Columns Without Using Range - Code\n",
    "data.iloc[:, ::2]\n",
    "\n",
    "Pandas - Specific Row - Code\n",
    "data.iloc[1944]['Social support']\n",
    "\n",
    "data.loc[1944,'Social support']\n",
    "\n",
    "data.iloc[1944,4]\n",
    "\n",
    "Pandas - Column - Code\n",
    "data['year']\n",
    "\n",
    "Filtering Greater Than - Code\n",
    "data[data['year']>2018]\n",
    "\n",
    "Pandas - Filtering Greater Than with Fewer Rows - Code\n",
    "data[data['year']>2018][:9]\n",
    "\n",
    "\n",
    " nlargest - Code\n",
    "data.nlargest(10, 'Generosity')\n",
    "Pandas - nsmallest - Code\n",
    "data.nsmallest(10,'Social support')\n",
    "\n",
    "Pandas - Sort_Values Ascending - Code\n",
    "file.sort_values(by='year', ascending=True)\n",
    "\n",
    "Sort_Values for Smallest - Code\n",
    "file.sort_values(by='Generosity', ascending=True)[:5]\n",
    "\n",
    " Selecting a range of values - Code\n",
    "data.query('0.025< Generosity <0.028')\n",
    "\n",
    "\n",
    "Return Random Rows - Code\n",
    "data.sample(n=8)\n",
    "\n",
    "data.sample(frac=0.02)\n",
    "\n",
    "Pandas - Reset Index - Code\n",
    "x = data.query('0.025<Generosity<0.028')\n",
    "\n",
    "new_data = x.reset_index()\n",
    "\n",
    "new_data\n",
    "\n",
    " - Greater than 0.1 - Code\n",
    "data[data.Generosity>0.1]"
   ]
  }
 ],
 "metadata": {
  "kernelspec": {
   "display_name": "Python 3 (ipykernel)",
   "language": "python",
   "name": "python3"
  },
  "language_info": {
   "codemirror_mode": {
    "name": "ipython",
    "version": 3
   },
   "file_extension": ".py",
   "mimetype": "text/x-python",
   "name": "python",
   "nbconvert_exporter": "python",
   "pygments_lexer": "ipython3",
   "version": "3.11.3"
  }
 },
 "nbformat": 4,
 "nbformat_minor": 5
}
